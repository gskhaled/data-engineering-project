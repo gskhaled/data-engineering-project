{
 "metadata": {
  "language_info": {
   "codemirror_mode": {
    "name": "ipython",
    "version": 3
   },
   "file_extension": ".py",
   "mimetype": "text/x-python",
   "name": "python",
   "nbconvert_exporter": "python",
   "pygments_lexer": "ipython3",
   "version": "3.7.7-final"
  },
  "orig_nbformat": 2,
  "kernelspec": {
   "name": "python3",
   "display_name": "Python 3",
   "language": "python"
  }
 },
 "nbformat": 4,
 "nbformat_minor": 2,
 "cells": [
  {
   "source": [
    "# Data Engineering Project\n",
    "## Data Analyzers\n",
    "### Islam Nasr\n",
    "### Gaser Khaled\n",
    "### Kariman Hossam\n",
    "### Marwan Karim "
   ],
   "cell_type": "markdown",
   "metadata": {}
  },
  {
   "source": [
    "## Opening available datasets to check how is it organized\n",
    "Inspecting available datasets to get a view of the columns and rows."
   ],
   "cell_type": "markdown",
   "metadata": {}
  },
  {
   "cell_type": "code",
   "execution_count": 1,
   "metadata": {},
   "outputs": [],
   "source": [
    "import numpy as np\n",
    "import pandas as pd"
   ]
  },
  {
   "cell_type": "code",
   "execution_count": 2,
   "metadata": {},
   "outputs": [
    {
     "output_type": "execute_result",
     "data": {
      "text/plain": [
       "   Unnamed: 0            name   region        subregion  population  \\\n",
       "0           0     Afghanistan     Asia    Southern Asia    27657145   \n",
       "1           1   Åland Islands   Europe  Northern Europe       28875   \n",
       "2           2         Albania   Europe  Southern Europe     2886026   \n",
       "3           3         Algeria   Africa  Northern Africa    40400000   \n",
       "4           4  American Samoa  Oceania        Polynesia       57100   \n",
       "\n",
       "        area  gini Real Growth Rating(%)   Literacy Rate(%)  \\\n",
       "0   652230.0  27.8     3.1% (2013 est.).  28.1% (2000 est.)   \n",
       "1     1580.0   NaN                   NaN                NaN   \n",
       "2    28748.0  34.5      .7% (2013 est.).  98.7% (2011 est.)   \n",
       "3  2381741.0  35.3                 3.1%.                79%   \n",
       "4      199.0   NaN                   3%.    97% (1980 est.)   \n",
       "\n",
       "        Inflation(%)                                   Unemployement(%)  \n",
       "0  6.8% (2013 est.).                                   35% (2008 est.).  \n",
       "1                NaN                                                NaN  \n",
       "2  1.7% (2013 est.).  16.9% official rate (2013 est.). Note: These a...  \n",
       "3              3.9%.                                             10.3%.  \n",
       "4                NaN                                                NaN  "
      ],
      "text/html": "<div>\n<style scoped>\n    .dataframe tbody tr th:only-of-type {\n        vertical-align: middle;\n    }\n\n    .dataframe tbody tr th {\n        vertical-align: top;\n    }\n\n    .dataframe thead th {\n        text-align: right;\n    }\n</style>\n<table border=\"1\" class=\"dataframe\">\n  <thead>\n    <tr style=\"text-align: right;\">\n      <th></th>\n      <th>Unnamed: 0</th>\n      <th>name</th>\n      <th>region</th>\n      <th>subregion</th>\n      <th>population</th>\n      <th>area</th>\n      <th>gini</th>\n      <th>Real Growth Rating(%)</th>\n      <th>Literacy Rate(%)</th>\n      <th>Inflation(%)</th>\n      <th>Unemployement(%)</th>\n    </tr>\n  </thead>\n  <tbody>\n    <tr>\n      <th>0</th>\n      <td>0</td>\n      <td>Afghanistan</td>\n      <td>Asia</td>\n      <td>Southern Asia</td>\n      <td>27657145</td>\n      <td>652230.0</td>\n      <td>27.8</td>\n      <td>3.1% (2013 est.).</td>\n      <td>28.1% (2000 est.)</td>\n      <td>6.8% (2013 est.).</td>\n      <td>35% (2008 est.).</td>\n    </tr>\n    <tr>\n      <th>1</th>\n      <td>1</td>\n      <td>Åland Islands</td>\n      <td>Europe</td>\n      <td>Northern Europe</td>\n      <td>28875</td>\n      <td>1580.0</td>\n      <td>NaN</td>\n      <td>NaN</td>\n      <td>NaN</td>\n      <td>NaN</td>\n      <td>NaN</td>\n    </tr>\n    <tr>\n      <th>2</th>\n      <td>2</td>\n      <td>Albania</td>\n      <td>Europe</td>\n      <td>Southern Europe</td>\n      <td>2886026</td>\n      <td>28748.0</td>\n      <td>34.5</td>\n      <td>.7% (2013 est.).</td>\n      <td>98.7% (2011 est.)</td>\n      <td>1.7% (2013 est.).</td>\n      <td>16.9% official rate (2013 est.). Note: These a...</td>\n    </tr>\n    <tr>\n      <th>3</th>\n      <td>3</td>\n      <td>Algeria</td>\n      <td>Africa</td>\n      <td>Northern Africa</td>\n      <td>40400000</td>\n      <td>2381741.0</td>\n      <td>35.3</td>\n      <td>3.1%.</td>\n      <td>79%</td>\n      <td>3.9%.</td>\n      <td>10.3%.</td>\n    </tr>\n    <tr>\n      <th>4</th>\n      <td>4</td>\n      <td>American Samoa</td>\n      <td>Oceania</td>\n      <td>Polynesia</td>\n      <td>57100</td>\n      <td>199.0</td>\n      <td>NaN</td>\n      <td>3%.</td>\n      <td>97% (1980 est.)</td>\n      <td>NaN</td>\n      <td>NaN</td>\n    </tr>\n  </tbody>\n</table>\n</div>"
     },
     "metadata": {},
     "execution_count": 2
    }
   ],
   "source": [
    "df_countryData = pd.read_csv('./data/250 Country Data.csv')\n",
    "df_countryData.head(5)"
   ]
  },
  {
   "cell_type": "code",
   "execution_count": 3,
   "metadata": {},
   "outputs": [
    {
     "output_type": "execute_result",
     "data": {
      "text/plain": [
       "Index(['Unnamed: 0', 'Country', 'region', 'subregion', 'population', 'area',\n",
       "       'gini', 'Real Growth Rating(%)', 'Literacy Rate(%)', 'Inflation(%)',\n",
       "       'Unemployement(%)'],\n",
       "      dtype='object')"
      ]
     },
     "metadata": {},
     "execution_count": 3
    }
   ],
   "source": [
    "df_countryData.rename(columns={'name': 'Country'}, inplace=True)\n",
    "df_countryData.columns"
   ]
  },
  {
   "cell_type": "code",
   "execution_count": 4,
   "metadata": {},
   "outputs": [
    {
     "output_type": "execute_result",
     "data": {
      "text/plain": [
       "       Country  Year      Status  Life expectancy   Adult Mortality  \\\n",
       "0  Afghanistan  2015  Developing              65.0            263.0   \n",
       "1  Afghanistan  2014  Developing              59.9            271.0   \n",
       "2  Afghanistan  2013  Developing              59.9            268.0   \n",
       "3  Afghanistan  2012  Developing              59.5            272.0   \n",
       "4  Afghanistan  2011  Developing              59.2            275.0   \n",
       "\n",
       "   infant deaths  Alcohol  percentage expenditure  Hepatitis B  Measles   ...  \\\n",
       "0             62     0.01               71.279624         65.0      1154  ...   \n",
       "1             64     0.01               73.523582         62.0       492  ...   \n",
       "2             66     0.01               73.219243         64.0       430  ...   \n",
       "3             69     0.01               78.184215         67.0      2787  ...   \n",
       "4             71     0.01                7.097109         68.0      3013  ...   \n",
       "\n",
       "   Polio  Total expenditure  Diphtheria    HIV/AIDS         GDP  Population  \\\n",
       "0    6.0               8.16         65.0        0.1  584.259210  33736494.0   \n",
       "1   58.0               8.18         62.0        0.1  612.696514    327582.0   \n",
       "2   62.0               8.13         64.0        0.1  631.744976  31731688.0   \n",
       "3   67.0               8.52         67.0        0.1  669.959000   3696958.0   \n",
       "4   68.0               7.87         68.0        0.1   63.537231   2978599.0   \n",
       "\n",
       "    thinness  1-19 years   thinness 5-9 years  \\\n",
       "0                   17.2                 17.3   \n",
       "1                   17.5                 17.5   \n",
       "2                   17.7                 17.7   \n",
       "3                   17.9                 18.0   \n",
       "4                   18.2                 18.2   \n",
       "\n",
       "   Income composition of resources  Schooling  \n",
       "0                            0.479       10.1  \n",
       "1                            0.476       10.0  \n",
       "2                            0.470        9.9  \n",
       "3                            0.463        9.8  \n",
       "4                            0.454        9.5  \n",
       "\n",
       "[5 rows x 22 columns]"
      ],
      "text/html": "<div>\n<style scoped>\n    .dataframe tbody tr th:only-of-type {\n        vertical-align: middle;\n    }\n\n    .dataframe tbody tr th {\n        vertical-align: top;\n    }\n\n    .dataframe thead th {\n        text-align: right;\n    }\n</style>\n<table border=\"1\" class=\"dataframe\">\n  <thead>\n    <tr style=\"text-align: right;\">\n      <th></th>\n      <th>Country</th>\n      <th>Year</th>\n      <th>Status</th>\n      <th>Life expectancy</th>\n      <th>Adult Mortality</th>\n      <th>infant deaths</th>\n      <th>Alcohol</th>\n      <th>percentage expenditure</th>\n      <th>Hepatitis B</th>\n      <th>Measles</th>\n      <th>...</th>\n      <th>Polio</th>\n      <th>Total expenditure</th>\n      <th>Diphtheria</th>\n      <th>HIV/AIDS</th>\n      <th>GDP</th>\n      <th>Population</th>\n      <th>thinness  1-19 years</th>\n      <th>thinness 5-9 years</th>\n      <th>Income composition of resources</th>\n      <th>Schooling</th>\n    </tr>\n  </thead>\n  <tbody>\n    <tr>\n      <th>0</th>\n      <td>Afghanistan</td>\n      <td>2015</td>\n      <td>Developing</td>\n      <td>65.0</td>\n      <td>263.0</td>\n      <td>62</td>\n      <td>0.01</td>\n      <td>71.279624</td>\n      <td>65.0</td>\n      <td>1154</td>\n      <td>...</td>\n      <td>6.0</td>\n      <td>8.16</td>\n      <td>65.0</td>\n      <td>0.1</td>\n      <td>584.259210</td>\n      <td>33736494.0</td>\n      <td>17.2</td>\n      <td>17.3</td>\n      <td>0.479</td>\n      <td>10.1</td>\n    </tr>\n    <tr>\n      <th>1</th>\n      <td>Afghanistan</td>\n      <td>2014</td>\n      <td>Developing</td>\n      <td>59.9</td>\n      <td>271.0</td>\n      <td>64</td>\n      <td>0.01</td>\n      <td>73.523582</td>\n      <td>62.0</td>\n      <td>492</td>\n      <td>...</td>\n      <td>58.0</td>\n      <td>8.18</td>\n      <td>62.0</td>\n      <td>0.1</td>\n      <td>612.696514</td>\n      <td>327582.0</td>\n      <td>17.5</td>\n      <td>17.5</td>\n      <td>0.476</td>\n      <td>10.0</td>\n    </tr>\n    <tr>\n      <th>2</th>\n      <td>Afghanistan</td>\n      <td>2013</td>\n      <td>Developing</td>\n      <td>59.9</td>\n      <td>268.0</td>\n      <td>66</td>\n      <td>0.01</td>\n      <td>73.219243</td>\n      <td>64.0</td>\n      <td>430</td>\n      <td>...</td>\n      <td>62.0</td>\n      <td>8.13</td>\n      <td>64.0</td>\n      <td>0.1</td>\n      <td>631.744976</td>\n      <td>31731688.0</td>\n      <td>17.7</td>\n      <td>17.7</td>\n      <td>0.470</td>\n      <td>9.9</td>\n    </tr>\n    <tr>\n      <th>3</th>\n      <td>Afghanistan</td>\n      <td>2012</td>\n      <td>Developing</td>\n      <td>59.5</td>\n      <td>272.0</td>\n      <td>69</td>\n      <td>0.01</td>\n      <td>78.184215</td>\n      <td>67.0</td>\n      <td>2787</td>\n      <td>...</td>\n      <td>67.0</td>\n      <td>8.52</td>\n      <td>67.0</td>\n      <td>0.1</td>\n      <td>669.959000</td>\n      <td>3696958.0</td>\n      <td>17.9</td>\n      <td>18.0</td>\n      <td>0.463</td>\n      <td>9.8</td>\n    </tr>\n    <tr>\n      <th>4</th>\n      <td>Afghanistan</td>\n      <td>2011</td>\n      <td>Developing</td>\n      <td>59.2</td>\n      <td>275.0</td>\n      <td>71</td>\n      <td>0.01</td>\n      <td>7.097109</td>\n      <td>68.0</td>\n      <td>3013</td>\n      <td>...</td>\n      <td>68.0</td>\n      <td>7.87</td>\n      <td>68.0</td>\n      <td>0.1</td>\n      <td>63.537231</td>\n      <td>2978599.0</td>\n      <td>18.2</td>\n      <td>18.2</td>\n      <td>0.454</td>\n      <td>9.5</td>\n    </tr>\n  </tbody>\n</table>\n<p>5 rows × 22 columns</p>\n</div>"
     },
     "metadata": {},
     "execution_count": 4
    }
   ],
   "source": [
    "df_lifeExpectancy = pd.read_csv('./data/Life Expectancy Data.csv')\n",
    "df_lifeExpectancy.head(5)"
   ]
  },
  {
   "cell_type": "code",
   "execution_count": 5,
   "metadata": {},
   "outputs": [
    {
     "output_type": "execute_result",
     "data": {
      "text/plain": [
       "Index(['Country', 'Region', 'Happiness Rank', 'Happiness Score',\n",
       "       'Standard Error', 'Economy (GDP per Capita)', 'Family',\n",
       "       'Health (Life Expectancy)', 'Freedom', 'Trust (Government Corruption)',\n",
       "       'Generosity', 'Dystopia Residual'],\n",
       "      dtype='object')"
      ]
     },
     "metadata": {},
     "execution_count": 5
    }
   ],
   "source": [
    "df_happiness2015 = pd.read_csv('./data/Happiness_Dataset/2015.csv')\n",
    "df_happiness2015.head(5)\n",
    "df_happiness2015.columns"
   ]
  },
  {
   "cell_type": "code",
   "execution_count": 6,
   "metadata": {},
   "outputs": [
    {
     "output_type": "execute_result",
     "data": {
      "text/plain": [
       "Index(['Country', 'Region', 'Happiness_Rank', 'Happiness_Score',\n",
       "       'Standard_Error', 'Economy_GDP_per_Capita', 'Family',\n",
       "       'Health_Life_Expectancy', 'Freedom', 'Trust_Government_Corruption',\n",
       "       'Generosity', 'Dystopia_Residual'],\n",
       "      dtype='object')"
      ]
     },
     "metadata": {},
     "execution_count": 6
    }
   ],
   "source": [
    "df_happiness2015.rename(columns={'Happiness Rank': 'Happiness_Rank',  'Happiness Score': 'Happiness_Score' , 'Standard Error': 'Standard_Error', 'Economy (GDP per Capita)': 'Economy_GDP_per_Capita',  'Health (Life Expectancy)': 'Health_Life_Expectancy', 'Trust (Government Corruption)': 'Trust_Government_Corruption','Dystopia Residual': 'Dystopia_Residual'}, inplace=True)\n",
    "df_happiness2015.columns\n"
   ]
  },
  {
   "cell_type": "code",
   "execution_count": 7,
   "metadata": {},
   "outputs": [
    {
     "output_type": "execute_result",
     "data": {
      "text/plain": [
       "Index(['Country', 'Region', 'Happiness Rank', 'Happiness Score',\n",
       "       'Lower Confidence Interval', 'Upper Confidence Interval',\n",
       "       'Economy (GDP per Capita)', 'Family', 'Health (Life Expectancy)',\n",
       "       'Freedom', 'Trust (Government Corruption)', 'Generosity',\n",
       "       'Dystopia Residual'],\n",
       "      dtype='object')"
      ]
     },
     "metadata": {},
     "execution_count": 7
    }
   ],
   "source": [
    "df_happiness2016 = pd.read_csv('./data/Happiness_Dataset/2016.csv')\n",
    "df_happiness2016.head(5)\n",
    "df_happiness2016.columns"
   ]
  },
  {
   "cell_type": "code",
   "execution_count": 8,
   "metadata": {},
   "outputs": [
    {
     "output_type": "execute_result",
     "data": {
      "text/plain": [
       "Index(['Country', 'Region', 'Happiness_Rank', 'Happiness_Score',\n",
       "       'Lower_Confidence_Interval', 'Upper_Confidence_Interval',\n",
       "       'Economy_GDP_per_Capita', 'Family', 'Health_Life_Expectancy', 'Freedom',\n",
       "       'Trust_Government_Corruption', 'Generosity', 'Dystopia_Residual'],\n",
       "      dtype='object')"
      ]
     },
     "metadata": {},
     "execution_count": 8
    }
   ],
   "source": [
    "df_happiness2016.rename(columns={'Happiness Rank': 'Happiness_Rank',  'Happiness Score': 'Happiness_Score' ,'Lower Confidence Interval': 'Lower_Confidence_Interval', 'Upper Confidence Interval': 'Upper_Confidence_Interval', 'Economy (GDP per Capita)': 'Economy_GDP_per_Capita',  'Health (Life Expectancy)': 'Health_Life_Expectancy', 'Trust (Government Corruption)': 'Trust_Government_Corruption','Dystopia Residual': 'Dystopia_Residual'}, inplace=True)\n",
    "df_happiness2016.columns\n"
   ]
  },
  {
   "cell_type": "code",
   "execution_count": 9,
   "metadata": {},
   "outputs": [
    {
     "output_type": "execute_result",
     "data": {
      "text/plain": [
       "Index(['Country', 'Happiness.Rank', 'Happiness.Score', 'Whisker.high',\n",
       "       'Whisker.low', 'Economy..GDP.per.Capita.', 'Family',\n",
       "       'Health..Life.Expectancy.', 'Freedom', 'Generosity',\n",
       "       'Trust..Government.Corruption.', 'Dystopia.Residual'],\n",
       "      dtype='object')"
      ]
     },
     "metadata": {},
     "execution_count": 9
    }
   ],
   "source": [
    "df_happiness2017 = pd.read_csv('./data/Happiness_Dataset/2017.csv')\n",
    "df_happiness2017.head(5)\n",
    "df_happiness2017.columns"
   ]
  },
  {
   "cell_type": "code",
   "execution_count": 10,
   "metadata": {},
   "outputs": [
    {
     "output_type": "execute_result",
     "data": {
      "text/plain": [
       "Index(['Country', 'Happiness_Rank', 'Happiness_Score',\n",
       "       'Upper_Confidence_Interval', 'Lower_Confidence_Interval',\n",
       "       'Economy_GDP_per_Capita', 'Family', 'Health_Life_Expectancy', 'Freedom',\n",
       "       'Generosity', 'Trust_Government_Corruption', 'Dystopia_Residual'],\n",
       "      dtype='object')"
      ]
     },
     "metadata": {},
     "execution_count": 10
    }
   ],
   "source": [
    "df_happiness2017.rename(columns={'Happiness.Rank': 'Happiness_Rank',  'Happiness.Score': 'Happiness_Score' , 'Whisker.low': 'Lower_Confidence_Interval', 'Whisker.high': 'Upper_Confidence_Interval', 'Economy..GDP.per.Capita.': 'Economy_GDP_per_Capita',  'Health..Life.Expectancy.': 'Health_Life_Expectancy', 'Trust..Government.Corruption.': 'Trust_Government_Corruption','Dystopia.Residual': 'Dystopia_Residual'}, inplace=True)\n",
    "df_happiness2017.columns"
   ]
  },
  {
   "cell_type": "code",
   "execution_count": 11,
   "metadata": {},
   "outputs": [
    {
     "output_type": "execute_result",
     "data": {
      "text/plain": [
       "Index(['Overall rank', 'Country or region', 'Score', 'GDP per capita',\n",
       "       'Social support', 'Healthy life expectancy',\n",
       "       'Freedom to make life choices', 'Generosity',\n",
       "       'Perceptions of corruption'],\n",
       "      dtype='object')"
      ]
     },
     "metadata": {},
     "execution_count": 11
    }
   ],
   "source": [
    "df_happiness2018 = pd.read_csv('./data/Happiness_Dataset/2018.csv')\n",
    "df_happiness2018.head(5)\n",
    "df_happiness2018.columns"
   ]
  },
  {
   "cell_type": "code",
   "execution_count": 12,
   "metadata": {},
   "outputs": [
    {
     "output_type": "execute_result",
     "data": {
      "text/plain": [
       "Index(['Happiness_Rank', 'Country', 'Happiness_Score',\n",
       "       'Economy_GDP_per_Capita', 'Family', 'Health_Life_Expectancy', 'Freedom',\n",
       "       'Generosity', 'Trust_Government_Corruption'],\n",
       "      dtype='object')"
      ]
     },
     "metadata": {},
     "execution_count": 12
    }
   ],
   "source": [
    "df_happiness2018.rename(columns={'Overall rank': 'Happiness_Rank','Country or region':'Country',  'Score': 'Happiness_Score' , 'GDP per capita': 'Economy_GDP_per_Capita',  'Healthy life expectancy': 'Health_Life_Expectancy','Freedom to make life choices':'Freedom', 'Perceptions of corruption': 'Trust_Government_Corruption','Social support':'Family'}, inplace=True)\n",
    "df_happiness2018.columns"
   ]
  },
  {
   "cell_type": "code",
   "execution_count": 13,
   "metadata": {},
   "outputs": [
    {
     "output_type": "execute_result",
     "data": {
      "text/plain": [
       "Index(['Country', 'Region', 'Happiness Rank', 'Happiness Score',\n",
       "       'Standard Error', 'Economy (GDP per Capita)', 'Family',\n",
       "       'Health (Life Expectancy)', 'Freedom', 'Trust (Government Corruption)',\n",
       "       'Generosity', 'Dystopia Residual'],\n",
       "      dtype='object')"
      ]
     },
     "metadata": {},
     "execution_count": 13
    }
   ],
   "source": [
    "df_happiness2019 = pd.read_csv('./data/Happiness_Dataset/2015.csv')\n",
    "df_happiness2019.head(5)\n",
    "df_happiness2019.columns"
   ]
  },
  {
   "cell_type": "code",
   "execution_count": 14,
   "metadata": {},
   "outputs": [
    {
     "output_type": "execute_result",
     "data": {
      "text/plain": [
       "Index(['Country', 'Region', 'Happiness_Rank', 'Happiness_Score',\n",
       "       'Standard_Error', 'Economy_GDP_per_Capita', 'Family',\n",
       "       'Health_Life_Expectancy', 'Freedom', 'Trust_Government_Corruption',\n",
       "       'Generosity', 'Dystopia_Residual'],\n",
       "      dtype='object')"
      ]
     },
     "metadata": {},
     "execution_count": 14
    }
   ],
   "source": [
    "df_happiness2019.rename(columns={'Happiness Rank': 'Happiness_Rank','Happiness Score': 'Happiness_Score' ,'Standard Error':'Standard_Error', 'Economy (GDP per Capita)': 'Economy_GDP_per_Capita',  'Health (Life Expectancy)': 'Health_Life_Expectancy', 'Trust (Government Corruption)': 'Trust_Government_Corruption','Dystopia Residual': 'Dystopia_Residual'}, inplace=True)\n",
    "df_happiness2019.columns"
   ]
  },
  {
   "cell_type": "code",
   "execution_count": 15,
   "metadata": {},
   "outputs": [],
   "source": [
    "df_happiness2015[\"Year\"]=2015\n",
    "df_happiness2016[\"Year\"]=2016\n",
    "df_happiness2017[\"Year\"]=2017\n",
    "df_happiness2018[\"Year\"]=2018\n",
    "df_happiness2019[\"Year\"]=2019"
   ]
  },
  {
   "cell_type": "code",
   "execution_count": 16,
   "metadata": {},
   "outputs": [],
   "source": [
    "df_happiness=pd.concat([df_happiness2015,df_happiness2016,df_happiness2017,df_happiness2018,df_happiness2019])"
   ]
  },
  {
   "cell_type": "code",
   "execution_count": 17,
   "metadata": {},
   "outputs": [],
   "source": [
    "df_happiness.sort_values(by=['Country','Year'], inplace=True)"
   ]
  },
  {
   "cell_type": "code",
   "execution_count": 18,
   "metadata": {},
   "outputs": [
    {
     "output_type": "execute_result",
     "data": {
      "text/plain": [
       "         Country              Region  Happiness_Rank  Happiness_Score  \\\n",
       "152  Afghanistan       Southern Asia             153            3.575   \n",
       "153  Afghanistan       Southern Asia             154            3.360   \n",
       "140  Afghanistan                 NaN             141            3.794   \n",
       "144  Afghanistan                 NaN             145            3.632   \n",
       "152  Afghanistan       Southern Asia             153            3.575   \n",
       "..           ...                 ...             ...              ...   \n",
       "114     Zimbabwe  Sub-Saharan Africa             115            4.610   \n",
       "130     Zimbabwe  Sub-Saharan Africa             131            4.193   \n",
       "137     Zimbabwe                 NaN             138            3.875   \n",
       "143     Zimbabwe                 NaN             144            3.692   \n",
       "114     Zimbabwe  Sub-Saharan Africa             115            4.610   \n",
       "\n",
       "     Standard_Error  Economy_GDP_per_Capita    Family  Health_Life_Expectancy  \\\n",
       "152         0.03084                0.319820  0.302850                0.303350   \n",
       "153             NaN                0.382270  0.110370                0.173440   \n",
       "140             NaN                0.401477  0.581543                0.180747   \n",
       "144             NaN                0.332000  0.537000                0.255000   \n",
       "152         0.03084                0.319820  0.302850                0.303350   \n",
       "..              ...                     ...       ...                     ...   \n",
       "114         0.04290                0.271000  1.032760                0.334750   \n",
       "130             NaN                0.350410  0.714780                0.159500   \n",
       "137             NaN                0.375847  1.083096                0.196764   \n",
       "143             NaN                0.357000  1.094000                0.248000   \n",
       "114         0.04290                0.271000  1.032760                0.334750   \n",
       "\n",
       "      Freedom  Trust_Government_Corruption  Generosity  Dystopia_Residual  \\\n",
       "152  0.234140                     0.097190    0.365100           1.952100   \n",
       "153  0.164300                     0.071120    0.312680           2.145580   \n",
       "140  0.106180                     0.061158    0.311871           2.150801   \n",
       "144  0.085000                     0.036000    0.191000                NaN   \n",
       "152  0.234140                     0.097190    0.365100           1.952100   \n",
       "..        ...                          ...         ...                ...   \n",
       "114  0.258610                     0.080790    0.189870           2.441910   \n",
       "130  0.254290                     0.085820    0.185030           2.442700   \n",
       "137  0.336384                     0.095375    0.189143           1.597970   \n",
       "143  0.406000                     0.099000    0.132000                NaN   \n",
       "114  0.258610                     0.080790    0.189870           2.441910   \n",
       "\n",
       "     Year  Lower_Confidence_Interval  Upper_Confidence_Interval  \n",
       "152  2015                        NaN                        NaN  \n",
       "153  2016                   3.288000                   3.432000  \n",
       "140  2017                   3.714338                   3.873661  \n",
       "144  2018                        NaN                        NaN  \n",
       "152  2019                        NaN                        NaN  \n",
       "..    ...                        ...                        ...  \n",
       "114  2015                        NaN                        NaN  \n",
       "130  2016                   4.101000                   4.285000  \n",
       "137  2017                   3.771300                   3.978700  \n",
       "143  2018                        NaN                        NaN  \n",
       "114  2019                        NaN                        NaN  \n",
       "\n",
       "[784 rows x 15 columns]"
      ],
      "text/html": "<div>\n<style scoped>\n    .dataframe tbody tr th:only-of-type {\n        vertical-align: middle;\n    }\n\n    .dataframe tbody tr th {\n        vertical-align: top;\n    }\n\n    .dataframe thead th {\n        text-align: right;\n    }\n</style>\n<table border=\"1\" class=\"dataframe\">\n  <thead>\n    <tr style=\"text-align: right;\">\n      <th></th>\n      <th>Country</th>\n      <th>Region</th>\n      <th>Happiness_Rank</th>\n      <th>Happiness_Score</th>\n      <th>Standard_Error</th>\n      <th>Economy_GDP_per_Capita</th>\n      <th>Family</th>\n      <th>Health_Life_Expectancy</th>\n      <th>Freedom</th>\n      <th>Trust_Government_Corruption</th>\n      <th>Generosity</th>\n      <th>Dystopia_Residual</th>\n      <th>Year</th>\n      <th>Lower_Confidence_Interval</th>\n      <th>Upper_Confidence_Interval</th>\n    </tr>\n  </thead>\n  <tbody>\n    <tr>\n      <th>152</th>\n      <td>Afghanistan</td>\n      <td>Southern Asia</td>\n      <td>153</td>\n      <td>3.575</td>\n      <td>0.03084</td>\n      <td>0.319820</td>\n      <td>0.302850</td>\n      <td>0.303350</td>\n      <td>0.234140</td>\n      <td>0.097190</td>\n      <td>0.365100</td>\n      <td>1.952100</td>\n      <td>2015</td>\n      <td>NaN</td>\n      <td>NaN</td>\n    </tr>\n    <tr>\n      <th>153</th>\n      <td>Afghanistan</td>\n      <td>Southern Asia</td>\n      <td>154</td>\n      <td>3.360</td>\n      <td>NaN</td>\n      <td>0.382270</td>\n      <td>0.110370</td>\n      <td>0.173440</td>\n      <td>0.164300</td>\n      <td>0.071120</td>\n      <td>0.312680</td>\n      <td>2.145580</td>\n      <td>2016</td>\n      <td>3.288000</td>\n      <td>3.432000</td>\n    </tr>\n    <tr>\n      <th>140</th>\n      <td>Afghanistan</td>\n      <td>NaN</td>\n      <td>141</td>\n      <td>3.794</td>\n      <td>NaN</td>\n      <td>0.401477</td>\n      <td>0.581543</td>\n      <td>0.180747</td>\n      <td>0.106180</td>\n      <td>0.061158</td>\n      <td>0.311871</td>\n      <td>2.150801</td>\n      <td>2017</td>\n      <td>3.714338</td>\n      <td>3.873661</td>\n    </tr>\n    <tr>\n      <th>144</th>\n      <td>Afghanistan</td>\n      <td>NaN</td>\n      <td>145</td>\n      <td>3.632</td>\n      <td>NaN</td>\n      <td>0.332000</td>\n      <td>0.537000</td>\n      <td>0.255000</td>\n      <td>0.085000</td>\n      <td>0.036000</td>\n      <td>0.191000</td>\n      <td>NaN</td>\n      <td>2018</td>\n      <td>NaN</td>\n      <td>NaN</td>\n    </tr>\n    <tr>\n      <th>152</th>\n      <td>Afghanistan</td>\n      <td>Southern Asia</td>\n      <td>153</td>\n      <td>3.575</td>\n      <td>0.03084</td>\n      <td>0.319820</td>\n      <td>0.302850</td>\n      <td>0.303350</td>\n      <td>0.234140</td>\n      <td>0.097190</td>\n      <td>0.365100</td>\n      <td>1.952100</td>\n      <td>2019</td>\n      <td>NaN</td>\n      <td>NaN</td>\n    </tr>\n    <tr>\n      <th>...</th>\n      <td>...</td>\n      <td>...</td>\n      <td>...</td>\n      <td>...</td>\n      <td>...</td>\n      <td>...</td>\n      <td>...</td>\n      <td>...</td>\n      <td>...</td>\n      <td>...</td>\n      <td>...</td>\n      <td>...</td>\n      <td>...</td>\n      <td>...</td>\n      <td>...</td>\n    </tr>\n    <tr>\n      <th>114</th>\n      <td>Zimbabwe</td>\n      <td>Sub-Saharan Africa</td>\n      <td>115</td>\n      <td>4.610</td>\n      <td>0.04290</td>\n      <td>0.271000</td>\n      <td>1.032760</td>\n      <td>0.334750</td>\n      <td>0.258610</td>\n      <td>0.080790</td>\n      <td>0.189870</td>\n      <td>2.441910</td>\n      <td>2015</td>\n      <td>NaN</td>\n      <td>NaN</td>\n    </tr>\n    <tr>\n      <th>130</th>\n      <td>Zimbabwe</td>\n      <td>Sub-Saharan Africa</td>\n      <td>131</td>\n      <td>4.193</td>\n      <td>NaN</td>\n      <td>0.350410</td>\n      <td>0.714780</td>\n      <td>0.159500</td>\n      <td>0.254290</td>\n      <td>0.085820</td>\n      <td>0.185030</td>\n      <td>2.442700</td>\n      <td>2016</td>\n      <td>4.101000</td>\n      <td>4.285000</td>\n    </tr>\n    <tr>\n      <th>137</th>\n      <td>Zimbabwe</td>\n      <td>NaN</td>\n      <td>138</td>\n      <td>3.875</td>\n      <td>NaN</td>\n      <td>0.375847</td>\n      <td>1.083096</td>\n      <td>0.196764</td>\n      <td>0.336384</td>\n      <td>0.095375</td>\n      <td>0.189143</td>\n      <td>1.597970</td>\n      <td>2017</td>\n      <td>3.771300</td>\n      <td>3.978700</td>\n    </tr>\n    <tr>\n      <th>143</th>\n      <td>Zimbabwe</td>\n      <td>NaN</td>\n      <td>144</td>\n      <td>3.692</td>\n      <td>NaN</td>\n      <td>0.357000</td>\n      <td>1.094000</td>\n      <td>0.248000</td>\n      <td>0.406000</td>\n      <td>0.099000</td>\n      <td>0.132000</td>\n      <td>NaN</td>\n      <td>2018</td>\n      <td>NaN</td>\n      <td>NaN</td>\n    </tr>\n    <tr>\n      <th>114</th>\n      <td>Zimbabwe</td>\n      <td>Sub-Saharan Africa</td>\n      <td>115</td>\n      <td>4.610</td>\n      <td>0.04290</td>\n      <td>0.271000</td>\n      <td>1.032760</td>\n      <td>0.334750</td>\n      <td>0.258610</td>\n      <td>0.080790</td>\n      <td>0.189870</td>\n      <td>2.441910</td>\n      <td>2019</td>\n      <td>NaN</td>\n      <td>NaN</td>\n    </tr>\n  </tbody>\n</table>\n<p>784 rows × 15 columns</p>\n</div>"
     },
     "metadata": {},
     "execution_count": 18
    }
   ],
   "source": [
    "df_happiness"
   ]
  },
  {
   "source": [
    "Change names same of countries with different names in different years to same names"
   ],
   "cell_type": "markdown",
   "metadata": {}
  },
  {
   "cell_type": "code",
   "execution_count": 19,
   "metadata": {},
   "outputs": [],
   "source": [
    "df_happiness['Country']=df_happiness['Country'].replace({'&':'and'},regex=True)\n",
    "df_happiness['Country']=df_happiness['Country'].replace({'Northern Cyprus':'North Cyprus','Somaliland region':'Somaliland Region','Taiwan Province of China':'Taiwan','Hong Kong S.A.R., China':'Hong Kong'})\n"
   ]
  },
  {
   "cell_type": "code",
   "execution_count": 20,
   "metadata": {},
   "outputs": [
    {
     "output_type": "execute_result",
     "data": {
      "text/plain": [
       "          Country  Year      Status  Life expectancy   Adult Mortality  \\\n",
       "0     Afghanistan  2015  Developing              65.0            263.0   \n",
       "1     Afghanistan  2014  Developing              59.9            271.0   \n",
       "2     Afghanistan  2013  Developing              59.9            268.0   \n",
       "3     Afghanistan  2012  Developing              59.5            272.0   \n",
       "4     Afghanistan  2011  Developing              59.2            275.0   \n",
       "...           ...   ...         ...               ...              ...   \n",
       "2933     Zimbabwe  2004  Developing              44.3            723.0   \n",
       "2934     Zimbabwe  2003  Developing              44.5            715.0   \n",
       "2935     Zimbabwe  2002  Developing              44.8             73.0   \n",
       "2936     Zimbabwe  2001  Developing              45.3            686.0   \n",
       "2937     Zimbabwe  2000  Developing              46.0            665.0   \n",
       "\n",
       "      infant deaths  Alcohol  percentage expenditure  Hepatitis B  Measles   \\\n",
       "0                62     0.01               71.279624         65.0      1154   \n",
       "1                64     0.01               73.523582         62.0       492   \n",
       "2                66     0.01               73.219243         64.0       430   \n",
       "3                69     0.01               78.184215         67.0      2787   \n",
       "4                71     0.01                7.097109         68.0      3013   \n",
       "...             ...      ...                     ...          ...       ...   \n",
       "2933             27     4.36                0.000000         68.0        31   \n",
       "2934             26     4.06                0.000000          7.0       998   \n",
       "2935             25     4.43                0.000000         73.0       304   \n",
       "2936             25     1.72                0.000000         76.0       529   \n",
       "2937             24     1.68                0.000000         79.0      1483   \n",
       "\n",
       "      ...  Polio  Total expenditure  Diphtheria    HIV/AIDS         GDP  \\\n",
       "0     ...    6.0               8.16         65.0        0.1  584.259210   \n",
       "1     ...   58.0               8.18         62.0        0.1  612.696514   \n",
       "2     ...   62.0               8.13         64.0        0.1  631.744976   \n",
       "3     ...   67.0               8.52         67.0        0.1  669.959000   \n",
       "4     ...   68.0               7.87         68.0        0.1   63.537231   \n",
       "...   ...    ...                ...          ...        ...         ...   \n",
       "2933  ...   67.0               7.13         65.0       33.6  454.366654   \n",
       "2934  ...    7.0               6.52         68.0       36.7  453.351155   \n",
       "2935  ...   73.0               6.53         71.0       39.8   57.348340   \n",
       "2936  ...   76.0               6.16         75.0       42.1  548.587312   \n",
       "2937  ...   78.0               7.10         78.0       43.5  547.358879   \n",
       "\n",
       "      Population   thinness  1-19 years   thinness 5-9 years  \\\n",
       "0     33736494.0                   17.2                 17.3   \n",
       "1       327582.0                   17.5                 17.5   \n",
       "2     31731688.0                   17.7                 17.7   \n",
       "3      3696958.0                   17.9                 18.0   \n",
       "4      2978599.0                   18.2                 18.2   \n",
       "...          ...                    ...                  ...   \n",
       "2933  12777511.0                    9.4                  9.4   \n",
       "2934  12633897.0                    9.8                  9.9   \n",
       "2935    125525.0                    1.2                  1.3   \n",
       "2936  12366165.0                    1.6                  1.7   \n",
       "2937  12222251.0                   11.0                 11.2   \n",
       "\n",
       "      Income composition of resources  Schooling  \n",
       "0                               0.479       10.1  \n",
       "1                               0.476       10.0  \n",
       "2                               0.470        9.9  \n",
       "3                               0.463        9.8  \n",
       "4                               0.454        9.5  \n",
       "...                               ...        ...  \n",
       "2933                            0.407        9.2  \n",
       "2934                            0.418        9.5  \n",
       "2935                            0.427       10.0  \n",
       "2936                            0.427        9.8  \n",
       "2937                            0.434        9.8  \n",
       "\n",
       "[2938 rows x 22 columns]"
      ],
      "text/html": "<div>\n<style scoped>\n    .dataframe tbody tr th:only-of-type {\n        vertical-align: middle;\n    }\n\n    .dataframe tbody tr th {\n        vertical-align: top;\n    }\n\n    .dataframe thead th {\n        text-align: right;\n    }\n</style>\n<table border=\"1\" class=\"dataframe\">\n  <thead>\n    <tr style=\"text-align: right;\">\n      <th></th>\n      <th>Country</th>\n      <th>Year</th>\n      <th>Status</th>\n      <th>Life expectancy</th>\n      <th>Adult Mortality</th>\n      <th>infant deaths</th>\n      <th>Alcohol</th>\n      <th>percentage expenditure</th>\n      <th>Hepatitis B</th>\n      <th>Measles</th>\n      <th>...</th>\n      <th>Polio</th>\n      <th>Total expenditure</th>\n      <th>Diphtheria</th>\n      <th>HIV/AIDS</th>\n      <th>GDP</th>\n      <th>Population</th>\n      <th>thinness  1-19 years</th>\n      <th>thinness 5-9 years</th>\n      <th>Income composition of resources</th>\n      <th>Schooling</th>\n    </tr>\n  </thead>\n  <tbody>\n    <tr>\n      <th>0</th>\n      <td>Afghanistan</td>\n      <td>2015</td>\n      <td>Developing</td>\n      <td>65.0</td>\n      <td>263.0</td>\n      <td>62</td>\n      <td>0.01</td>\n      <td>71.279624</td>\n      <td>65.0</td>\n      <td>1154</td>\n      <td>...</td>\n      <td>6.0</td>\n      <td>8.16</td>\n      <td>65.0</td>\n      <td>0.1</td>\n      <td>584.259210</td>\n      <td>33736494.0</td>\n      <td>17.2</td>\n      <td>17.3</td>\n      <td>0.479</td>\n      <td>10.1</td>\n    </tr>\n    <tr>\n      <th>1</th>\n      <td>Afghanistan</td>\n      <td>2014</td>\n      <td>Developing</td>\n      <td>59.9</td>\n      <td>271.0</td>\n      <td>64</td>\n      <td>0.01</td>\n      <td>73.523582</td>\n      <td>62.0</td>\n      <td>492</td>\n      <td>...</td>\n      <td>58.0</td>\n      <td>8.18</td>\n      <td>62.0</td>\n      <td>0.1</td>\n      <td>612.696514</td>\n      <td>327582.0</td>\n      <td>17.5</td>\n      <td>17.5</td>\n      <td>0.476</td>\n      <td>10.0</td>\n    </tr>\n    <tr>\n      <th>2</th>\n      <td>Afghanistan</td>\n      <td>2013</td>\n      <td>Developing</td>\n      <td>59.9</td>\n      <td>268.0</td>\n      <td>66</td>\n      <td>0.01</td>\n      <td>73.219243</td>\n      <td>64.0</td>\n      <td>430</td>\n      <td>...</td>\n      <td>62.0</td>\n      <td>8.13</td>\n      <td>64.0</td>\n      <td>0.1</td>\n      <td>631.744976</td>\n      <td>31731688.0</td>\n      <td>17.7</td>\n      <td>17.7</td>\n      <td>0.470</td>\n      <td>9.9</td>\n    </tr>\n    <tr>\n      <th>3</th>\n      <td>Afghanistan</td>\n      <td>2012</td>\n      <td>Developing</td>\n      <td>59.5</td>\n      <td>272.0</td>\n      <td>69</td>\n      <td>0.01</td>\n      <td>78.184215</td>\n      <td>67.0</td>\n      <td>2787</td>\n      <td>...</td>\n      <td>67.0</td>\n      <td>8.52</td>\n      <td>67.0</td>\n      <td>0.1</td>\n      <td>669.959000</td>\n      <td>3696958.0</td>\n      <td>17.9</td>\n      <td>18.0</td>\n      <td>0.463</td>\n      <td>9.8</td>\n    </tr>\n    <tr>\n      <th>4</th>\n      <td>Afghanistan</td>\n      <td>2011</td>\n      <td>Developing</td>\n      <td>59.2</td>\n      <td>275.0</td>\n      <td>71</td>\n      <td>0.01</td>\n      <td>7.097109</td>\n      <td>68.0</td>\n      <td>3013</td>\n      <td>...</td>\n      <td>68.0</td>\n      <td>7.87</td>\n      <td>68.0</td>\n      <td>0.1</td>\n      <td>63.537231</td>\n      <td>2978599.0</td>\n      <td>18.2</td>\n      <td>18.2</td>\n      <td>0.454</td>\n      <td>9.5</td>\n    </tr>\n    <tr>\n      <th>...</th>\n      <td>...</td>\n      <td>...</td>\n      <td>...</td>\n      <td>...</td>\n      <td>...</td>\n      <td>...</td>\n      <td>...</td>\n      <td>...</td>\n      <td>...</td>\n      <td>...</td>\n      <td>...</td>\n      <td>...</td>\n      <td>...</td>\n      <td>...</td>\n      <td>...</td>\n      <td>...</td>\n      <td>...</td>\n      <td>...</td>\n      <td>...</td>\n      <td>...</td>\n      <td>...</td>\n    </tr>\n    <tr>\n      <th>2933</th>\n      <td>Zimbabwe</td>\n      <td>2004</td>\n      <td>Developing</td>\n      <td>44.3</td>\n      <td>723.0</td>\n      <td>27</td>\n      <td>4.36</td>\n      <td>0.000000</td>\n      <td>68.0</td>\n      <td>31</td>\n      <td>...</td>\n      <td>67.0</td>\n      <td>7.13</td>\n      <td>65.0</td>\n      <td>33.6</td>\n      <td>454.366654</td>\n      <td>12777511.0</td>\n      <td>9.4</td>\n      <td>9.4</td>\n      <td>0.407</td>\n      <td>9.2</td>\n    </tr>\n    <tr>\n      <th>2934</th>\n      <td>Zimbabwe</td>\n      <td>2003</td>\n      <td>Developing</td>\n      <td>44.5</td>\n      <td>715.0</td>\n      <td>26</td>\n      <td>4.06</td>\n      <td>0.000000</td>\n      <td>7.0</td>\n      <td>998</td>\n      <td>...</td>\n      <td>7.0</td>\n      <td>6.52</td>\n      <td>68.0</td>\n      <td>36.7</td>\n      <td>453.351155</td>\n      <td>12633897.0</td>\n      <td>9.8</td>\n      <td>9.9</td>\n      <td>0.418</td>\n      <td>9.5</td>\n    </tr>\n    <tr>\n      <th>2935</th>\n      <td>Zimbabwe</td>\n      <td>2002</td>\n      <td>Developing</td>\n      <td>44.8</td>\n      <td>73.0</td>\n      <td>25</td>\n      <td>4.43</td>\n      <td>0.000000</td>\n      <td>73.0</td>\n      <td>304</td>\n      <td>...</td>\n      <td>73.0</td>\n      <td>6.53</td>\n      <td>71.0</td>\n      <td>39.8</td>\n      <td>57.348340</td>\n      <td>125525.0</td>\n      <td>1.2</td>\n      <td>1.3</td>\n      <td>0.427</td>\n      <td>10.0</td>\n    </tr>\n    <tr>\n      <th>2936</th>\n      <td>Zimbabwe</td>\n      <td>2001</td>\n      <td>Developing</td>\n      <td>45.3</td>\n      <td>686.0</td>\n      <td>25</td>\n      <td>1.72</td>\n      <td>0.000000</td>\n      <td>76.0</td>\n      <td>529</td>\n      <td>...</td>\n      <td>76.0</td>\n      <td>6.16</td>\n      <td>75.0</td>\n      <td>42.1</td>\n      <td>548.587312</td>\n      <td>12366165.0</td>\n      <td>1.6</td>\n      <td>1.7</td>\n      <td>0.427</td>\n      <td>9.8</td>\n    </tr>\n    <tr>\n      <th>2937</th>\n      <td>Zimbabwe</td>\n      <td>2000</td>\n      <td>Developing</td>\n      <td>46.0</td>\n      <td>665.0</td>\n      <td>24</td>\n      <td>1.68</td>\n      <td>0.000000</td>\n      <td>79.0</td>\n      <td>1483</td>\n      <td>...</td>\n      <td>78.0</td>\n      <td>7.10</td>\n      <td>78.0</td>\n      <td>43.5</td>\n      <td>547.358879</td>\n      <td>12222251.0</td>\n      <td>11.0</td>\n      <td>11.2</td>\n      <td>0.434</td>\n      <td>9.8</td>\n    </tr>\n  </tbody>\n</table>\n<p>2938 rows × 22 columns</p>\n</div>"
     },
     "metadata": {},
     "execution_count": 20
    }
   ],
   "source": [
    "df_lifeExpectancy"
   ]
  },
  {
   "cell_type": "code",
   "execution_count": 24,
   "metadata": {},
   "outputs": [
    {
     "output_type": "stream",
     "name": "stdout",
     "text": [
      "193\n"
     ]
    }
   ],
   "source": [
    "countriesAvailable_lifeExpectancy=df_lifeExpectancy.groupby(['Country']).groups.keys()\n",
    "countriesList_lifeExpectancy=[*countriesAvailable_lifeExpectancy]\n",
    "print(len(countriesAvailable_lifeExpectancy))"
   ]
  },
  {
   "cell_type": "code",
   "execution_count": 25,
   "metadata": {},
   "outputs": [
    {
     "output_type": "stream",
     "name": "stdout",
     "text": [
      "163\n"
     ]
    }
   ],
   "source": [
    "countriesAvailable_happiness=df_happiness.groupby(['Country']).groups.keys()\n",
    "countriesList_happiness=[*countriesAvailable_happiness]\n",
    "print(len(countriesList_happiness))"
   ]
  },
  {
   "cell_type": "code",
   "execution_count": 36,
   "metadata": {},
   "outputs": [
    {
     "output_type": "stream",
     "name": "stdout",
     "text": [
      "250\n"
     ]
    }
   ],
   "source": [
    "countriesAvailable_250Countries=df_countryData.groupby(['Country']).groups.keys()\n",
    "countriesList_250Countries=[*countriesAvailable_250Countries]\n",
    "print(len(countriesList_250Countries))"
   ]
  },
  {
   "cell_type": "code",
   "execution_count": 37,
   "metadata": {},
   "outputs": [
    {
     "output_type": "stream",
     "name": "stdout",
     "text": [
      "In happiness not lifeExpectancy\n{'United States', 'Venezuela', 'Russia', 'Laos', 'Congo (Kinshasa)', 'Macedonia', 'Ivory Coast', 'South Korea', 'United Kingdom', 'Bolivia', 'Congo (Brazzaville)', 'Somaliland Region', 'Palestinian Territories', 'Vietnam', 'Tanzania', 'Hong Kong', 'Iran', 'North Cyprus', 'Syria', 'Taiwan', 'Kosovo', 'Moldova', 'Czech Republic', 'Puerto Rico'}\nIn lifeExpectancy not happiness\n{'Palau', 'Cuba', 'Samoa', 'Sao Tome and Principe', 'Antigua and Barbuda', 'United States of America', 'Democratic Republic of the Congo', 'Vanuatu', 'Barbados', 'Saint Lucia', 'Kiribati', 'Gambia', 'Venezuela (Bolivarian Republic of)', 'United Republic of Tanzania', 'Czechia', 'Solomon Islands', 'Syrian Arab Republic', 'Monaco', 'Tuvalu', 'Congo', 'Eritrea', 'Bahamas', 'Saint Kitts and Nevis', \"Democratic People's Republic of Korea\", 'Brunei Darussalam', 'Nauru', 'Niue', 'Republic of Korea', 'Guyana', 'Maldives', 'Fiji', 'The former Yugoslav republic of Macedonia', 'Russian Federation', 'Dominica', 'San Marino', 'Cabo Verde', 'United Kingdom of Great Britain and Northern Ireland', 'Seychelles', 'Iran (Islamic Republic of)', 'Cook Islands', 'Republic of Moldova', 'Timor-Leste', \"Lao People's Democratic Republic\", 'Micronesia (Federated States of)', 'Saint Vincent and the Grenadines', 'Tonga', 'Grenada', 'Papua New Guinea', 'Guinea-Bissau', 'Bolivia (Plurinational State of)', \"Côte d'Ivoire\", 'Marshall Islands', 'Equatorial Guinea', 'Viet Nam'}\n"
     ]
    }
   ],
   "source": [
    "print(\"In happiness not lifeExpectancy\")\n",
    "print(set(countriesList_happiness).difference(countriesList_lifeExpectancy))\n",
    "print(\"In lifeExpectancy not happiness\")\n",
    "print(set(countriesList_lifeExpectancy).difference(countriesList_happiness))"
   ]
  },
  {
   "source": [
    "hnfkes north(northern) cyprus 3lashan mesh mwgooda fl lifeExpectancy &\n",
    "we will leave Palestine lel 2saf & we will not work with anything related to hongKong-taiwan because they bring corona & PuertoRico "
   ],
   "cell_type": "markdown",
   "metadata": {}
  },
  {
   "cell_type": "code",
   "execution_count": 38,
   "metadata": {},
   "outputs": [],
   "source": [
    "df_lifeExpectancy['Country'] = df_lifeExpectancy['Country'].replace({'Iran (Islamic Republic of)':'Iran', 'Czechia':'Czech Republic','Democratic Republic of the Congo':'Congo (Kinshasa)','Congo':'Congo (Brazzaville)','United Republic of Tanzania':'Tanzania','Russian Federation':'Russia','United States of America':'United States','Venezuela (Bolivarian Republic of)':'Venezuela',\"Côte d'Ivoire\":'Ivory Coast','Viet Nam':'Vietnam','Republic of Korea':'South Korea','Syrian Arab Republic':'Syria',\"Lao People's Democratic Republic\":'Laos','Republic of Moldova':'Moldova','United Kingdom of Great Britain and Northern Ireland':'United Kingdom','Bolivia (Plurinational State of)':'Bolivia','The former Yugoslav republic of Macedonia':'Macedonia','Czechia':'Czech Republic'})"
   ]
  },
  {
   "cell_type": "code",
   "execution_count": 39,
   "metadata": {},
   "outputs": [
    {
     "output_type": "stream",
     "name": "stdout",
     "text": [
      "156\n163\n"
     ]
    },
    {
     "output_type": "execute_result",
     "data": {
      "text/plain": [
       "['Bangladesh',\n",
       " 'Djibouti',\n",
       " 'Argentina',\n",
       " 'Portugal',\n",
       " 'United States',\n",
       " 'El Salvador',\n",
       " 'South Africa',\n",
       " 'Finland',\n",
       " 'Uruguay',\n",
       " 'Philippines',\n",
       " 'Gabon',\n",
       " 'Burkina Faso',\n",
       " 'Trinidad and Tobago',\n",
       " 'Egypt',\n",
       " 'Angola',\n",
       " 'Kenya',\n",
       " 'Hungary',\n",
       " 'Suriname',\n",
       " 'Albania',\n",
       " 'Iraq',\n",
       " 'Turkey',\n",
       " 'Oman',\n",
       " 'Norway',\n",
       " 'India',\n",
       " 'Mali',\n",
       " 'Denmark',\n",
       " 'Mexico',\n",
       " 'United Kingdom',\n",
       " 'Honduras',\n",
       " 'Bolivia',\n",
       " 'South Sudan',\n",
       " 'Bhutan',\n",
       " 'Vietnam',\n",
       " 'Kyrgyzstan',\n",
       " 'Tanzania',\n",
       " 'Madagascar',\n",
       " 'Qatar',\n",
       " 'Saudi Arabia',\n",
       " 'Iceland',\n",
       " 'Netherlands',\n",
       " 'Nicaragua',\n",
       " 'Moldova',\n",
       " 'Czech Republic',\n",
       " 'Myanmar',\n",
       " 'Indonesia',\n",
       " 'France',\n",
       " 'Venezuela',\n",
       " 'Lithuania',\n",
       " 'Jordan',\n",
       " 'Senegal',\n",
       " 'Laos',\n",
       " 'Brazil',\n",
       " 'Mauritania',\n",
       " 'Mozambique',\n",
       " 'Mongolia',\n",
       " 'Sierra Leone',\n",
       " 'Belarus',\n",
       " 'Canada',\n",
       " 'Macedonia',\n",
       " 'Spain',\n",
       " 'Mauritius',\n",
       " 'Costa Rica',\n",
       " 'Comoros',\n",
       " 'South Korea',\n",
       " 'Ethiopia',\n",
       " 'Uzbekistan',\n",
       " 'Bosnia and Herzegovina',\n",
       " 'Germany',\n",
       " 'Italy',\n",
       " 'Romania',\n",
       " 'Tajikistan',\n",
       " 'New Zealand',\n",
       " 'Croatia',\n",
       " 'Haiti',\n",
       " 'Japan',\n",
       " 'Latvia',\n",
       " 'Paraguay',\n",
       " 'Guinea',\n",
       " 'Iran',\n",
       " 'Bulgaria',\n",
       " 'Afghanistan',\n",
       " 'Namibia',\n",
       " 'Nepal',\n",
       " 'Rwanda',\n",
       " 'Singapore',\n",
       " 'Ukraine',\n",
       " 'Nigeria',\n",
       " 'Russia',\n",
       " 'Liberia',\n",
       " 'Slovenia',\n",
       " 'Cameroon',\n",
       " 'Congo (Kinshasa)',\n",
       " 'Dominican Republic',\n",
       " 'Ireland',\n",
       " 'Jamaica',\n",
       " 'Lesotho',\n",
       " 'Morocco',\n",
       " 'Greece',\n",
       " 'Ghana',\n",
       " 'Algeria',\n",
       " 'Malawi',\n",
       " 'Belize',\n",
       " 'Poland',\n",
       " 'Botswana',\n",
       " 'Uganda',\n",
       " 'Sweden',\n",
       " 'Ivory Coast',\n",
       " 'Swaziland',\n",
       " 'Ecuador',\n",
       " 'Georgia',\n",
       " 'United Arab Emirates',\n",
       " 'Colombia',\n",
       " 'Montenegro',\n",
       " 'Thailand',\n",
       " 'Pakistan',\n",
       " 'Syria',\n",
       " 'Israel',\n",
       " 'Malta',\n",
       " 'Sri Lanka',\n",
       " 'Cambodia',\n",
       " 'Serbia',\n",
       " 'Turkmenistan',\n",
       " 'Bahrain',\n",
       " 'Chile',\n",
       " 'Somalia',\n",
       " 'Estonia',\n",
       " 'Azerbaijan',\n",
       " 'Lebanon',\n",
       " 'Burundi',\n",
       " 'Benin',\n",
       " 'Switzerland',\n",
       " 'Belgium',\n",
       " 'Sudan',\n",
       " 'Kazakhstan',\n",
       " 'Armenia',\n",
       " 'Niger',\n",
       " 'Malaysia',\n",
       " 'Panama',\n",
       " 'Luxembourg',\n",
       " 'Peru',\n",
       " 'Austria',\n",
       " 'Guatemala',\n",
       " 'Cyprus',\n",
       " 'Slovakia',\n",
       " 'Zimbabwe',\n",
       " 'China',\n",
       " 'Tunisia',\n",
       " 'Yemen',\n",
       " 'Australia',\n",
       " 'Congo (Brazzaville)',\n",
       " 'Central African Republic',\n",
       " 'Libya',\n",
       " 'Togo',\n",
       " 'Kuwait',\n",
       " 'Zambia',\n",
       " 'Chad']"
      ]
     },
     "metadata": {},
     "execution_count": 39
    }
   ],
   "source": [
    "countriesAvailableCleaned_lifeExpectancy=df_lifeExpectancy.groupby(['Country']).groups.keys()\n",
    "countriesListCleaned_lifeExpectancy =list(set([*countriesAvailableCleaned_lifeExpectancy])&set(countriesList_happiness))\n",
    "print(len(countriesListCleaned_lifeExpectancy))\n",
    "print(len(countriesList_happiness))\n",
    "countriesListCleaned_lifeExpectancy"
   ]
  },
  {
   "cell_type": "code",
   "execution_count": 40,
   "metadata": {},
   "outputs": [
    {
     "output_type": "stream",
     "name": "stdout",
     "text": [
      "Countries to be dropped from happiness\n{'Palestinian Territories', 'Hong Kong', 'North Cyprus', 'Taiwan', 'Kosovo', 'Puerto Rico', 'Somaliland Region'}\n"
     ]
    }
   ],
   "source": [
    "print(\"Countries to be dropped from happiness\")\n",
    "print(set(countriesList_happiness).difference(countriesListCleaned_lifeExpectancy))\n"
   ]
  },
  {
   "cell_type": "code",
   "execution_count": 41,
   "metadata": {},
   "outputs": [
    {
     "output_type": "stream",
     "name": "stdout",
     "text": [
      "In lifeExpectancy Cleaned not 250 countries\nset()\nIn 250 countries not lifeExpectancy Cleaned\n{'Bermuda', 'Virgin Islands (British)', 'Samoa', 'Vanuatu', 'French Southern Territories', 'Saint Lucia', 'Gambia', 'Monaco', 'Tuvalu', 'Eritrea', 'Bahamas', 'Saint Kitts and Nevis', 'Liechtenstein', 'Holy See', 'Jersey', 'Nauru', 'Niue', 'Hong Kong', 'Guam', 'Sint Maarten (Dutch part)', 'Guyana', 'Guadeloupe', 'Fiji', 'Montserrat', 'Virgin Islands (U.S.)', 'Tokelau', \"Korea (Democratic People's Republic of)\", 'Western Sahara', 'Dominica', 'San Marino', 'New Caledonia', 'Aruba', 'Saint Martin (French part)', 'South Georgia and the South Sandwich Islands', 'Christmas Island', 'Saint Barthélemy', 'Cook Islands', 'Cocos (Keeling) Islands', 'Gibraltar', 'French Guiana', 'Timor-Leste', 'Anguilla', 'Mayotte', 'Saint Vincent and the Grenadines', 'Tonga', 'Marshall Islands', 'Equatorial Guinea', 'Palau', 'Andorra', 'Cayman Islands', 'Cuba', 'Pitcairn', 'Åland Islands', 'Sao Tome and Principe', 'Antigua and Barbuda', 'Curaçao', 'Saint Helena, Ascension and Tristan da Cunha', 'Barbados', 'French Polynesia', 'Kiribati', 'Wallis and Futuna', 'Republic of Kosovo', 'Solomon Islands', 'Norfolk Island', 'Macao', 'Brunei Darussalam', 'American Samoa', 'Heard Island and McDonald Islands', 'United States Minor Outlying Islands', 'Maldives', 'Saint Pierre and Miquelon', 'Réunion', 'Bonaire, Sint Eustatius and Saba', 'Cabo Verde', 'Martinique', 'Northern Mariana Islands', 'Greenland', 'Guernsey', 'British Indian Ocean Territory', 'Isle of Man', 'Faroe Islands', 'Seychelles', 'Svalbard and Jan Mayen', 'Micronesia (Federated States of)', 'Bouvet Island', 'Falkland Islands (Malvinas)', 'Grenada', 'Papua New Guinea', 'Guinea-Bissau', 'Palestine, State of', 'Antarctica', 'Taiwan', 'Turks and Caicos Islands', 'Puerto Rico'}\n"
     ]
    }
   ],
   "source": [
    "print(\"In lifeExpectancy Cleaned not 250 countries\")\n",
    "print(set(countriesListCleaned_lifeExpectancy).difference(countriesList_250Countries))\n",
    "print(\"In 250 countries not lifeExpectancy Cleaned\")\n",
    "print(set(countriesList_250Countries).difference(countriesListCleaned_lifeExpectancy))\n"
   ]
  },
  {
   "cell_type": "code",
   "execution_count": 42,
   "metadata": {},
   "outputs": [],
   "source": [
    "df_countryData['Country'] = df_countryData['Country'].replace({'Iran (Islamic Republic of)':'Iran','Tanzania, United Republic of':'Tanzania','Congo':'Congo (Brazzaville)','Congo (Democratic Republic of the)':'Congo (Kinshasa)','Russian Federation':'Russia','United States of America':'United States','Venezuela (Bolivarian Republic of)':'Venezuela',\"Côte d'Ivoire\":'Ivory Coast','Viet Nam':'Vietnam','Korea (Republic of)':'South Korea','Syrian Arab Republic':'Syria',\"Lao People's Democratic Republic\":'Laos', 'Moldova (Republic of)':'Moldova','United Kingdom of Great Britain and Northern Ireland':'United Kingdom','Bolivia (Plurinational State of)':'Bolivia','Macedonia (the former Yugoslav Republic of)':'Macedonia'})"
   ]
  },
  {
   "cell_type": "code",
   "execution_count": 43,
   "metadata": {},
   "outputs": [
    {
     "output_type": "stream",
     "name": "stdout",
     "text": [
      "156\n"
     ]
    }
   ],
   "source": [
    "countriesAvailableCleaned_250Countries=df_countryData.groupby(['Country']).groups.keys()\n",
    "countriesListCleaned_250Countries=[*countriesAvailableCleaned_250Countries]\n",
    "countriesListCleaned_IntersectionThree=list(set(countriesListCleaned_lifeExpectancy)&set(countriesListCleaned_250Countries))\n",
    "print(len(countriesListCleaned_IntersectionThree))\n",
    "#countriesListCleaned_IntersectionThree"
   ]
  },
  {
   "cell_type": "code",
   "execution_count": null,
   "metadata": {},
   "outputs": [],
   "source": []
  }
 ]
}