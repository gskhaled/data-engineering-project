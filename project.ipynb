{
 "metadata": {
  "language_info": {
   "codemirror_mode": {
    "name": "ipython",
    "version": 3
   },
   "file_extension": ".py",
   "mimetype": "text/x-python",
   "name": "python",
   "nbconvert_exporter": "python",
   "pygments_lexer": "ipython3",
   "version": "3.8.1-final"
  },
  "orig_nbformat": 2,
  "kernelspec": {
   "name": "python3",
   "display_name": "Python 3.8.1 64-bit",
   "metadata": {
    "interpreter": {
     "hash": "fe891c9e592bf780402d820d64490eaf7700f53018646db208523a8585c3ebd1"
    }
   }
  }
 },
 "nbformat": 4,
 "nbformat_minor": 2,
 "cells": [
  {
   "source": [
    "# Data Engineering Project\n",
    "## Data Analyzers\n",
    "### Islam Nasr\n",
    "### Gaser Khaled\n",
    "### Kariman Hossam\n",
    "### Marwan Karim "
   ],
   "cell_type": "markdown",
   "metadata": {}
  },
  {
   "source": [
    "# Working on the 250 Countries Dataset"
   ],
   "cell_type": "markdown",
   "metadata": {}
  },
  {
   "cell_type": "code",
   "execution_count": 5,
   "metadata": {},
   "outputs": [],
   "source": [
    "import numpy as np\n",
    "import pandas as pd\n",
    "from sklearn.linear_model import LinearRegression\n",
    "import seaborn as sns\n",
    "import matplotlib.pyplot as plt"
   ]
  },
  {
   "cell_type": "code",
   "execution_count": 6,
   "metadata": {},
   "outputs": [
    {
     "output_type": "execute_result",
     "data": {
      "text/plain": [
       "   Unnamed: 0            name   region        subregion  population  \\\n",
       "0           0     Afghanistan     Asia    Southern Asia    27657145   \n",
       "1           1   Åland Islands   Europe  Northern Europe       28875   \n",
       "2           2         Albania   Europe  Southern Europe     2886026   \n",
       "3           3         Algeria   Africa  Northern Africa    40400000   \n",
       "4           4  American Samoa  Oceania        Polynesia       57100   \n",
       "\n",
       "        area  gini Real Growth Rating(%)   Literacy Rate(%)  \\\n",
       "0   652230.0  27.8     3.1% (2013 est.).  28.1% (2000 est.)   \n",
       "1     1580.0   NaN                   NaN                NaN   \n",
       "2    28748.0  34.5      .7% (2013 est.).  98.7% (2011 est.)   \n",
       "3  2381741.0  35.3                 3.1%.                79%   \n",
       "4      199.0   NaN                   3%.    97% (1980 est.)   \n",
       "\n",
       "        Inflation(%)                                   Unemployement(%)  \n",
       "0  6.8% (2013 est.).                                   35% (2008 est.).  \n",
       "1                NaN                                                NaN  \n",
       "2  1.7% (2013 est.).  16.9% official rate (2013 est.). Note: These a...  \n",
       "3              3.9%.                                             10.3%.  \n",
       "4                NaN                                                NaN  "
      ],
      "text/html": "<div>\n<style scoped>\n    .dataframe tbody tr th:only-of-type {\n        vertical-align: middle;\n    }\n\n    .dataframe tbody tr th {\n        vertical-align: top;\n    }\n\n    .dataframe thead th {\n        text-align: right;\n    }\n</style>\n<table border=\"1\" class=\"dataframe\">\n  <thead>\n    <tr style=\"text-align: right;\">\n      <th></th>\n      <th>Unnamed: 0</th>\n      <th>name</th>\n      <th>region</th>\n      <th>subregion</th>\n      <th>population</th>\n      <th>area</th>\n      <th>gini</th>\n      <th>Real Growth Rating(%)</th>\n      <th>Literacy Rate(%)</th>\n      <th>Inflation(%)</th>\n      <th>Unemployement(%)</th>\n    </tr>\n  </thead>\n  <tbody>\n    <tr>\n      <th>0</th>\n      <td>0</td>\n      <td>Afghanistan</td>\n      <td>Asia</td>\n      <td>Southern Asia</td>\n      <td>27657145</td>\n      <td>652230.0</td>\n      <td>27.8</td>\n      <td>3.1% (2013 est.).</td>\n      <td>28.1% (2000 est.)</td>\n      <td>6.8% (2013 est.).</td>\n      <td>35% (2008 est.).</td>\n    </tr>\n    <tr>\n      <th>1</th>\n      <td>1</td>\n      <td>Åland Islands</td>\n      <td>Europe</td>\n      <td>Northern Europe</td>\n      <td>28875</td>\n      <td>1580.0</td>\n      <td>NaN</td>\n      <td>NaN</td>\n      <td>NaN</td>\n      <td>NaN</td>\n      <td>NaN</td>\n    </tr>\n    <tr>\n      <th>2</th>\n      <td>2</td>\n      <td>Albania</td>\n      <td>Europe</td>\n      <td>Southern Europe</td>\n      <td>2886026</td>\n      <td>28748.0</td>\n      <td>34.5</td>\n      <td>.7% (2013 est.).</td>\n      <td>98.7% (2011 est.)</td>\n      <td>1.7% (2013 est.).</td>\n      <td>16.9% official rate (2013 est.). Note: These a...</td>\n    </tr>\n    <tr>\n      <th>3</th>\n      <td>3</td>\n      <td>Algeria</td>\n      <td>Africa</td>\n      <td>Northern Africa</td>\n      <td>40400000</td>\n      <td>2381741.0</td>\n      <td>35.3</td>\n      <td>3.1%.</td>\n      <td>79%</td>\n      <td>3.9%.</td>\n      <td>10.3%.</td>\n    </tr>\n    <tr>\n      <th>4</th>\n      <td>4</td>\n      <td>American Samoa</td>\n      <td>Oceania</td>\n      <td>Polynesia</td>\n      <td>57100</td>\n      <td>199.0</td>\n      <td>NaN</td>\n      <td>3%.</td>\n      <td>97% (1980 est.)</td>\n      <td>NaN</td>\n      <td>NaN</td>\n    </tr>\n  </tbody>\n</table>\n</div>"
     },
     "metadata": {},
     "execution_count": 6
    }
   ],
   "source": [
    "df_countryData = pd.read_csv('./data/250 Country Data.csv')\n",
    "df_countryData.head(5)"
   ]
  },
  {
   "cell_type": "code",
   "execution_count": 7,
   "metadata": {},
   "outputs": [
    {
     "output_type": "execute_result",
     "data": {
      "text/plain": [
       "Index(['Country', 'region', 'subregion', 'population', 'area', 'gini',\n",
       "       'Real Growth Rating(%)', 'Literacy Rate(%)', 'Inflation(%)',\n",
       "       'Unemployement(%)'],\n",
       "      dtype='object')"
      ]
     },
     "metadata": {},
     "execution_count": 7
    }
   ],
   "source": [
    "df_countryData.rename(columns={'name': 'Country'}, inplace=True)\n",
    "df_countryData.drop('Unnamed: 0', inplace=True, axis=1)\n",
    "df_countryData.columns"
   ]
  },
  {
   "cell_type": "code",
   "execution_count": 8,
   "metadata": {},
   "outputs": [
    {
     "output_type": "execute_result",
     "data": {
      "text/plain": [
       "Index(['Country', 'Region', 'Subregion', 'Population', 'Area', 'Gini',\n",
       "       'Real Growth Rating', 'Literacy Rate', 'Inflation', 'Unemployment'],\n",
       "      dtype='object')"
      ]
     },
     "metadata": {},
     "execution_count": 8
    }
   ],
   "source": [
    "df_countryData.rename(columns={\n",
    "    'region': 'Region',\n",
    "    'subregion': 'Subregion',\n",
    "    'population': 'Population',\n",
    "    'area': 'Area',\n",
    "    'gini': 'Gini',\n",
    "    'Real Growth Rating(%)': 'Real Growth Rating',\n",
    "    'Literacy Rate(%)': 'Literacy Rate',\n",
    "    'Inflation(%)': 'Inflation',\n",
    "    'Unemployement(%)': 'Unemployment'\n",
    "    }, inplace=True)\n",
    "df_countryData.columns"
   ]
  },
  {
   "source": [
    "# Working on the Happiness Datasets"
   ],
   "cell_type": "markdown",
   "metadata": {}
  },
  {
   "cell_type": "code",
   "execution_count": 9,
   "metadata": {},
   "outputs": [
    {
     "output_type": "execute_result",
     "data": {
      "text/plain": [
       "Index(['Country', 'Region', 'Happiness Rank', 'Happiness Score',\n",
       "       'Standard Error', 'Economy (GDP per Capita)', 'Family',\n",
       "       'Health (Life Expectancy)', 'Freedom', 'Trust (Government Corruption)',\n",
       "       'Generosity', 'Dystopia Residual'],\n",
       "      dtype='object')"
      ]
     },
     "metadata": {},
     "execution_count": 9
    }
   ],
   "source": [
    "df_happiness2015 = pd.read_csv('./data/Happiness_Dataset/2015.csv')\n",
    "df_happiness2015.head(5)\n",
    "df_happiness2015.columns"
   ]
  },
  {
   "cell_type": "code",
   "execution_count": 10,
   "metadata": {},
   "outputs": [
    {
     "output_type": "execute_result",
     "data": {
      "text/plain": [
       "Index(['Country', 'Region', 'Happiness_Rank', 'Happiness_Score',\n",
       "       'Standard_Error', 'Economy_GDP_per_Capita', 'Family',\n",
       "       'Health_Life_Expectancy', 'Freedom', 'Trust_Government_Corruption',\n",
       "       'Generosity', 'Dystopia_Residual'],\n",
       "      dtype='object')"
      ]
     },
     "metadata": {},
     "execution_count": 10
    }
   ],
   "source": [
    "df_happiness2015.rename(columns={\n",
    "    'Happiness Rank': 'Happiness_Rank',  \n",
    "    'Happiness Score': 'Happiness_Score' , \n",
    "    'Standard Error': 'Standard_Error', \n",
    "    'Economy (GDP per Capita)': 'Economy_GDP_per_Capita',  \n",
    "    'Health (Life Expectancy)': 'Health_Life_Expectancy', \n",
    "    'Trust (Government Corruption)': 'Trust_Government_Corruption',\n",
    "    'Dystopia Residual': 'Dystopia_Residual'\n",
    "    }, inplace=True)\n",
    "df_happiness2015.columns"
   ]
  },
  {
   "cell_type": "code",
   "execution_count": 11,
   "metadata": {},
   "outputs": [],
   "source": [
    "df_happiness2016 = pd.read_csv('./data/Happiness_Dataset/2016.csv')\n",
    "df_happiness2016.rename(columns={\n",
    "    'Happiness Rank': 'Happiness_Rank',  \n",
    "    'Happiness Score': 'Happiness_Score' ,\n",
    "    'Lower Confidence Interval': 'Lower_Confidence_Interval', \n",
    "    'Upper Confidence Interval': 'Upper_Confidence_Interval', \n",
    "    'Economy (GDP per Capita)': 'Economy_GDP_per_Capita',  \n",
    "    'Health (Life Expectancy)': 'Health_Life_Expectancy', \n",
    "    'Trust (Government Corruption)': 'Trust_Government_Corruption',\n",
    "    'Dystopia Residual': 'Dystopia_Residual'\n",
    "    }, inplace=True)\n",
    "df_happiness2017 = pd.read_csv('./data/Happiness_Dataset/2017.csv')\n",
    "df_happiness2017.rename(columns={\n",
    "    'Happiness.Rank': 'Happiness_Rank',  \n",
    "    'Happiness.Score': 'Happiness_Score' , \n",
    "    'Whisker.low': 'Lower_Confidence_Interval', \n",
    "    'Whisker.high': 'Upper_Confidence_Interval', \n",
    "    'Economy..GDP.per.Capita.': 'Economy_GDP_per_Capita',  \n",
    "    'Health..Life.Expectancy.': 'Health_Life_Expectancy', \n",
    "    'Trust..Government.Corruption.': 'Trust_Government_Corruption',\n",
    "    'Dystopia.Residual': 'Dystopia_Residual'\n",
    "    }, inplace=True)\n",
    "df_happiness2018 = pd.read_csv('./data/Happiness_Dataset/2018.csv')\n",
    "df_happiness2018.rename(columns={\n",
    "    'Overall rank': 'Happiness_Rank',\n",
    "    'Country or region':'Country',  \n",
    "    'Score': 'Happiness_Score' , \n",
    "    'GDP per capita': 'Economy_GDP_per_Capita',  \n",
    "    'Healthy life expectancy': 'Health_Life_Expectancy',\n",
    "    'Freedom to make life choices':'Freedom', \n",
    "    'Perceptions of corruption': 'Trust_Government_Corruption',\n",
    "    'Social support':'Family'\n",
    "    }, inplace=True)\n",
    "df_happiness2019 = pd.read_csv('./data/Happiness_Dataset/2015.csv')\n",
    "df_happiness2019.rename(columns={\n",
    "    'Happiness Rank': 'Happiness_Rank',\n",
    "    'Happiness Score': 'Happiness_Score' ,\n",
    "    'Standard Error':'Standard_Error', \n",
    "    'Economy (GDP per Capita)': 'Economy_GDP_per_Capita',  \n",
    "    'Health (Life Expectancy)': 'Health_Life_Expectancy', \n",
    "    'Trust (Government Corruption)': 'Trust_Government_Corruption',\n",
    "    'Dystopia Residual': 'Dystopia_Residual'\n",
    "    }, inplace=True)"
   ]
  },
  {
   "cell_type": "code",
   "execution_count": 12,
   "metadata": {},
   "outputs": [],
   "source": [
    "df_happiness2015[\"Year\"] = 2015\n",
    "df_happiness2016[\"Year\"] = 2016\n",
    "df_happiness2017[\"Year\"] = 2017\n",
    "df_happiness2018[\"Year\"] = 2018\n",
    "df_happiness2019[\"Year\"] = 2019"
   ]
  },
  {
   "source": [
    "## Finding Common Columns in all Happiness Datasets\n"
   ],
   "cell_type": "markdown",
   "metadata": {}
  },
  {
   "cell_type": "code",
   "execution_count": 13,
   "metadata": {},
   "outputs": [
    {
     "output_type": "stream",
     "name": "stdout",
     "text": [
      "['Country' 'Economy_GDP_per_Capita' 'Family' 'Freedom' 'Generosity'\n 'Happiness_Rank' 'Happiness_Score' 'Health_Life_Expectancy'\n 'Trust_Government_Corruption' 'Year']\n"
     ]
    }
   ],
   "source": [
    "columnsIn2015Happiness=np.array(df_happiness2015.columns)\n",
    "columnsIn2016Happiness=np.array(df_happiness2016.columns)\n",
    "columnsIn2017Happiness=np.array(df_happiness2017.columns)\n",
    "columnsIn2018Happiness=np.array(df_happiness2018.columns)\n",
    "columnsIn2019Happiness=np.array(df_happiness2019.columns)\n",
    "\n",
    "columnsInAllHappinessDatasets=np.intersect1d(np.intersect1d(np.intersect1d(np.intersect1d(columnsIn2015Happiness,columnsIn2016Happiness),columnsIn2017Happiness),columnsIn2018Happiness),columnsIn2019Happiness)\n",
    "print(columnsInAllHappinessDatasets)"
   ]
  },
  {
   "cell_type": "code",
   "execution_count": 15,
   "metadata": {},
   "outputs": [],
   "source": [
    "df_happiness = pd.concat([df_happiness2015, df_happiness2016, df_happiness2017, df_happiness2018, df_happiness2019])"
   ]
  },
  {
   "cell_type": "code",
   "execution_count": 16,
   "metadata": {},
   "outputs": [],
   "source": [
    "df_happiness.sort_values(by=['Country','Year'], inplace=True)\n"
   ]
  },
  {
   "source": [
    "## Leaving columns which are available in all happiness datasets\n"
   ],
   "cell_type": "markdown",
   "metadata": {}
  },
  {
   "cell_type": "code",
   "execution_count": 17,
   "metadata": {},
   "outputs": [],
   "source": [
    "df_happiness=df_happiness[columnsInAllHappinessDatasets]\n"
   ]
  },
  {
   "cell_type": "code",
   "execution_count": 18,
   "metadata": {},
   "outputs": [
    {
     "output_type": "execute_result",
     "data": {
      "text/plain": [
       "         Country  Economy_GDP_per_Capita    Family   Freedom  Generosity  \\\n",
       "152  Afghanistan                0.319820  0.302850  0.234140    0.365100   \n",
       "153  Afghanistan                0.382270  0.110370  0.164300    0.312680   \n",
       "140  Afghanistan                0.401477  0.581543  0.106180    0.311871   \n",
       "144  Afghanistan                0.332000  0.537000  0.085000    0.191000   \n",
       "152  Afghanistan                0.319820  0.302850  0.234140    0.365100   \n",
       "..           ...                     ...       ...       ...         ...   \n",
       "114     Zimbabwe                0.271000  1.032760  0.258610    0.189870   \n",
       "130     Zimbabwe                0.350410  0.714780  0.254290    0.185030   \n",
       "137     Zimbabwe                0.375847  1.083096  0.336384    0.189143   \n",
       "143     Zimbabwe                0.357000  1.094000  0.406000    0.132000   \n",
       "114     Zimbabwe                0.271000  1.032760  0.258610    0.189870   \n",
       "\n",
       "     Happiness_Rank  Happiness_Score  Health_Life_Expectancy  \\\n",
       "152             153            3.575                0.303350   \n",
       "153             154            3.360                0.173440   \n",
       "140             141            3.794                0.180747   \n",
       "144             145            3.632                0.255000   \n",
       "152             153            3.575                0.303350   \n",
       "..              ...              ...                     ...   \n",
       "114             115            4.610                0.334750   \n",
       "130             131            4.193                0.159500   \n",
       "137             138            3.875                0.196764   \n",
       "143             144            3.692                0.248000   \n",
       "114             115            4.610                0.334750   \n",
       "\n",
       "     Trust_Government_Corruption  Year  \n",
       "152                     0.097190  2015  \n",
       "153                     0.071120  2016  \n",
       "140                     0.061158  2017  \n",
       "144                     0.036000  2018  \n",
       "152                     0.097190  2019  \n",
       "..                           ...   ...  \n",
       "114                     0.080790  2015  \n",
       "130                     0.085820  2016  \n",
       "137                     0.095375  2017  \n",
       "143                     0.099000  2018  \n",
       "114                     0.080790  2019  \n",
       "\n",
       "[784 rows x 10 columns]"
      ],
      "text/html": "<div>\n<style scoped>\n    .dataframe tbody tr th:only-of-type {\n        vertical-align: middle;\n    }\n\n    .dataframe tbody tr th {\n        vertical-align: top;\n    }\n\n    .dataframe thead th {\n        text-align: right;\n    }\n</style>\n<table border=\"1\" class=\"dataframe\">\n  <thead>\n    <tr style=\"text-align: right;\">\n      <th></th>\n      <th>Country</th>\n      <th>Economy_GDP_per_Capita</th>\n      <th>Family</th>\n      <th>Freedom</th>\n      <th>Generosity</th>\n      <th>Happiness_Rank</th>\n      <th>Happiness_Score</th>\n      <th>Health_Life_Expectancy</th>\n      <th>Trust_Government_Corruption</th>\n      <th>Year</th>\n    </tr>\n  </thead>\n  <tbody>\n    <tr>\n      <th>152</th>\n      <td>Afghanistan</td>\n      <td>0.319820</td>\n      <td>0.302850</td>\n      <td>0.234140</td>\n      <td>0.365100</td>\n      <td>153</td>\n      <td>3.575</td>\n      <td>0.303350</td>\n      <td>0.097190</td>\n      <td>2015</td>\n    </tr>\n    <tr>\n      <th>153</th>\n      <td>Afghanistan</td>\n      <td>0.382270</td>\n      <td>0.110370</td>\n      <td>0.164300</td>\n      <td>0.312680</td>\n      <td>154</td>\n      <td>3.360</td>\n      <td>0.173440</td>\n      <td>0.071120</td>\n      <td>2016</td>\n    </tr>\n    <tr>\n      <th>140</th>\n      <td>Afghanistan</td>\n      <td>0.401477</td>\n      <td>0.581543</td>\n      <td>0.106180</td>\n      <td>0.311871</td>\n      <td>141</td>\n      <td>3.794</td>\n      <td>0.180747</td>\n      <td>0.061158</td>\n      <td>2017</td>\n    </tr>\n    <tr>\n      <th>144</th>\n      <td>Afghanistan</td>\n      <td>0.332000</td>\n      <td>0.537000</td>\n      <td>0.085000</td>\n      <td>0.191000</td>\n      <td>145</td>\n      <td>3.632</td>\n      <td>0.255000</td>\n      <td>0.036000</td>\n      <td>2018</td>\n    </tr>\n    <tr>\n      <th>152</th>\n      <td>Afghanistan</td>\n      <td>0.319820</td>\n      <td>0.302850</td>\n      <td>0.234140</td>\n      <td>0.365100</td>\n      <td>153</td>\n      <td>3.575</td>\n      <td>0.303350</td>\n      <td>0.097190</td>\n      <td>2019</td>\n    </tr>\n    <tr>\n      <th>...</th>\n      <td>...</td>\n      <td>...</td>\n      <td>...</td>\n      <td>...</td>\n      <td>...</td>\n      <td>...</td>\n      <td>...</td>\n      <td>...</td>\n      <td>...</td>\n      <td>...</td>\n    </tr>\n    <tr>\n      <th>114</th>\n      <td>Zimbabwe</td>\n      <td>0.271000</td>\n      <td>1.032760</td>\n      <td>0.258610</td>\n      <td>0.189870</td>\n      <td>115</td>\n      <td>4.610</td>\n      <td>0.334750</td>\n      <td>0.080790</td>\n      <td>2015</td>\n    </tr>\n    <tr>\n      <th>130</th>\n      <td>Zimbabwe</td>\n      <td>0.350410</td>\n      <td>0.714780</td>\n      <td>0.254290</td>\n      <td>0.185030</td>\n      <td>131</td>\n      <td>4.193</td>\n      <td>0.159500</td>\n      <td>0.085820</td>\n      <td>2016</td>\n    </tr>\n    <tr>\n      <th>137</th>\n      <td>Zimbabwe</td>\n      <td>0.375847</td>\n      <td>1.083096</td>\n      <td>0.336384</td>\n      <td>0.189143</td>\n      <td>138</td>\n      <td>3.875</td>\n      <td>0.196764</td>\n      <td>0.095375</td>\n      <td>2017</td>\n    </tr>\n    <tr>\n      <th>143</th>\n      <td>Zimbabwe</td>\n      <td>0.357000</td>\n      <td>1.094000</td>\n      <td>0.406000</td>\n      <td>0.132000</td>\n      <td>144</td>\n      <td>3.692</td>\n      <td>0.248000</td>\n      <td>0.099000</td>\n      <td>2018</td>\n    </tr>\n    <tr>\n      <th>114</th>\n      <td>Zimbabwe</td>\n      <td>0.271000</td>\n      <td>1.032760</td>\n      <td>0.258610</td>\n      <td>0.189870</td>\n      <td>115</td>\n      <td>4.610</td>\n      <td>0.334750</td>\n      <td>0.080790</td>\n      <td>2019</td>\n    </tr>\n  </tbody>\n</table>\n<p>784 rows × 10 columns</p>\n</div>"
     },
     "metadata": {},
     "execution_count": 18
    }
   ],
   "source": [
    "df_happiness"
   ]
  },
  {
   "source": [
    "### Changing the names of some countries with inconsitent names in all years."
   ],
   "cell_type": "markdown",
   "metadata": {}
  },
  {
   "cell_type": "code",
   "execution_count": 19,
   "metadata": {},
   "outputs": [],
   "source": [
    "df_happiness['Country'] = df_happiness['Country'].replace({'&':'and'},regex=True)\n",
    "df_happiness['Country'] = df_happiness['Country'].replace({\n",
    "    'Northern Cyprus': 'North Cyprus',\n",
    "    'Somaliland region': 'Somaliland Region',\n",
    "    'Taiwan Province of China': 'Taiwan',\n",
    "    'Hong Kong S.A.R., China': 'Hong Kong'\n",
    "    })"
   ]
  },
  {
   "source": [
    "# Working on the Life Expectancy Dataset"
   ],
   "cell_type": "markdown",
   "metadata": {}
  },
  {
   "cell_type": "code",
   "execution_count": 20,
   "metadata": {},
   "outputs": [
    {
     "output_type": "execute_result",
     "data": {
      "text/plain": [
       "       Country  Year      Status  Life expectancy   Adult Mortality  \\\n",
       "0  Afghanistan  2015  Developing              65.0            263.0   \n",
       "1  Afghanistan  2014  Developing              59.9            271.0   \n",
       "2  Afghanistan  2013  Developing              59.9            268.0   \n",
       "3  Afghanistan  2012  Developing              59.5            272.0   \n",
       "4  Afghanistan  2011  Developing              59.2            275.0   \n",
       "\n",
       "   infant deaths  Alcohol  percentage expenditure  Hepatitis B  Measles   ...  \\\n",
       "0             62     0.01               71.279624         65.0      1154  ...   \n",
       "1             64     0.01               73.523582         62.0       492  ...   \n",
       "2             66     0.01               73.219243         64.0       430  ...   \n",
       "3             69     0.01               78.184215         67.0      2787  ...   \n",
       "4             71     0.01                7.097109         68.0      3013  ...   \n",
       "\n",
       "   Polio  Total expenditure  Diphtheria    HIV/AIDS         GDP  Population  \\\n",
       "0    6.0               8.16         65.0        0.1  584.259210  33736494.0   \n",
       "1   58.0               8.18         62.0        0.1  612.696514    327582.0   \n",
       "2   62.0               8.13         64.0        0.1  631.744976  31731688.0   \n",
       "3   67.0               8.52         67.0        0.1  669.959000   3696958.0   \n",
       "4   68.0               7.87         68.0        0.1   63.537231   2978599.0   \n",
       "\n",
       "    thinness  1-19 years   thinness 5-9 years  \\\n",
       "0                   17.2                 17.3   \n",
       "1                   17.5                 17.5   \n",
       "2                   17.7                 17.7   \n",
       "3                   17.9                 18.0   \n",
       "4                   18.2                 18.2   \n",
       "\n",
       "   Income composition of resources  Schooling  \n",
       "0                            0.479       10.1  \n",
       "1                            0.476       10.0  \n",
       "2                            0.470        9.9  \n",
       "3                            0.463        9.8  \n",
       "4                            0.454        9.5  \n",
       "\n",
       "[5 rows x 22 columns]"
      ],
      "text/html": "<div>\n<style scoped>\n    .dataframe tbody tr th:only-of-type {\n        vertical-align: middle;\n    }\n\n    .dataframe tbody tr th {\n        vertical-align: top;\n    }\n\n    .dataframe thead th {\n        text-align: right;\n    }\n</style>\n<table border=\"1\" class=\"dataframe\">\n  <thead>\n    <tr style=\"text-align: right;\">\n      <th></th>\n      <th>Country</th>\n      <th>Year</th>\n      <th>Status</th>\n      <th>Life expectancy</th>\n      <th>Adult Mortality</th>\n      <th>infant deaths</th>\n      <th>Alcohol</th>\n      <th>percentage expenditure</th>\n      <th>Hepatitis B</th>\n      <th>Measles</th>\n      <th>...</th>\n      <th>Polio</th>\n      <th>Total expenditure</th>\n      <th>Diphtheria</th>\n      <th>HIV/AIDS</th>\n      <th>GDP</th>\n      <th>Population</th>\n      <th>thinness  1-19 years</th>\n      <th>thinness 5-9 years</th>\n      <th>Income composition of resources</th>\n      <th>Schooling</th>\n    </tr>\n  </thead>\n  <tbody>\n    <tr>\n      <th>0</th>\n      <td>Afghanistan</td>\n      <td>2015</td>\n      <td>Developing</td>\n      <td>65.0</td>\n      <td>263.0</td>\n      <td>62</td>\n      <td>0.01</td>\n      <td>71.279624</td>\n      <td>65.0</td>\n      <td>1154</td>\n      <td>...</td>\n      <td>6.0</td>\n      <td>8.16</td>\n      <td>65.0</td>\n      <td>0.1</td>\n      <td>584.259210</td>\n      <td>33736494.0</td>\n      <td>17.2</td>\n      <td>17.3</td>\n      <td>0.479</td>\n      <td>10.1</td>\n    </tr>\n    <tr>\n      <th>1</th>\n      <td>Afghanistan</td>\n      <td>2014</td>\n      <td>Developing</td>\n      <td>59.9</td>\n      <td>271.0</td>\n      <td>64</td>\n      <td>0.01</td>\n      <td>73.523582</td>\n      <td>62.0</td>\n      <td>492</td>\n      <td>...</td>\n      <td>58.0</td>\n      <td>8.18</td>\n      <td>62.0</td>\n      <td>0.1</td>\n      <td>612.696514</td>\n      <td>327582.0</td>\n      <td>17.5</td>\n      <td>17.5</td>\n      <td>0.476</td>\n      <td>10.0</td>\n    </tr>\n    <tr>\n      <th>2</th>\n      <td>Afghanistan</td>\n      <td>2013</td>\n      <td>Developing</td>\n      <td>59.9</td>\n      <td>268.0</td>\n      <td>66</td>\n      <td>0.01</td>\n      <td>73.219243</td>\n      <td>64.0</td>\n      <td>430</td>\n      <td>...</td>\n      <td>62.0</td>\n      <td>8.13</td>\n      <td>64.0</td>\n      <td>0.1</td>\n      <td>631.744976</td>\n      <td>31731688.0</td>\n      <td>17.7</td>\n      <td>17.7</td>\n      <td>0.470</td>\n      <td>9.9</td>\n    </tr>\n    <tr>\n      <th>3</th>\n      <td>Afghanistan</td>\n      <td>2012</td>\n      <td>Developing</td>\n      <td>59.5</td>\n      <td>272.0</td>\n      <td>69</td>\n      <td>0.01</td>\n      <td>78.184215</td>\n      <td>67.0</td>\n      <td>2787</td>\n      <td>...</td>\n      <td>67.0</td>\n      <td>8.52</td>\n      <td>67.0</td>\n      <td>0.1</td>\n      <td>669.959000</td>\n      <td>3696958.0</td>\n      <td>17.9</td>\n      <td>18.0</td>\n      <td>0.463</td>\n      <td>9.8</td>\n    </tr>\n    <tr>\n      <th>4</th>\n      <td>Afghanistan</td>\n      <td>2011</td>\n      <td>Developing</td>\n      <td>59.2</td>\n      <td>275.0</td>\n      <td>71</td>\n      <td>0.01</td>\n      <td>7.097109</td>\n      <td>68.0</td>\n      <td>3013</td>\n      <td>...</td>\n      <td>68.0</td>\n      <td>7.87</td>\n      <td>68.0</td>\n      <td>0.1</td>\n      <td>63.537231</td>\n      <td>2978599.0</td>\n      <td>18.2</td>\n      <td>18.2</td>\n      <td>0.454</td>\n      <td>9.5</td>\n    </tr>\n  </tbody>\n</table>\n<p>5 rows × 22 columns</p>\n</div>"
     },
     "metadata": {},
     "execution_count": 20
    }
   ],
   "source": [
    "df_lifeExpectancy = pd.read_csv('./data/Life Expectancy Data.csv')\n",
    "df_lifeExpectancy.head(5)"
   ]
  },
  {
   "cell_type": "code",
   "execution_count": 21,
   "metadata": {},
   "outputs": [
    {
     "output_type": "execute_result",
     "data": {
      "text/plain": [
       "Index(['Country', 'Year', 'Status', 'Life expectancy ', 'Adult Mortality',\n",
       "       'infant deaths', 'Alcohol', 'percentage expenditure', 'Hepatitis B',\n",
       "       'Measles ', ' BMI ', 'under-five deaths ', 'Polio', 'Total expenditure',\n",
       "       'Diphtheria ', ' HIV/AIDS', 'GDP', 'Population',\n",
       "       ' thinness  1-19 years', ' thinness 5-9 years',\n",
       "       'Income composition of resources', 'Schooling'],\n",
       "      dtype='object')"
      ]
     },
     "metadata": {},
     "execution_count": 21
    }
   ],
   "source": [
    "df_lifeExpectancy.columns"
   ]
  },
  {
   "cell_type": "code",
   "execution_count": 22,
   "metadata": {},
   "outputs": [
    {
     "output_type": "execute_result",
     "data": {
      "text/plain": [
       "Index(['Country', 'Year', 'Status', 'Life expectancy', 'Adult mortality',\n",
       "       'Infant deaths', 'Alcohol', 'Percentage expenditure', 'Hepatitis b',\n",
       "       'Measles', 'Bmi', 'Under-five deaths', 'Polio', 'Total expenditure',\n",
       "       'Diphtheria', 'Hiv/aids', 'Gdp', 'Population', 'Thinness  1-19 years',\n",
       "       'Thinness 5-9 years', 'Income composition of resources', 'Schooling'],\n",
       "      dtype='object')"
      ]
     },
     "metadata": {},
     "execution_count": 22
    }
   ],
   "source": [
    "df_lifeExpectancy.rename(columns=lambda x: x.strip(), inplace=True)\n",
    "df_lifeExpectancy.columns = [name.capitalize() for name in df_lifeExpectancy.columns]\n",
    "df_lifeExpectancy.columns"
   ]
  },
  {
   "cell_type": "code",
   "execution_count": 23,
   "metadata": {},
   "outputs": [
    {
     "output_type": "execute_result",
     "data": {
      "text/plain": [
       "Index(['Country', 'Year', 'Status', 'Life_Expectancy', 'Adult_Mortality',\n",
       "       'Infant_Deaths', 'Alcohol', 'Percentage_Expenditure', 'Hepatitis_B',\n",
       "       'Measles', 'BMI', 'Under-five_Deaths', 'Polio', 'Total_Expenditure',\n",
       "       'Diphtheria', 'HIV/AIDS', 'GDP', 'Population', 'Thinness_10-19_Years',\n",
       "       'Thinnes_5-9_Years', 'Income_Composition_of_Resources', 'Schooling'],\n",
       "      dtype='object')"
      ]
     },
     "metadata": {},
     "execution_count": 23
    }
   ],
   "source": [
    "df_lifeExpectancy.rename(columns = {\n",
    "    'Life expectancy': 'Life_Expectancy',\n",
    "    'Adult mortality': 'Adult_Mortality',\n",
    "    'Infant deaths': 'Infant_Deaths',\n",
    "    'Percentage expenditure': 'Percentage_Expenditure',\n",
    "    'Hepatitis b': 'Hepatitis_B',\n",
    "    'Bmi': 'BMI',\n",
    "    'Under-five deaths': 'Under-five_Deaths',\n",
    "    'Total expenditure': 'Total_Expenditure',\n",
    "    'Hiv/aids': 'HIV/AIDS',\n",
    "    'Gdp': 'GDP',\n",
    "    'Thinness  1-19 years': 'Thinness_10-19_Years',\n",
    "    'Thinness 5-9 years': 'Thinnes_5-9_Years',\n",
    "    'Income composition of resources': 'Income_Composition_of_Resources'\n",
    "}, inplace=True)\n",
    "df_lifeExpectancy.columns"
   ]
  },
  {
   "cell_type": "code",
   "execution_count": 24,
   "metadata": {},
   "outputs": [
    {
     "output_type": "execute_result",
     "data": {
      "text/plain": [
       "          Country  Year      Status  Life_Expectancy  Adult_Mortality  \\\n",
       "0     Afghanistan  2015  Developing             65.0            263.0   \n",
       "1     Afghanistan  2014  Developing             59.9            271.0   \n",
       "2     Afghanistan  2013  Developing             59.9            268.0   \n",
       "3     Afghanistan  2012  Developing             59.5            272.0   \n",
       "4     Afghanistan  2011  Developing             59.2            275.0   \n",
       "...           ...   ...         ...              ...              ...   \n",
       "2933     Zimbabwe  2004  Developing             44.3            723.0   \n",
       "2934     Zimbabwe  2003  Developing             44.5            715.0   \n",
       "2935     Zimbabwe  2002  Developing             44.8             73.0   \n",
       "2936     Zimbabwe  2001  Developing             45.3            686.0   \n",
       "2937     Zimbabwe  2000  Developing             46.0            665.0   \n",
       "\n",
       "      Infant_Deaths  Alcohol  Percentage_Expenditure  Hepatitis_B  Measles  \\\n",
       "0                62     0.01               71.279624         65.0     1154   \n",
       "1                64     0.01               73.523582         62.0      492   \n",
       "2                66     0.01               73.219243         64.0      430   \n",
       "3                69     0.01               78.184215         67.0     2787   \n",
       "4                71     0.01                7.097109         68.0     3013   \n",
       "...             ...      ...                     ...          ...      ...   \n",
       "2933             27     4.36                0.000000         68.0       31   \n",
       "2934             26     4.06                0.000000          7.0      998   \n",
       "2935             25     4.43                0.000000         73.0      304   \n",
       "2936             25     1.72                0.000000         76.0      529   \n",
       "2937             24     1.68                0.000000         79.0     1483   \n",
       "\n",
       "      ...  Polio  Total_Expenditure  Diphtheria  HIV/AIDS         GDP  \\\n",
       "0     ...    6.0               8.16        65.0       0.1  584.259210   \n",
       "1     ...   58.0               8.18        62.0       0.1  612.696514   \n",
       "2     ...   62.0               8.13        64.0       0.1  631.744976   \n",
       "3     ...   67.0               8.52        67.0       0.1  669.959000   \n",
       "4     ...   68.0               7.87        68.0       0.1   63.537231   \n",
       "...   ...    ...                ...         ...       ...         ...   \n",
       "2933  ...   67.0               7.13        65.0      33.6  454.366654   \n",
       "2934  ...    7.0               6.52        68.0      36.7  453.351155   \n",
       "2935  ...   73.0               6.53        71.0      39.8   57.348340   \n",
       "2936  ...   76.0               6.16        75.0      42.1  548.587312   \n",
       "2937  ...   78.0               7.10        78.0      43.5  547.358879   \n",
       "\n",
       "      Population  Thinness_10-19_Years  Thinnes_5-9_Years  \\\n",
       "0     33736494.0                  17.2               17.3   \n",
       "1       327582.0                  17.5               17.5   \n",
       "2     31731688.0                  17.7               17.7   \n",
       "3      3696958.0                  17.9               18.0   \n",
       "4      2978599.0                  18.2               18.2   \n",
       "...          ...                   ...                ...   \n",
       "2933  12777511.0                   9.4                9.4   \n",
       "2934  12633897.0                   9.8                9.9   \n",
       "2935    125525.0                   1.2                1.3   \n",
       "2936  12366165.0                   1.6                1.7   \n",
       "2937  12222251.0                  11.0               11.2   \n",
       "\n",
       "      Income_Composition_of_Resources  Schooling  \n",
       "0                               0.479       10.1  \n",
       "1                               0.476       10.0  \n",
       "2                               0.470        9.9  \n",
       "3                               0.463        9.8  \n",
       "4                               0.454        9.5  \n",
       "...                               ...        ...  \n",
       "2933                            0.407        9.2  \n",
       "2934                            0.418        9.5  \n",
       "2935                            0.427       10.0  \n",
       "2936                            0.427        9.8  \n",
       "2937                            0.434        9.8  \n",
       "\n",
       "[2938 rows x 22 columns]"
      ],
      "text/html": "<div>\n<style scoped>\n    .dataframe tbody tr th:only-of-type {\n        vertical-align: middle;\n    }\n\n    .dataframe tbody tr th {\n        vertical-align: top;\n    }\n\n    .dataframe thead th {\n        text-align: right;\n    }\n</style>\n<table border=\"1\" class=\"dataframe\">\n  <thead>\n    <tr style=\"text-align: right;\">\n      <th></th>\n      <th>Country</th>\n      <th>Year</th>\n      <th>Status</th>\n      <th>Life_Expectancy</th>\n      <th>Adult_Mortality</th>\n      <th>Infant_Deaths</th>\n      <th>Alcohol</th>\n      <th>Percentage_Expenditure</th>\n      <th>Hepatitis_B</th>\n      <th>Measles</th>\n      <th>...</th>\n      <th>Polio</th>\n      <th>Total_Expenditure</th>\n      <th>Diphtheria</th>\n      <th>HIV/AIDS</th>\n      <th>GDP</th>\n      <th>Population</th>\n      <th>Thinness_10-19_Years</th>\n      <th>Thinnes_5-9_Years</th>\n      <th>Income_Composition_of_Resources</th>\n      <th>Schooling</th>\n    </tr>\n  </thead>\n  <tbody>\n    <tr>\n      <th>0</th>\n      <td>Afghanistan</td>\n      <td>2015</td>\n      <td>Developing</td>\n      <td>65.0</td>\n      <td>263.0</td>\n      <td>62</td>\n      <td>0.01</td>\n      <td>71.279624</td>\n      <td>65.0</td>\n      <td>1154</td>\n      <td>...</td>\n      <td>6.0</td>\n      <td>8.16</td>\n      <td>65.0</td>\n      <td>0.1</td>\n      <td>584.259210</td>\n      <td>33736494.0</td>\n      <td>17.2</td>\n      <td>17.3</td>\n      <td>0.479</td>\n      <td>10.1</td>\n    </tr>\n    <tr>\n      <th>1</th>\n      <td>Afghanistan</td>\n      <td>2014</td>\n      <td>Developing</td>\n      <td>59.9</td>\n      <td>271.0</td>\n      <td>64</td>\n      <td>0.01</td>\n      <td>73.523582</td>\n      <td>62.0</td>\n      <td>492</td>\n      <td>...</td>\n      <td>58.0</td>\n      <td>8.18</td>\n      <td>62.0</td>\n      <td>0.1</td>\n      <td>612.696514</td>\n      <td>327582.0</td>\n      <td>17.5</td>\n      <td>17.5</td>\n      <td>0.476</td>\n      <td>10.0</td>\n    </tr>\n    <tr>\n      <th>2</th>\n      <td>Afghanistan</td>\n      <td>2013</td>\n      <td>Developing</td>\n      <td>59.9</td>\n      <td>268.0</td>\n      <td>66</td>\n      <td>0.01</td>\n      <td>73.219243</td>\n      <td>64.0</td>\n      <td>430</td>\n      <td>...</td>\n      <td>62.0</td>\n      <td>8.13</td>\n      <td>64.0</td>\n      <td>0.1</td>\n      <td>631.744976</td>\n      <td>31731688.0</td>\n      <td>17.7</td>\n      <td>17.7</td>\n      <td>0.470</td>\n      <td>9.9</td>\n    </tr>\n    <tr>\n      <th>3</th>\n      <td>Afghanistan</td>\n      <td>2012</td>\n      <td>Developing</td>\n      <td>59.5</td>\n      <td>272.0</td>\n      <td>69</td>\n      <td>0.01</td>\n      <td>78.184215</td>\n      <td>67.0</td>\n      <td>2787</td>\n      <td>...</td>\n      <td>67.0</td>\n      <td>8.52</td>\n      <td>67.0</td>\n      <td>0.1</td>\n      <td>669.959000</td>\n      <td>3696958.0</td>\n      <td>17.9</td>\n      <td>18.0</td>\n      <td>0.463</td>\n      <td>9.8</td>\n    </tr>\n    <tr>\n      <th>4</th>\n      <td>Afghanistan</td>\n      <td>2011</td>\n      <td>Developing</td>\n      <td>59.2</td>\n      <td>275.0</td>\n      <td>71</td>\n      <td>0.01</td>\n      <td>7.097109</td>\n      <td>68.0</td>\n      <td>3013</td>\n      <td>...</td>\n      <td>68.0</td>\n      <td>7.87</td>\n      <td>68.0</td>\n      <td>0.1</td>\n      <td>63.537231</td>\n      <td>2978599.0</td>\n      <td>18.2</td>\n      <td>18.2</td>\n      <td>0.454</td>\n      <td>9.5</td>\n    </tr>\n    <tr>\n      <th>...</th>\n      <td>...</td>\n      <td>...</td>\n      <td>...</td>\n      <td>...</td>\n      <td>...</td>\n      <td>...</td>\n      <td>...</td>\n      <td>...</td>\n      <td>...</td>\n      <td>...</td>\n      <td>...</td>\n      <td>...</td>\n      <td>...</td>\n      <td>...</td>\n      <td>...</td>\n      <td>...</td>\n      <td>...</td>\n      <td>...</td>\n      <td>...</td>\n      <td>...</td>\n      <td>...</td>\n    </tr>\n    <tr>\n      <th>2933</th>\n      <td>Zimbabwe</td>\n      <td>2004</td>\n      <td>Developing</td>\n      <td>44.3</td>\n      <td>723.0</td>\n      <td>27</td>\n      <td>4.36</td>\n      <td>0.000000</td>\n      <td>68.0</td>\n      <td>31</td>\n      <td>...</td>\n      <td>67.0</td>\n      <td>7.13</td>\n      <td>65.0</td>\n      <td>33.6</td>\n      <td>454.366654</td>\n      <td>12777511.0</td>\n      <td>9.4</td>\n      <td>9.4</td>\n      <td>0.407</td>\n      <td>9.2</td>\n    </tr>\n    <tr>\n      <th>2934</th>\n      <td>Zimbabwe</td>\n      <td>2003</td>\n      <td>Developing</td>\n      <td>44.5</td>\n      <td>715.0</td>\n      <td>26</td>\n      <td>4.06</td>\n      <td>0.000000</td>\n      <td>7.0</td>\n      <td>998</td>\n      <td>...</td>\n      <td>7.0</td>\n      <td>6.52</td>\n      <td>68.0</td>\n      <td>36.7</td>\n      <td>453.351155</td>\n      <td>12633897.0</td>\n      <td>9.8</td>\n      <td>9.9</td>\n      <td>0.418</td>\n      <td>9.5</td>\n    </tr>\n    <tr>\n      <th>2935</th>\n      <td>Zimbabwe</td>\n      <td>2002</td>\n      <td>Developing</td>\n      <td>44.8</td>\n      <td>73.0</td>\n      <td>25</td>\n      <td>4.43</td>\n      <td>0.000000</td>\n      <td>73.0</td>\n      <td>304</td>\n      <td>...</td>\n      <td>73.0</td>\n      <td>6.53</td>\n      <td>71.0</td>\n      <td>39.8</td>\n      <td>57.348340</td>\n      <td>125525.0</td>\n      <td>1.2</td>\n      <td>1.3</td>\n      <td>0.427</td>\n      <td>10.0</td>\n    </tr>\n    <tr>\n      <th>2936</th>\n      <td>Zimbabwe</td>\n      <td>2001</td>\n      <td>Developing</td>\n      <td>45.3</td>\n      <td>686.0</td>\n      <td>25</td>\n      <td>1.72</td>\n      <td>0.000000</td>\n      <td>76.0</td>\n      <td>529</td>\n      <td>...</td>\n      <td>76.0</td>\n      <td>6.16</td>\n      <td>75.0</td>\n      <td>42.1</td>\n      <td>548.587312</td>\n      <td>12366165.0</td>\n      <td>1.6</td>\n      <td>1.7</td>\n      <td>0.427</td>\n      <td>9.8</td>\n    </tr>\n    <tr>\n      <th>2937</th>\n      <td>Zimbabwe</td>\n      <td>2000</td>\n      <td>Developing</td>\n      <td>46.0</td>\n      <td>665.0</td>\n      <td>24</td>\n      <td>1.68</td>\n      <td>0.000000</td>\n      <td>79.0</td>\n      <td>1483</td>\n      <td>...</td>\n      <td>78.0</td>\n      <td>7.10</td>\n      <td>78.0</td>\n      <td>43.5</td>\n      <td>547.358879</td>\n      <td>12222251.0</td>\n      <td>11.0</td>\n      <td>11.2</td>\n      <td>0.434</td>\n      <td>9.8</td>\n    </tr>\n  </tbody>\n</table>\n<p>2938 rows × 22 columns</p>\n</div>"
     },
     "metadata": {},
     "execution_count": 24
    }
   ],
   "source": [
    "df_lifeExpectancy"
   ]
  },
  {
   "cell_type": "code",
   "execution_count": 25,
   "metadata": {},
   "outputs": [
    {
     "output_type": "stream",
     "name": "stdout",
     "text": [
      "Number of countries in life expectancy dataset: 193\nNumber of countries in happiness dataset: 163\nNumber of countries in 250 Countries dataset: 250\n"
     ]
    }
   ],
   "source": [
    "countriesAvailable_lifeExpectancy = df_lifeExpectancy.groupby(['Country']).groups.keys()\n",
    "countriesList_lifeExpectancy = [*countriesAvailable_lifeExpectancy]\n",
    "print('Number of countries in life expectancy dataset:', len(countriesAvailable_lifeExpectancy))\n",
    "\n",
    "countriesAvailable_happiness = df_happiness.groupby(['Country']).groups.keys()\n",
    "countriesList_happiness = [*countriesAvailable_happiness]\n",
    "print('Number of countries in happiness dataset:', len(countriesList_happiness))\n",
    "\n",
    "countriesAvailable_250Countries=df_countryData.groupby(['Country']).groups.keys()\n",
    "countriesList_250Countries=[*countriesAvailable_250Countries]\n",
    "print('Number of countries in 250 Countries dataset:', len(countriesList_250Countries))"
   ]
  },
  {
   "cell_type": "code",
   "execution_count": 26,
   "metadata": {},
   "outputs": [
    {
     "output_type": "stream",
     "name": "stdout",
     "text": [
      "Countries in happiness dataset but not in the life expectancy dataset: ( 24 ) {'Taiwan', 'Puerto Rico', 'Congo (Brazzaville)', 'Syria', 'Venezuela', 'Congo (Kinshasa)', 'United States', 'North Cyprus', 'Hong Kong', 'Tanzania', 'Somaliland Region', 'Kosovo', 'Czech Republic', 'Laos', 'South Korea', 'Bolivia', 'Macedonia', 'United Kingdom', 'Palestinian Territories', 'Moldova', 'Russia', 'Vietnam', 'Ivory Coast', 'Iran'} \n\nCountries in life expectancy dataset but not in the happiness dataset: ( 54 ) {'Vanuatu', 'Brunei Darussalam', 'Republic of Moldova', 'Saint Lucia', 'Venezuela (Bolivarian Republic of)', 'Dominica', 'Czechia', 'United Republic of Tanzania', 'United States of America', 'The former Yugoslav republic of Macedonia', 'Tonga', 'Gambia', 'Cabo Verde', 'Niue', \"Lao People's Democratic Republic\", 'Eritrea', 'Cook Islands', 'Grenada', 'Kiribati', 'Seychelles', 'Antigua and Barbuda', \"Democratic People's Republic of Korea\", 'Nauru', 'Democratic Republic of the Congo', 'Micronesia (Federated States of)', 'Syrian Arab Republic', 'Fiji', 'Barbados', 'Republic of Korea', 'Solomon Islands', 'Marshall Islands', 'Congo', 'San Marino', 'Papua New Guinea', 'Timor-Leste', 'Tuvalu', 'Saint Vincent and the Grenadines', 'Guinea-Bissau', 'Russian Federation', 'Guyana', 'Maldives', 'Palau', 'Iran (Islamic Republic of)', 'Viet Nam', 'Cuba', 'Monaco', 'Equatorial Guinea', 'United Kingdom of Great Britain and Northern Ireland', 'Sao Tome and Principe', 'Bolivia (Plurinational State of)', 'Bahamas', 'Saint Kitts and Nevis', \"Côte d'Ivoire\", 'Samoa'}\n"
     ]
    }
   ],
   "source": [
    "list = set(countriesList_happiness).difference(countriesList_lifeExpectancy)\n",
    "print('Countries in happiness dataset but not in the life expectancy dataset:', '(', len(list), ')', list, '\\n')\n",
    "list2 = set(countriesList_lifeExpectancy).difference(countriesList_happiness)\n",
    "print('Countries in life expectancy dataset but not in the happiness dataset:', '(', len(list2), ')', list2)"
   ]
  },
  {
   "source": [
    "### These countries will be removed as they are not in the life expectancy dataset:\n",
    "<li>Northern cyprus</li>\n",
    "<li>Palestine</li>\n",
    "<li>Hong Kong</li>\n",
    "<li>Taiwan</li>\n",
    "<li>Puerto Rico</li>"
   ],
   "cell_type": "markdown",
   "metadata": {}
  },
  {
   "source": [
    "### Using the countries difference found above, we renamed the counrtries in the life expectancy dataset to have a consistent naming schema."
   ],
   "cell_type": "markdown",
   "metadata": {}
  },
  {
   "cell_type": "code",
   "execution_count": 27,
   "metadata": {},
   "outputs": [],
   "source": [
    "df_lifeExpectancy['Country'] = df_lifeExpectancy['Country'].replace({\n",
    "    'Iran (Islamic Republic of)':'Iran', \n",
    "    'Czechia':'Czech Republic',\n",
    "    'Democratic Republic of the Congo':'Congo (Kinshasa)',\n",
    "    'Congo':'Congo (Brazzaville)',\n",
    "    'United Republic of Tanzania':'Tanzania',\n",
    "    'Russian Federation':'Russia',\n",
    "    'United States of America':'United States',\n",
    "    'Venezuela (Bolivarian Republic of)':'Venezuela',\n",
    "    \"Côte d'Ivoire\":'Ivory Coast',\n",
    "    'Viet Nam':'Vietnam',\n",
    "    'Republic of Korea':'South Korea',\n",
    "    'Syrian Arab Republic':'Syria',\n",
    "    \"Lao People's Democratic Republic\":'Laos',\n",
    "    'Republic of Moldova':'Moldova',\n",
    "    'United Kingdom of Great Britain and Northern Ireland':'United Kingdom',\n",
    "    'Bolivia (Plurinational State of)':'Bolivia',\n",
    "    'The former Yugoslav republic of Macedonia':'Macedonia',\n",
    "    'Czechia':'Czech Republic'\n",
    "    })"
   ]
  },
  {
   "cell_type": "code",
   "execution_count": 28,
   "metadata": {},
   "outputs": [
    {
     "output_type": "stream",
     "name": "stdout",
     "text": [
      "Number of countries after joining happiness dataset with life expectancy dataset: 156\nNumber of countries in the happiness dataset: 163\nCountry list after joining: {'Sweden', 'Norway', 'Namibia', 'Gabon', 'Greece', 'United Arab Emirates', 'Bosnia and Herzegovina', 'Venezuela', 'Sierra Leone', 'Somalia', 'Spain', 'Nepal', 'Belgium', 'Uzbekistan', 'Lesotho', 'Mongolia', 'Iraq', 'Germany', 'Dominican Republic', 'Egypt', 'Burundi', 'Peru', 'China', 'Laos', 'South Korea', 'Ukraine', 'Kenya', 'Macedonia', 'Costa Rica', 'Denmark', 'Mozambique', 'Portugal', 'United Kingdom', 'Zimbabwe', 'Georgia', 'Tajikistan', 'Kazakhstan', 'Argentina', 'Albania', 'Iran', 'Netherlands', 'Montenegro', 'Austria', 'El Salvador', 'Suriname', 'Botswana', 'South Africa', 'Mauritania', 'Cyprus', 'Mali', 'Ecuador', 'Uruguay', 'Estonia', 'Congo (Kinshasa)', 'India', 'Mexico', 'Thailand', 'Belarus', 'Ghana', 'South Sudan', 'Myanmar', 'Bahrain', 'Bolivia', 'Lithuania', 'Australia', 'Turkmenistan', 'Moldova', 'Ethiopia', 'Swaziland', 'Angola', 'Poland', 'Bhutan', 'Turkey', 'Hungary', 'Latvia', 'Canada', 'Azerbaijan', 'Ivory Coast', 'Iceland', 'Burkina Faso', 'Israel', 'Cambodia', 'Congo (Brazzaville)', 'Saudi Arabia', 'Bangladesh', 'Slovenia', 'Armenia', 'Nicaragua', 'Serbia', 'Singapore', 'Oman', 'Guinea', 'Central African Republic', 'France', 'Pakistan', 'Malta', 'Algeria', 'Panama', 'United States', 'Kyrgyzstan', 'Colombia', 'Malaysia', 'Sudan', 'Tanzania', 'Lebanon', 'Rwanda', 'Yemen', 'Romania', 'New Zealand', 'Trinidad and Tobago', 'Comoros', 'Djibouti', 'Malawi', 'Chile', 'Finland', 'Niger', 'Chad', 'Jamaica', 'Kuwait', 'Belize', 'Russia', 'Slovakia', 'Senegal', 'Jordan', 'Afghanistan', 'Vietnam', 'Cameroon', 'Tunisia', 'Haiti', 'Honduras', 'Liberia', 'Philippines', 'Zambia', 'Mauritius', 'Nigeria', 'Paraguay', 'Indonesia', 'Syria', 'Luxembourg', 'Morocco', 'Qatar', 'Benin', 'Bulgaria', 'Brazil', 'Switzerland', 'Guatemala', 'Japan', 'Ireland', 'Libya', 'Czech Republic', 'Togo', 'Croatia', 'Madagascar', 'Sri Lanka', 'Italy', 'Uganda'}\n"
     ]
    }
   ],
   "source": [
    "countriesAvailable_lifeExpectancy = df_lifeExpectancy.groupby(['Country']).groups.keys()\n",
    "countriesListJoined_lifeExpectancy_happiness = set([*countriesAvailable_lifeExpectancy]) & set(countriesList_happiness)\n",
    "print('Number of countries after joining happiness dataset with life expectancy dataset:', len(countriesListJoined_lifeExpectancy_happiness))\n",
    "print('Number of countries in the happiness dataset:', len(countriesList_happiness))\n",
    "print('Country list after joining:', countriesListJoined_lifeExpectancy_happiness)"
   ]
  },
  {
   "cell_type": "code",
   "execution_count": 36,
   "metadata": {},
   "outputs": [
    {
     "output_type": "stream",
     "name": "stdout",
     "text": [
      "Countries to be dropped from the happiness dataset: {'Palestinian Territories', 'Taiwan', 'Puerto Rico', 'North Cyprus', 'Hong Kong', 'Somaliland Region', 'Kosovo'}\n"
     ]
    }
   ],
   "source": [
    "print('Countries to be dropped from the happiness dataset:', set(countriesList_happiness).difference(countriesAvailable_lifeExpectancy))"
   ]
  },
  {
   "cell_type": "code",
   "execution_count": 37,
   "metadata": {},
   "outputs": [
    {
     "output_type": "stream",
     "name": "stdout",
     "text": [
      "In the cleaned list of countries and not in the 250 countries dataset: ( 16 ) {'Congo (Brazzaville)', 'Syria', 'Venezuela', 'Congo (Kinshasa)', 'United States', 'Tanzania', 'Laos', 'South Korea', 'Bolivia', 'Macedonia', 'United Kingdom', 'Moldova', 'Russia', 'Vietnam', 'Ivory Coast', 'Iran'} \n\nIn the 250 countries dataset and not in the cleaned list of countries: ( 110 ) {'Vanuatu', 'New Caledonia', 'American Samoa', 'South Georgia and the South Sandwich Islands', 'Puerto Rico', 'Saint Lucia', 'Venezuela (Bolivarian Republic of)', 'Dominica', 'Guam', 'Saint Barthélemy', 'Réunion', 'Wallis and Futuna', 'United States of America', 'Norfolk Island', 'Hong Kong', 'Turks and Caicos Islands', 'Northern Mariana Islands', 'Gambia', \"Lao People's Democratic Republic\", 'Eritrea', 'Cook Islands', 'Cayman Islands', 'French Southern Territories', 'Grenada', 'Seychelles', 'Nauru', 'Virgin Islands (British)', 'Heard Island and McDonald Islands', 'Syrian Arab Republic', 'Falkland Islands (Malvinas)', 'Fiji', 'Barbados', 'Solomon Islands', 'Congo', 'Antarctica', 'Faroe Islands', 'Saint Vincent and the Grenadines', 'Saint Martin (French part)', 'Virgin Islands (U.S.)', 'Guinea-Bissau', 'Montserrat', 'French Guiana', 'Russian Federation', 'Pitcairn', 'Palau', 'Iran (Islamic Republic of)', 'French Polynesia', 'Mayotte', 'Palestine, State of', 'Monaco', 'Equatorial Guinea', 'United Kingdom of Great Britain and Northern Ireland', 'Bonaire, Sint Eustatius and Saba', 'Sao Tome and Principe', 'Bahamas', 'Holy See', 'Taiwan', 'Brunei Darussalam', 'Tokelau', 'Bermuda', 'Andorra', 'Korea (Republic of)', 'Bouvet Island', 'Republic of Kosovo', 'Saint Pierre and Miquelon', 'Åland Islands', 'Anguilla', 'Tonga', 'Macao', 'Jersey', 'Cabo Verde', 'United States Minor Outlying Islands', 'Niue', 'Svalbard and Jan Mayen', 'Kiribati', 'Christmas Island', 'Isle of Man', 'Antigua and Barbuda', 'Western Sahara', 'Micronesia (Federated States of)', 'Gibraltar', 'Marshall Islands', 'Saint Helena, Ascension and Tristan da Cunha', 'San Marino', 'Liechtenstein', 'Papua New Guinea', 'Timor-Leste', 'Tuvalu', 'British Indian Ocean Territory', 'Tanzania, United Republic of', 'Martinique', 'Aruba', 'Guyana', 'Guernsey', \"Korea (Democratic People's Republic of)\", 'Maldives', 'Viet Nam', 'Cocos (Keeling) Islands', 'Cuba', 'Curaçao', 'Guadeloupe', 'Moldova (Republic of)', 'Macedonia (the former Yugoslav Republic of)', 'Congo (Democratic Republic of the)', 'Sint Maarten (Dutch part)', 'Bolivia (Plurinational State of)', 'Greenland', 'Saint Kitts and Nevis', \"Côte d'Ivoire\", 'Samoa'}\n"
     ]
    }
   ],
   "source": [
    "list = set(countriesListJoined_lifeExpectancy_happiness).difference(countriesList_250Countries)\n",
    "print('In the cleaned list of countries and not in the 250 countries dataset:', '(', len(list), ')', list, '\\n')\n",
    "list2 = set(countriesList_250Countries).difference(countriesListJoined_lifeExpectancy_happiness)\n",
    "print('In the 250 countries dataset and not in the cleaned list of countries:', '(', len(list2), ')', list2)"
   ]
  },
  {
   "cell_type": "code",
   "execution_count": 38,
   "metadata": {},
   "outputs": [],
   "source": [
    "df_countryData['Country'] = df_countryData['Country'].replace({\n",
    "    'Iran (Islamic Republic of)':'Iran',\n",
    "    'Tanzania, United Republic of':'Tanzania',\n",
    "    'Congo':'Congo (Brazzaville)',\n",
    "    'Congo (Democratic Republic of the)':'Congo (Kinshasa)',\n",
    "    'Russian Federation':'Russia',\n",
    "    'United States of America':'United States',\n",
    "    'Venezuela (Bolivarian Republic of)':'Venezuela',\n",
    "    \"Côte d'Ivoire\":'Ivory Coast',\n",
    "    'Viet Nam':'Vietnam',\n",
    "    'Korea (Republic of)':'South Korea',\n",
    "    'Syrian Arab Republic':'Syria',\n",
    "    \"Lao People's Democratic Republic\":'Laos', \n",
    "    'Moldova (Republic of)':'Moldova',\n",
    "    'United Kingdom of Great Britain and Northern Ireland':'United Kingdom',\n",
    "    'Bolivia (Plurinational State of)':'Bolivia',\n",
    "    'Macedonia (the former Yugoslav Republic of)':'Macedonia'\n",
    "    })"
   ]
  },
  {
   "cell_type": "code",
   "execution_count": 39,
   "metadata": {},
   "outputs": [
    {
     "output_type": "stream",
     "name": "stdout",
     "text": [
      "Count of countries after joining all three datasets: 192 {'Vanuatu', 'Sweden', 'Norway', 'Namibia', 'Saint Lucia', 'Gabon', 'Dominica', 'Greece', 'United Arab Emirates', 'Bosnia and Herzegovina', 'Venezuela', 'Sierra Leone', 'Somalia', 'Spain', 'Nepal', 'Belgium', 'Uzbekistan', 'Lesotho', 'Mongolia', 'Iraq', 'Germany', 'Dominican Republic', 'Egypt', 'Burundi', 'Peru', 'China', 'Laos', 'South Korea', 'Gambia', 'Ukraine', 'Kenya', 'Macedonia', 'Costa Rica', 'Denmark', 'Mozambique', 'Eritrea', 'Cook Islands', 'Grenada', 'Portugal', 'United Kingdom', 'Seychelles', 'Nauru', 'Zimbabwe', 'Georgia', 'Tajikistan', 'Kazakhstan', 'Argentina', 'Albania', 'Iran', 'Montenegro', 'Netherlands', 'Solomon Islands', 'Austria', 'El Salvador', 'Suriname', 'Fiji', 'Barbados', 'Botswana', 'South Africa', 'Mauritania', 'Cyprus', 'Mali', 'Saint Vincent and the Grenadines', 'Ecuador', 'Guinea-Bissau', 'Uruguay', 'Estonia', 'Congo (Kinshasa)', 'India', 'Mexico', 'Thailand', 'Belarus', 'Ghana', 'South Sudan', 'Palau', 'Myanmar', 'Bahrain', 'Monaco', 'Bolivia', 'Equatorial Guinea', 'Lithuania', 'Australia', 'Turkmenistan', 'Moldova', 'Ethiopia', 'Sao Tome and Principe', 'Swaziland', 'Angola', 'Bahamas', 'Bhutan', 'Poland', 'Turkey', 'Hungary', 'Latvia', 'Canada', 'Azerbaijan', 'Ivory Coast', 'Iceland', 'Burkina Faso', 'Israel', 'Cambodia', 'Congo (Brazzaville)', 'Saudi Arabia', 'Bangladesh', 'Slovenia', 'Armenia', 'Nicaragua', 'Serbia', 'Singapore', 'Oman', 'Brunei Darussalam', 'Guinea', 'Central African Republic', 'France', 'Pakistan', 'Malta', 'Algeria', 'Panama', 'United States', 'Kyrgyzstan', 'Colombia', 'Malaysia', 'Sudan', 'Tanzania', 'Lebanon', 'Rwanda', 'Yemen', 'Romania', 'New Zealand', 'Trinidad and Tobago', 'Comoros', 'Djibouti', 'Malawi', 'Chile', 'Finland', 'Niger', 'Tonga', 'Chad', 'Jamaica', 'Cabo Verde', 'Kuwait', 'Niue', 'Kiribati', 'Belize', 'Russia', 'Slovakia', 'Antigua and Barbuda', 'Senegal', 'Micronesia (Federated States of)', 'Jordan', 'Afghanistan', 'Vietnam', 'Cameroon', 'Tunisia', 'Haiti', 'Honduras', 'Marshall Islands', 'Liberia', 'San Marino', 'Philippines', 'Zambia', 'Papua New Guinea', 'Timor-Leste', 'Mauritius', 'Nigeria', 'Paraguay', 'Indonesia', 'Syria', 'Tuvalu', 'Luxembourg', 'Morocco', 'Qatar', 'Benin', 'Bulgaria', 'Guyana', 'Brazil', 'Maldives', 'Switzerland', 'Guatemala', 'Japan', 'Ireland', 'Cuba', 'Libya', 'Czech Republic', 'Togo', 'Croatia', 'Madagascar', 'Sri Lanka', 'Italy', 'Saint Kitts and Nevis', 'Samoa', 'Uganda'}\n"
     ]
    }
   ],
   "source": [
    "countriesAvailable_250Countries = df_countryData.groupby(['Country']).groups.keys()\n",
    "countriesList_joinedThree = set([*countriesAvailable_250Countries]) & set(countriesAvailable_lifeExpectancy)\n",
    "print('Count of countries after joining all three datasets:', len(countriesList_joinedThree), countriesList_joinedThree)"
   ]
  },
  {
   "cell_type": "code",
   "execution_count": 40,
   "metadata": {},
   "outputs": [],
   "source": [
    "df_integrated = pd.merge(pd.merge(df_countryData,df_happiness,on='Country', how='inner'), df_lifeExpectancy,on='Country', how='inner')"
   ]
  },
  {
   "cell_type": "code",
   "execution_count": 41,
   "metadata": {},
   "outputs": [
    {
     "output_type": "execute_result",
     "data": {
      "text/plain": [
       "'countryAfghanistan = df_lifeExpectancy[df_lifeExpectancy[\\'Country\\'] == \\'Afghanistan\\']\\nsns.pairplot(data=countryAfghanistan, hue=\"Country\", x_vars=\\'Year\\', kind=\\'reg\\', y_vars=countryAfghanistan.columns[3:])\\n\\ncountryMozambique = df_lifeExpectancy[df_lifeExpectancy[\\'Country\\'] == \\'Mozambique\\']\\nsns.pairplot(data=countryMozambique, hue=\"Country\", x_vars=\\'Year\\', kind=\\'reg\\', y_vars=countryMozambique.columns[3:])\\n\\ncountryUruguay = df_lifeExpectancy[df_lifeExpectancy[\\'Country\\'] == \\'Uruguay\\']\\nsns.pairplot(data=countryUruguay, hue=\"Country\", x_vars=\\'Year\\', kind=\\'reg\\', y_vars=countryUruguay.columns[3:])'"
      ]
     },
     "metadata": {},
     "execution_count": 41
    }
   ],
   "source": [
    "'''countryAfghanistan = df_lifeExpectancy[df_lifeExpectancy['Country'] == 'Afghanistan']\n",
    "sns.pairplot(data=countryAfghanistan, hue=\"Country\", x_vars='Year', kind='reg', y_vars=countryAfghanistan.columns[3:])\n",
    "\n",
    "countryMozambique = df_lifeExpectancy[df_lifeExpectancy['Country'] == 'Mozambique']\n",
    "sns.pairplot(data=countryMozambique, hue=\"Country\", x_vars='Year', kind='reg', y_vars=countryMozambique.columns[3:])\n",
    "\n",
    "countryUruguay = df_lifeExpectancy[df_lifeExpectancy['Country'] == 'Uruguay']\n",
    "sns.pairplot(data=countryUruguay, hue=\"Country\", x_vars='Year', kind='reg', y_vars=countryUruguay.columns[3:])'''"
   ]
  },
  {
   "cell_type": "code",
   "execution_count": 35,
   "metadata": {},
   "outputs": [
    {
     "output_type": "execute_result",
     "data": {
      "text/plain": [
       "[2000,\n",
       " 2001,\n",
       " 2002,\n",
       " 2003,\n",
       " 2004,\n",
       " 2005,\n",
       " 2006,\n",
       " 2007,\n",
       " 2008,\n",
       " 2009,\n",
       " 2010,\n",
       " 2011,\n",
       " 2012,\n",
       " 2013,\n",
       " 2014,\n",
       " 2015]"
      ]
     },
     "metadata": {},
     "execution_count": 35
    }
   ],
   "source": [
    "list = []\n",
    "x = [*df_lifeExpectancy.groupby(['Year']).groups.keys()]\n",
    "x"
   ]
  },
  {
   "cell_type": "code",
   "execution_count": 106,
   "metadata": {
    "tags": []
   },
   "outputs": [
    {
     "output_type": "stream",
     "name": "stdout",
     "text": [
      "[[62.02      ]\n [62.47014706]\n [62.92029412]\n [63.37044118]]\n[[281.775     ]\n [283.27058824]\n [284.76617647]\n [286.26176471]]\n[[62.05      ]\n [60.14411765]\n [58.23823529]\n [56.33235294]]\n[[0.01225]\n [0.012  ]\n [0.01175]\n [0.0115 ]]\n[[77.74084862]\n [82.77387668]\n [87.80690474]\n [92.83993281]]\n[[65.25      ]\n [65.33088235]\n [65.41176471]\n [65.49264706]]\n[[ 255.625     ]\n [   7.78676471]\n [-240.05147059]\n [-487.88970588]]\n[[19.4775    ]\n [19.94323529]\n [20.40897059]\n [20.87470588]]\n[[83.175     ]\n [80.30588235]\n [77.43676471]\n [74.56764706]]\n[[61.45      ]\n [62.98823529]\n [64.52647059]\n [66.06470588]]\n[[8.36925   ]\n [8.38298529]\n [8.39672059]\n [8.41045588]]\n[[77.7       ]\n [80.68676471]\n [83.67352941]\n [86.66029412]]\n[[0.1]\n [0.1]\n [0.1]\n [0.1]]\n[[648.53423281]\n [684.83056309]\n [721.12689336]\n [757.42322364]]\n[[15233957.02499986]\n [15852980.22647047]\n [16472003.42794108]\n [17091026.6294117 ]]\n[[21.1775    ]\n [21.71823529]\n [22.25897059]\n [22.79970588]]\n[[22.5025    ]\n [23.31676471]\n [24.13102941]\n [24.94529412]]\n[[0.502725  ]\n [0.51300147]\n [0.52327794]\n [0.53355441]]\n[[10.9725    ]\n [11.29720588]\n [11.62191176]\n [11.94661765]]\n[[78.31      ]\n [78.68102941]\n [79.05205882]\n [79.42308824]]\n[[83.6       ]\n [88.13382353]\n [92.66764706]\n [97.20147059]]\n[[ 0.        ]\n [-0.08088235]\n [-0.16176471]\n [-0.24264706]]\n[[5.403     ]\n [5.46820588]\n [5.53341176]\n [5.59861765]]\n[[420.89431892]\n [447.674934  ]\n [474.45554908]\n [501.23616417]]\n[[ 99.6       ]\n [ 99.78823529]\n [ 99.97647059]\n [100.16470588]]\n[[ -76.5       ]\n [ -91.77941176]\n [-107.05882353]\n [-122.33823529]]\n[[58.1525    ]\n [59.22117647]\n [60.28985294]\n [61.35852941]]\n[[0.75      ]\n [0.72794118]\n [0.70588235]\n [0.68382353]]\n[[99.275     ]\n [99.41029412]\n [99.54558824]\n [99.68088235]]\n[[5.6       ]\n [5.55933824]\n [5.51867647]\n [5.47801471]]\n[[99.25      ]\n [99.38970588]\n [99.52941176]\n [99.66911765]]\n[[0.1]\n [0.1]\n [0.1]\n [0.1]]\n[[4376.42385948]\n [4641.91764543]\n [4907.41143138]\n [5172.90521733]]\n[[767550.55      ]\n [775861.01176471]\n [784171.47352941]\n [792481.93529412]]\n[[1.0725    ]\n [1.00823529]\n [0.94397059]\n [0.87970588]]\n[[1.175     ]\n [1.11323529]\n [1.05147059]\n [0.98970588]]\n[[0.7754    ]\n [0.78310882]\n [0.79081765]\n [0.79852647]]\n[[14.605     ]\n [14.89529412]\n [15.18558824]\n [15.47588235]]\n[[76.3475    ]\n [76.66852941]\n [76.98955882]\n [77.31058824]]\n[[62.025     ]\n [56.59411765]\n [51.16323529]\n [45.73235294]]\n[[21.025     ]\n [21.10882353]\n [21.19264706]\n [21.27647059]]\n"
     ]
    },
    {
     "output_type": "error",
     "ename": "ValueError",
     "evalue": "Input contains NaN, infinity or a value too large for dtype('float64').",
     "traceback": [
      "\u001b[1;31m---------------------------------------------------------------------------\u001b[0m",
      "\u001b[1;31mValueError\u001b[0m                                Traceback (most recent call last)",
      "\u001b[1;32m<ipython-input-106-b913f02cb1c1>\u001b[0m in \u001b[0;36m<module>\u001b[1;34m\u001b[0m\n\u001b[0;32m      8\u001b[0m             \u001b[1;32mcontinue\u001b[0m\u001b[1;33m\u001b[0m\u001b[1;33m\u001b[0m\u001b[0m\n\u001b[0;32m      9\u001b[0m         \u001b[0mx_train\u001b[0m \u001b[1;33m=\u001b[0m \u001b[0mnp\u001b[0m\u001b[1;33m.\u001b[0m\u001b[0marray\u001b[0m\u001b[1;33m(\u001b[0m\u001b[0mdf_lifeExpectancy\u001b[0m\u001b[1;33m[\u001b[0m\u001b[0mdf_lifeExpectancy\u001b[0m\u001b[1;33m[\u001b[0m\u001b[1;34m'Country'\u001b[0m\u001b[1;33m]\u001b[0m \u001b[1;33m==\u001b[0m \u001b[0mcountry\u001b[0m\u001b[1;33m]\u001b[0m\u001b[1;33m[\u001b[0m\u001b[0mcolumnName\u001b[0m\u001b[1;33m]\u001b[0m\u001b[1;33m)\u001b[0m\u001b[1;33m.\u001b[0m\u001b[0mreshape\u001b[0m\u001b[1;33m(\u001b[0m\u001b[1;33m-\u001b[0m\u001b[1;36m1\u001b[0m\u001b[1;33m,\u001b[0m \u001b[1;36m1\u001b[0m\u001b[1;33m)\u001b[0m\u001b[1;33m\u001b[0m\u001b[1;33m\u001b[0m\u001b[0m\n\u001b[1;32m---> 10\u001b[1;33m         \u001b[0mmodel\u001b[0m\u001b[1;33m.\u001b[0m\u001b[0mfit\u001b[0m\u001b[1;33m(\u001b[0m\u001b[0myears\u001b[0m\u001b[1;33m,\u001b[0m \u001b[0mx_train\u001b[0m\u001b[1;33m)\u001b[0m\u001b[1;33m\u001b[0m\u001b[1;33m\u001b[0m\u001b[0m\n\u001b[0m\u001b[0;32m     11\u001b[0m         \u001b[0mx_predict\u001b[0m \u001b[1;33m=\u001b[0m \u001b[0mmodel\u001b[0m\u001b[1;33m.\u001b[0m\u001b[0mpredict\u001b[0m\u001b[1;33m(\u001b[0m\u001b[0myears_predict\u001b[0m\u001b[1;33m)\u001b[0m\u001b[1;33m\u001b[0m\u001b[1;33m\u001b[0m\u001b[0m\n\u001b[0;32m     12\u001b[0m         \u001b[0mprint\u001b[0m\u001b[1;33m(\u001b[0m\u001b[0mx_predict\u001b[0m\u001b[1;33m)\u001b[0m\u001b[1;33m\u001b[0m\u001b[1;33m\u001b[0m\u001b[0m\n",
      "\u001b[1;32mC:\\ProgramData\\Anaconda3\\lib\\site-packages\\sklearn\\linear_model\\_base.py\u001b[0m in \u001b[0;36mfit\u001b[1;34m(self, X, y, sample_weight)\u001b[0m\n\u001b[0;32m    503\u001b[0m \u001b[1;33m\u001b[0m\u001b[0m\n\u001b[0;32m    504\u001b[0m         \u001b[0mn_jobs_\u001b[0m \u001b[1;33m=\u001b[0m \u001b[0mself\u001b[0m\u001b[1;33m.\u001b[0m\u001b[0mn_jobs\u001b[0m\u001b[1;33m\u001b[0m\u001b[1;33m\u001b[0m\u001b[0m\n\u001b[1;32m--> 505\u001b[1;33m         X, y = self._validate_data(X, y, accept_sparse=['csr', 'csc', 'coo'],\n\u001b[0m\u001b[0;32m    506\u001b[0m                                    y_numeric=True, multi_output=True)\n\u001b[0;32m    507\u001b[0m \u001b[1;33m\u001b[0m\u001b[0m\n",
      "\u001b[1;32mC:\\ProgramData\\Anaconda3\\lib\\site-packages\\sklearn\\base.py\u001b[0m in \u001b[0;36m_validate_data\u001b[1;34m(self, X, y, reset, validate_separately, **check_params)\u001b[0m\n\u001b[0;32m    430\u001b[0m                 \u001b[0my\u001b[0m \u001b[1;33m=\u001b[0m \u001b[0mcheck_array\u001b[0m\u001b[1;33m(\u001b[0m\u001b[0my\u001b[0m\u001b[1;33m,\u001b[0m \u001b[1;33m**\u001b[0m\u001b[0mcheck_y_params\u001b[0m\u001b[1;33m)\u001b[0m\u001b[1;33m\u001b[0m\u001b[1;33m\u001b[0m\u001b[0m\n\u001b[0;32m    431\u001b[0m             \u001b[1;32melse\u001b[0m\u001b[1;33m:\u001b[0m\u001b[1;33m\u001b[0m\u001b[1;33m\u001b[0m\u001b[0m\n\u001b[1;32m--> 432\u001b[1;33m                 \u001b[0mX\u001b[0m\u001b[1;33m,\u001b[0m \u001b[0my\u001b[0m \u001b[1;33m=\u001b[0m \u001b[0mcheck_X_y\u001b[0m\u001b[1;33m(\u001b[0m\u001b[0mX\u001b[0m\u001b[1;33m,\u001b[0m \u001b[0my\u001b[0m\u001b[1;33m,\u001b[0m \u001b[1;33m**\u001b[0m\u001b[0mcheck_params\u001b[0m\u001b[1;33m)\u001b[0m\u001b[1;33m\u001b[0m\u001b[1;33m\u001b[0m\u001b[0m\n\u001b[0m\u001b[0;32m    433\u001b[0m             \u001b[0mout\u001b[0m \u001b[1;33m=\u001b[0m \u001b[0mX\u001b[0m\u001b[1;33m,\u001b[0m \u001b[0my\u001b[0m\u001b[1;33m\u001b[0m\u001b[1;33m\u001b[0m\u001b[0m\n\u001b[0;32m    434\u001b[0m \u001b[1;33m\u001b[0m\u001b[0m\n",
      "\u001b[1;32mC:\\ProgramData\\Anaconda3\\lib\\site-packages\\sklearn\\utils\\validation.py\u001b[0m in \u001b[0;36minner_f\u001b[1;34m(*args, **kwargs)\u001b[0m\n\u001b[0;32m     71\u001b[0m                           FutureWarning)\n\u001b[0;32m     72\u001b[0m         \u001b[0mkwargs\u001b[0m\u001b[1;33m.\u001b[0m\u001b[0mupdate\u001b[0m\u001b[1;33m(\u001b[0m\u001b[1;33m{\u001b[0m\u001b[0mk\u001b[0m\u001b[1;33m:\u001b[0m \u001b[0marg\u001b[0m \u001b[1;32mfor\u001b[0m \u001b[0mk\u001b[0m\u001b[1;33m,\u001b[0m \u001b[0marg\u001b[0m \u001b[1;32min\u001b[0m \u001b[0mzip\u001b[0m\u001b[1;33m(\u001b[0m\u001b[0msig\u001b[0m\u001b[1;33m.\u001b[0m\u001b[0mparameters\u001b[0m\u001b[1;33m,\u001b[0m \u001b[0margs\u001b[0m\u001b[1;33m)\u001b[0m\u001b[1;33m}\u001b[0m\u001b[1;33m)\u001b[0m\u001b[1;33m\u001b[0m\u001b[1;33m\u001b[0m\u001b[0m\n\u001b[1;32m---> 73\u001b[1;33m         \u001b[1;32mreturn\u001b[0m \u001b[0mf\u001b[0m\u001b[1;33m(\u001b[0m\u001b[1;33m**\u001b[0m\u001b[0mkwargs\u001b[0m\u001b[1;33m)\u001b[0m\u001b[1;33m\u001b[0m\u001b[1;33m\u001b[0m\u001b[0m\n\u001b[0m\u001b[0;32m     74\u001b[0m     \u001b[1;32mreturn\u001b[0m \u001b[0minner_f\u001b[0m\u001b[1;33m\u001b[0m\u001b[1;33m\u001b[0m\u001b[0m\n\u001b[0;32m     75\u001b[0m \u001b[1;33m\u001b[0m\u001b[0m\n",
      "\u001b[1;32mC:\\ProgramData\\Anaconda3\\lib\\site-packages\\sklearn\\utils\\validation.py\u001b[0m in \u001b[0;36mcheck_X_y\u001b[1;34m(X, y, accept_sparse, accept_large_sparse, dtype, order, copy, force_all_finite, ensure_2d, allow_nd, multi_output, ensure_min_samples, ensure_min_features, y_numeric, estimator)\u001b[0m\n\u001b[0;32m    803\u001b[0m                     estimator=estimator)\n\u001b[0;32m    804\u001b[0m     \u001b[1;32mif\u001b[0m \u001b[0mmulti_output\u001b[0m\u001b[1;33m:\u001b[0m\u001b[1;33m\u001b[0m\u001b[1;33m\u001b[0m\u001b[0m\n\u001b[1;32m--> 805\u001b[1;33m         y = check_array(y, accept_sparse='csr', force_all_finite=True,\n\u001b[0m\u001b[0;32m    806\u001b[0m                         ensure_2d=False, dtype=None)\n\u001b[0;32m    807\u001b[0m     \u001b[1;32melse\u001b[0m\u001b[1;33m:\u001b[0m\u001b[1;33m\u001b[0m\u001b[1;33m\u001b[0m\u001b[0m\n",
      "\u001b[1;32mC:\\ProgramData\\Anaconda3\\lib\\site-packages\\sklearn\\utils\\validation.py\u001b[0m in \u001b[0;36minner_f\u001b[1;34m(*args, **kwargs)\u001b[0m\n\u001b[0;32m     71\u001b[0m                           FutureWarning)\n\u001b[0;32m     72\u001b[0m         \u001b[0mkwargs\u001b[0m\u001b[1;33m.\u001b[0m\u001b[0mupdate\u001b[0m\u001b[1;33m(\u001b[0m\u001b[1;33m{\u001b[0m\u001b[0mk\u001b[0m\u001b[1;33m:\u001b[0m \u001b[0marg\u001b[0m \u001b[1;32mfor\u001b[0m \u001b[0mk\u001b[0m\u001b[1;33m,\u001b[0m \u001b[0marg\u001b[0m \u001b[1;32min\u001b[0m \u001b[0mzip\u001b[0m\u001b[1;33m(\u001b[0m\u001b[0msig\u001b[0m\u001b[1;33m.\u001b[0m\u001b[0mparameters\u001b[0m\u001b[1;33m,\u001b[0m \u001b[0margs\u001b[0m\u001b[1;33m)\u001b[0m\u001b[1;33m}\u001b[0m\u001b[1;33m)\u001b[0m\u001b[1;33m\u001b[0m\u001b[1;33m\u001b[0m\u001b[0m\n\u001b[1;32m---> 73\u001b[1;33m         \u001b[1;32mreturn\u001b[0m \u001b[0mf\u001b[0m\u001b[1;33m(\u001b[0m\u001b[1;33m**\u001b[0m\u001b[0mkwargs\u001b[0m\u001b[1;33m)\u001b[0m\u001b[1;33m\u001b[0m\u001b[1;33m\u001b[0m\u001b[0m\n\u001b[0m\u001b[0;32m     74\u001b[0m     \u001b[1;32mreturn\u001b[0m \u001b[0minner_f\u001b[0m\u001b[1;33m\u001b[0m\u001b[1;33m\u001b[0m\u001b[0m\n\u001b[0;32m     75\u001b[0m \u001b[1;33m\u001b[0m\u001b[0m\n",
      "\u001b[1;32mC:\\ProgramData\\Anaconda3\\lib\\site-packages\\sklearn\\utils\\validation.py\u001b[0m in \u001b[0;36mcheck_array\u001b[1;34m(array, accept_sparse, accept_large_sparse, dtype, order, copy, force_all_finite, ensure_2d, allow_nd, ensure_min_samples, ensure_min_features, estimator)\u001b[0m\n\u001b[0;32m    643\u001b[0m \u001b[1;33m\u001b[0m\u001b[0m\n\u001b[0;32m    644\u001b[0m         \u001b[1;32mif\u001b[0m \u001b[0mforce_all_finite\u001b[0m\u001b[1;33m:\u001b[0m\u001b[1;33m\u001b[0m\u001b[1;33m\u001b[0m\u001b[0m\n\u001b[1;32m--> 645\u001b[1;33m             _assert_all_finite(array,\n\u001b[0m\u001b[0;32m    646\u001b[0m                                allow_nan=force_all_finite == 'allow-nan')\n\u001b[0;32m    647\u001b[0m \u001b[1;33m\u001b[0m\u001b[0m\n",
      "\u001b[1;32mC:\\ProgramData\\Anaconda3\\lib\\site-packages\\sklearn\\utils\\validation.py\u001b[0m in \u001b[0;36m_assert_all_finite\u001b[1;34m(X, allow_nan, msg_dtype)\u001b[0m\n\u001b[0;32m     95\u001b[0m                 not allow_nan and not np.isfinite(X).all()):\n\u001b[0;32m     96\u001b[0m             \u001b[0mtype_err\u001b[0m \u001b[1;33m=\u001b[0m \u001b[1;34m'infinity'\u001b[0m \u001b[1;32mif\u001b[0m \u001b[0mallow_nan\u001b[0m \u001b[1;32melse\u001b[0m \u001b[1;34m'NaN, infinity'\u001b[0m\u001b[1;33m\u001b[0m\u001b[1;33m\u001b[0m\u001b[0m\n\u001b[1;32m---> 97\u001b[1;33m             raise ValueError(\n\u001b[0m\u001b[0;32m     98\u001b[0m                     \u001b[0mmsg_err\u001b[0m\u001b[1;33m.\u001b[0m\u001b[0mformat\u001b[0m\u001b[1;33m\u001b[0m\u001b[1;33m\u001b[0m\u001b[0m\n\u001b[0;32m     99\u001b[0m                     (type_err,\n",
      "\u001b[1;31mValueError\u001b[0m: Input contains NaN, infinity or a value too large for dtype('float64')."
     ]
    }
   ],
   "source": [
    "model = LinearRegression()\n",
    "years = np.flip(np.array([*df_lifeExpectancy.groupby(['Year']).groups.keys()]).reshape(-1, 1))\n",
    "allCountries = [*df_integrated.groupby(['Country']).groups.keys()]\n",
    "years_predict = np.array([2016, 2017, 2018, 2019]).reshape(-1, 1)\n",
    "for country in allCountries:\n",
    "    for columnName, columnData in df_lifeExpectancy.iteritems():\n",
    "        if(columnName == 'Country' or columnName == 'Year' or columnName == 'Status'):\n",
    "            continue\n",
    "        x_train = np.array(df_lifeExpectancy[df_lifeExpectancy['Country'] == country][columnName]).reshape(-1, 1)\n",
    "        model.fit(years, x_train)\n",
    "        x_predict = model.predict(years_predict)\n",
    "        print(x_predict)"
   ]
  },
  {
   "cell_type": "code",
   "execution_count": null,
   "metadata": {},
   "outputs": [],
   "source": [
    "# A visualization of the outliers\n",
    "plt.figure(figsize=(12,12))\n",
    "# plot the level sets of the decision function\n",
    "\n",
    "in_mask = [True if l == 1 else False for l in yhat]\n",
    "out_mask = [True if l == -1 else False for l in yhat]\n",
    "\n",
    "plt.title(\"Local Outlier Factor (LOF)\")\n",
    "# inliers\n",
    "a = plt.scatter(X[in_mask, 0], X[in_mask, 1], c = 'blue',\n",
    "                edgecolor = 'k', s = 30)\n",
    "# outliers\n",
    "b = plt.scatter(X[out_mask, 0], X[out_mask, 1], c = 'red',\n",
    "                edgecolor = 'k', s = 30)\n",
    "plt.axis('tight')\n",
    "plt.xlabel('Schooling');\n",
    "plt.ylabel('Income composition of resources');\n",
    "plt.show()"
   ]
  },
  {
   "cell_type": "code",
   "execution_count": null,
   "metadata": {},
   "outputs": [],
   "source": [
    "from sklearn.neighbors import LocalOutlierFactor\n",
    "print(len(df_lifeExpectancy))\n",
    "df_lifeExpectancyDroppedNa = df_lifeExpectancy.dropna(subset=['Schooling', 'Income composition of resources'])\n",
    "print(len(df_lifeExpectancyDroppedNa))\n",
    "X = df_lifeExpectancyDroppedNa[['Schooling', 'Income composition of resources']].values\n",
    "\n",
    "lof = LocalOutlierFactor()\n",
    "yhat = lof.fit_predict(X)\n",
    "\n",
    "mask = yhat != -1\n",
    "X_filtered = X[mask, :]\n",
    "\n",
    "# summarize the shape of the updated dataset\n",
    "print(X.shape)\n",
    "print(X_filtered.shape)"
   ]
  }
 ]
}