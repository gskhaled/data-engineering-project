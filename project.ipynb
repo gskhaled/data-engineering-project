{
 "metadata": {
  "language_info": {
   "codemirror_mode": {
    "name": "ipython",
    "version": 3
   },
   "file_extension": ".py",
   "mimetype": "text/x-python",
   "name": "python",
   "nbconvert_exporter": "python",
   "pygments_lexer": "ipython3",
   "version": "3.7.7-final"
  },
  "orig_nbformat": 2,
  "kernelspec": {
   "name": "python3",
   "display_name": "Python 3",
   "language": "python"
  }
 },
 "nbformat": 4,
 "nbformat_minor": 2,
 "cells": [
  {
   "source": [
    "# Data Engineering Project\n",
    "## Data Analyzers\n",
    "### Islam Nasr\n",
    "### Gaser Khaled\n",
    "### Kariman Hossam\n",
    "### Marwan Karim "
   ],
   "cell_type": "markdown",
   "metadata": {}
  },
  {
   "source": [
    "## Opening available datasets to check how is it organized\n",
    "Inspecting available datasets to get a view of the columns and rows."
   ],
   "cell_type": "markdown",
   "metadata": {}
  },
  {
   "cell_type": "code",
   "execution_count": 2,
   "metadata": {},
   "outputs": [],
   "source": [
    "import numpy as np\n",
    "import pandas as pd"
   ]
  },
  {
   "cell_type": "code",
   "execution_count": 3,
   "metadata": {},
   "outputs": [
    {
     "output_type": "execute_result",
     "data": {
      "text/plain": [
       "   Unnamed: 0            name   region        subregion  population  \\\n",
       "0           0     Afghanistan     Asia    Southern Asia    27657145   \n",
       "1           1   Åland Islands   Europe  Northern Europe       28875   \n",
       "2           2         Albania   Europe  Southern Europe     2886026   \n",
       "3           3         Algeria   Africa  Northern Africa    40400000   \n",
       "4           4  American Samoa  Oceania        Polynesia       57100   \n",
       "\n",
       "        area  gini Real Growth Rating(%)   Literacy Rate(%)  \\\n",
       "0   652230.0  27.8     3.1% (2013 est.).  28.1% (2000 est.)   \n",
       "1     1580.0   NaN                   NaN                NaN   \n",
       "2    28748.0  34.5      .7% (2013 est.).  98.7% (2011 est.)   \n",
       "3  2381741.0  35.3                 3.1%.                79%   \n",
       "4      199.0   NaN                   3%.    97% (1980 est.)   \n",
       "\n",
       "        Inflation(%)                                   Unemployement(%)  \n",
       "0  6.8% (2013 est.).                                   35% (2008 est.).  \n",
       "1                NaN                                                NaN  \n",
       "2  1.7% (2013 est.).  16.9% official rate (2013 est.). Note: These a...  \n",
       "3              3.9%.                                             10.3%.  \n",
       "4                NaN                                                NaN  "
      ],
      "text/html": "<div>\n<style scoped>\n    .dataframe tbody tr th:only-of-type {\n        vertical-align: middle;\n    }\n\n    .dataframe tbody tr th {\n        vertical-align: top;\n    }\n\n    .dataframe thead th {\n        text-align: right;\n    }\n</style>\n<table border=\"1\" class=\"dataframe\">\n  <thead>\n    <tr style=\"text-align: right;\">\n      <th></th>\n      <th>Unnamed: 0</th>\n      <th>name</th>\n      <th>region</th>\n      <th>subregion</th>\n      <th>population</th>\n      <th>area</th>\n      <th>gini</th>\n      <th>Real Growth Rating(%)</th>\n      <th>Literacy Rate(%)</th>\n      <th>Inflation(%)</th>\n      <th>Unemployement(%)</th>\n    </tr>\n  </thead>\n  <tbody>\n    <tr>\n      <th>0</th>\n      <td>0</td>\n      <td>Afghanistan</td>\n      <td>Asia</td>\n      <td>Southern Asia</td>\n      <td>27657145</td>\n      <td>652230.0</td>\n      <td>27.8</td>\n      <td>3.1% (2013 est.).</td>\n      <td>28.1% (2000 est.)</td>\n      <td>6.8% (2013 est.).</td>\n      <td>35% (2008 est.).</td>\n    </tr>\n    <tr>\n      <th>1</th>\n      <td>1</td>\n      <td>Åland Islands</td>\n      <td>Europe</td>\n      <td>Northern Europe</td>\n      <td>28875</td>\n      <td>1580.0</td>\n      <td>NaN</td>\n      <td>NaN</td>\n      <td>NaN</td>\n      <td>NaN</td>\n      <td>NaN</td>\n    </tr>\n    <tr>\n      <th>2</th>\n      <td>2</td>\n      <td>Albania</td>\n      <td>Europe</td>\n      <td>Southern Europe</td>\n      <td>2886026</td>\n      <td>28748.0</td>\n      <td>34.5</td>\n      <td>.7% (2013 est.).</td>\n      <td>98.7% (2011 est.)</td>\n      <td>1.7% (2013 est.).</td>\n      <td>16.9% official rate (2013 est.). Note: These a...</td>\n    </tr>\n    <tr>\n      <th>3</th>\n      <td>3</td>\n      <td>Algeria</td>\n      <td>Africa</td>\n      <td>Northern Africa</td>\n      <td>40400000</td>\n      <td>2381741.0</td>\n      <td>35.3</td>\n      <td>3.1%.</td>\n      <td>79%</td>\n      <td>3.9%.</td>\n      <td>10.3%.</td>\n    </tr>\n    <tr>\n      <th>4</th>\n      <td>4</td>\n      <td>American Samoa</td>\n      <td>Oceania</td>\n      <td>Polynesia</td>\n      <td>57100</td>\n      <td>199.0</td>\n      <td>NaN</td>\n      <td>3%.</td>\n      <td>97% (1980 est.)</td>\n      <td>NaN</td>\n      <td>NaN</td>\n    </tr>\n  </tbody>\n</table>\n</div>"
     },
     "metadata": {},
     "execution_count": 3
    }
   ],
   "source": [
    "df_countryData = pd.read_csv('./data/250 Country Data.csv')\n",
    "df_countryData.head(5)"
   ]
  },
  {
   "cell_type": "code",
   "execution_count": 4,
   "metadata": {},
   "outputs": [
    {
     "output_type": "execute_result",
     "data": {
      "text/plain": [
       "       Country  Year      Status  Life expectancy   Adult Mortality  \\\n",
       "0  Afghanistan  2015  Developing              65.0            263.0   \n",
       "1  Afghanistan  2014  Developing              59.9            271.0   \n",
       "2  Afghanistan  2013  Developing              59.9            268.0   \n",
       "3  Afghanistan  2012  Developing              59.5            272.0   \n",
       "4  Afghanistan  2011  Developing              59.2            275.0   \n",
       "\n",
       "   infant deaths  Alcohol  percentage expenditure  Hepatitis B  Measles   ...  \\\n",
       "0             62     0.01               71.279624         65.0      1154  ...   \n",
       "1             64     0.01               73.523582         62.0       492  ...   \n",
       "2             66     0.01               73.219243         64.0       430  ...   \n",
       "3             69     0.01               78.184215         67.0      2787  ...   \n",
       "4             71     0.01                7.097109         68.0      3013  ...   \n",
       "\n",
       "   Polio  Total expenditure  Diphtheria    HIV/AIDS         GDP  Population  \\\n",
       "0    6.0               8.16         65.0        0.1  584.259210  33736494.0   \n",
       "1   58.0               8.18         62.0        0.1  612.696514    327582.0   \n",
       "2   62.0               8.13         64.0        0.1  631.744976  31731688.0   \n",
       "3   67.0               8.52         67.0        0.1  669.959000   3696958.0   \n",
       "4   68.0               7.87         68.0        0.1   63.537231   2978599.0   \n",
       "\n",
       "    thinness  1-19 years   thinness 5-9 years  \\\n",
       "0                   17.2                 17.3   \n",
       "1                   17.5                 17.5   \n",
       "2                   17.7                 17.7   \n",
       "3                   17.9                 18.0   \n",
       "4                   18.2                 18.2   \n",
       "\n",
       "   Income composition of resources  Schooling  \n",
       "0                            0.479       10.1  \n",
       "1                            0.476       10.0  \n",
       "2                            0.470        9.9  \n",
       "3                            0.463        9.8  \n",
       "4                            0.454        9.5  \n",
       "\n",
       "[5 rows x 22 columns]"
      ],
      "text/html": "<div>\n<style scoped>\n    .dataframe tbody tr th:only-of-type {\n        vertical-align: middle;\n    }\n\n    .dataframe tbody tr th {\n        vertical-align: top;\n    }\n\n    .dataframe thead th {\n        text-align: right;\n    }\n</style>\n<table border=\"1\" class=\"dataframe\">\n  <thead>\n    <tr style=\"text-align: right;\">\n      <th></th>\n      <th>Country</th>\n      <th>Year</th>\n      <th>Status</th>\n      <th>Life expectancy</th>\n      <th>Adult Mortality</th>\n      <th>infant deaths</th>\n      <th>Alcohol</th>\n      <th>percentage expenditure</th>\n      <th>Hepatitis B</th>\n      <th>Measles</th>\n      <th>...</th>\n      <th>Polio</th>\n      <th>Total expenditure</th>\n      <th>Diphtheria</th>\n      <th>HIV/AIDS</th>\n      <th>GDP</th>\n      <th>Population</th>\n      <th>thinness  1-19 years</th>\n      <th>thinness 5-9 years</th>\n      <th>Income composition of resources</th>\n      <th>Schooling</th>\n    </tr>\n  </thead>\n  <tbody>\n    <tr>\n      <th>0</th>\n      <td>Afghanistan</td>\n      <td>2015</td>\n      <td>Developing</td>\n      <td>65.0</td>\n      <td>263.0</td>\n      <td>62</td>\n      <td>0.01</td>\n      <td>71.279624</td>\n      <td>65.0</td>\n      <td>1154</td>\n      <td>...</td>\n      <td>6.0</td>\n      <td>8.16</td>\n      <td>65.0</td>\n      <td>0.1</td>\n      <td>584.259210</td>\n      <td>33736494.0</td>\n      <td>17.2</td>\n      <td>17.3</td>\n      <td>0.479</td>\n      <td>10.1</td>\n    </tr>\n    <tr>\n      <th>1</th>\n      <td>Afghanistan</td>\n      <td>2014</td>\n      <td>Developing</td>\n      <td>59.9</td>\n      <td>271.0</td>\n      <td>64</td>\n      <td>0.01</td>\n      <td>73.523582</td>\n      <td>62.0</td>\n      <td>492</td>\n      <td>...</td>\n      <td>58.0</td>\n      <td>8.18</td>\n      <td>62.0</td>\n      <td>0.1</td>\n      <td>612.696514</td>\n      <td>327582.0</td>\n      <td>17.5</td>\n      <td>17.5</td>\n      <td>0.476</td>\n      <td>10.0</td>\n    </tr>\n    <tr>\n      <th>2</th>\n      <td>Afghanistan</td>\n      <td>2013</td>\n      <td>Developing</td>\n      <td>59.9</td>\n      <td>268.0</td>\n      <td>66</td>\n      <td>0.01</td>\n      <td>73.219243</td>\n      <td>64.0</td>\n      <td>430</td>\n      <td>...</td>\n      <td>62.0</td>\n      <td>8.13</td>\n      <td>64.0</td>\n      <td>0.1</td>\n      <td>631.744976</td>\n      <td>31731688.0</td>\n      <td>17.7</td>\n      <td>17.7</td>\n      <td>0.470</td>\n      <td>9.9</td>\n    </tr>\n    <tr>\n      <th>3</th>\n      <td>Afghanistan</td>\n      <td>2012</td>\n      <td>Developing</td>\n      <td>59.5</td>\n      <td>272.0</td>\n      <td>69</td>\n      <td>0.01</td>\n      <td>78.184215</td>\n      <td>67.0</td>\n      <td>2787</td>\n      <td>...</td>\n      <td>67.0</td>\n      <td>8.52</td>\n      <td>67.0</td>\n      <td>0.1</td>\n      <td>669.959000</td>\n      <td>3696958.0</td>\n      <td>17.9</td>\n      <td>18.0</td>\n      <td>0.463</td>\n      <td>9.8</td>\n    </tr>\n    <tr>\n      <th>4</th>\n      <td>Afghanistan</td>\n      <td>2011</td>\n      <td>Developing</td>\n      <td>59.2</td>\n      <td>275.0</td>\n      <td>71</td>\n      <td>0.01</td>\n      <td>7.097109</td>\n      <td>68.0</td>\n      <td>3013</td>\n      <td>...</td>\n      <td>68.0</td>\n      <td>7.87</td>\n      <td>68.0</td>\n      <td>0.1</td>\n      <td>63.537231</td>\n      <td>2978599.0</td>\n      <td>18.2</td>\n      <td>18.2</td>\n      <td>0.454</td>\n      <td>9.5</td>\n    </tr>\n  </tbody>\n</table>\n<p>5 rows × 22 columns</p>\n</div>"
     },
     "metadata": {},
     "execution_count": 4
    }
   ],
   "source": [
    "df_lifeExpectancy = pd.read_csv('./data/Life Expectancy Data.csv')\n",
    "df_lifeExpectancy.head(5)"
   ]
  },
  {
   "cell_type": "code",
   "execution_count": 136,
   "metadata": {},
   "outputs": [
    {
     "output_type": "execute_result",
     "data": {
      "text/plain": [
       "Index(['Country', 'Region', 'Happiness Rank', 'Happiness Score',\n",
       "       'Standard Error', 'Economy (GDP per Capita)', 'Family',\n",
       "       'Health (Life Expectancy)', 'Freedom', 'Trust (Government Corruption)',\n",
       "       'Generosity', 'Dystopia Residual'],\n",
       "      dtype='object')"
      ]
     },
     "metadata": {},
     "execution_count": 136
    }
   ],
   "source": [
    "df_happiness2015 = pd.read_csv('./data/Happiness_Dataset/2015.csv')\n",
    "df_happiness2015.head(5)\n",
    "df_happiness2015.columns"
   ]
  },
  {
   "cell_type": "code",
   "execution_count": 137,
   "metadata": {},
   "outputs": [
    {
     "output_type": "execute_result",
     "data": {
      "text/plain": [
       "Index(['Country', 'Region', 'Happiness_Rank', 'Happiness_Score',\n",
       "       'Standard_Error', 'Economy_GDP_per_Capita', 'Family',\n",
       "       'Health_Life_Expectancy', 'Freedom', 'Trust_Government_Corruption',\n",
       "       'Generosity', 'Dystopia_Residual'],\n",
       "      dtype='object')"
      ]
     },
     "metadata": {},
     "execution_count": 137
    }
   ],
   "source": [
    "df_happiness2015.rename(columns={'Happiness Rank': 'Happiness_Rank',  'Happiness Score': 'Happiness_Score' , 'Standard Error': 'Standard_Error', 'Economy (GDP per Capita)': 'Economy_GDP_per_Capita',  'Health (Life Expectancy)': 'Health_Life_Expectancy', 'Trust (Government Corruption)': 'Trust_Government_Corruption','Dystopia Residual': 'Dystopia_Residual'}, inplace=True)\n",
    "df_happiness2015.columns\n"
   ]
  },
  {
   "cell_type": "code",
   "execution_count": 138,
   "metadata": {},
   "outputs": [
    {
     "output_type": "execute_result",
     "data": {
      "text/plain": [
       "Index(['Country', 'Region', 'Happiness Rank', 'Happiness Score',\n",
       "       'Lower Confidence Interval', 'Upper Confidence Interval',\n",
       "       'Economy (GDP per Capita)', 'Family', 'Health (Life Expectancy)',\n",
       "       'Freedom', 'Trust (Government Corruption)', 'Generosity',\n",
       "       'Dystopia Residual'],\n",
       "      dtype='object')"
      ]
     },
     "metadata": {},
     "execution_count": 138
    }
   ],
   "source": [
    "df_happiness2016 = pd.read_csv('./data/Happiness_Dataset/2016.csv')\n",
    "df_happiness2016.head(5)\n",
    "df_happiness2016.columns"
   ]
  },
  {
   "cell_type": "code",
   "execution_count": 139,
   "metadata": {},
   "outputs": [
    {
     "output_type": "execute_result",
     "data": {
      "text/plain": [
       "Index(['Country', 'Region', 'Happiness_Rank', 'Happiness_Score',\n",
       "       'Lower_Confidence_Interval', 'Upper_Confidence_Interval',\n",
       "       'Economy_GDP_per_Capita', 'Family', 'Health_Life_Expectancy', 'Freedom',\n",
       "       'Trust_Government_Corruption', 'Generosity', 'Dystopia_Residual'],\n",
       "      dtype='object')"
      ]
     },
     "metadata": {},
     "execution_count": 139
    }
   ],
   "source": [
    "df_happiness2016.rename(columns={'Happiness Rank': 'Happiness_Rank',  'Happiness Score': 'Happiness_Score' ,'Lower Confidence Interval': 'Lower_Confidence_Interval', 'Upper Confidence Interval': 'Upper_Confidence_Interval', 'Economy (GDP per Capita)': 'Economy_GDP_per_Capita',  'Health (Life Expectancy)': 'Health_Life_Expectancy', 'Trust (Government Corruption)': 'Trust_Government_Corruption','Dystopia Residual': 'Dystopia_Residual'}, inplace=True)\n",
    "df_happiness2016.columns\n"
   ]
  },
  {
   "cell_type": "code",
   "execution_count": 140,
   "metadata": {},
   "outputs": [
    {
     "output_type": "execute_result",
     "data": {
      "text/plain": [
       "Index(['Country', 'Happiness.Rank', 'Happiness.Score', 'Whisker.high',\n",
       "       'Whisker.low', 'Economy..GDP.per.Capita.', 'Family',\n",
       "       'Health..Life.Expectancy.', 'Freedom', 'Generosity',\n",
       "       'Trust..Government.Corruption.', 'Dystopia.Residual'],\n",
       "      dtype='object')"
      ]
     },
     "metadata": {},
     "execution_count": 140
    }
   ],
   "source": [
    "df_happiness2017 = pd.read_csv('./data/Happiness_Dataset/2017.csv')\n",
    "df_happiness2017.head(5)\n",
    "df_happiness2017.columns"
   ]
  },
  {
   "cell_type": "code",
   "execution_count": 141,
   "metadata": {},
   "outputs": [
    {
     "output_type": "execute_result",
     "data": {
      "text/plain": [
       "Index(['Country', 'Happiness_Rank', 'Happiness_Score',\n",
       "       'Upper_Confidence_Interval', 'Lower_Confidence_Interval',\n",
       "       'Economy_GDP_per_Capita', 'Family', 'Health_Life_Expectancy', 'Freedom',\n",
       "       'Generosity', 'Trust_Government_Corruption', 'Dystopia_Residual'],\n",
       "      dtype='object')"
      ]
     },
     "metadata": {},
     "execution_count": 141
    }
   ],
   "source": [
    "df_happiness2017.rename(columns={'Happiness.Rank': 'Happiness_Rank',  'Happiness.Score': 'Happiness_Score' , 'Whisker.low': 'Lower_Confidence_Interval', 'Whisker.high': 'Upper_Confidence_Interval', 'Economy..GDP.per.Capita.': 'Economy_GDP_per_Capita',  'Health..Life.Expectancy.': 'Health_Life_Expectancy', 'Trust..Government.Corruption.': 'Trust_Government_Corruption','Dystopia.Residual': 'Dystopia_Residual'}, inplace=True)\n",
    "df_happiness2017.columns"
   ]
  },
  {
   "cell_type": "code",
   "execution_count": 142,
   "metadata": {},
   "outputs": [
    {
     "output_type": "execute_result",
     "data": {
      "text/plain": [
       "Index(['Overall rank', 'Country or region', 'Score', 'GDP per capita',\n",
       "       'Social support', 'Healthy life expectancy',\n",
       "       'Freedom to make life choices', 'Generosity',\n",
       "       'Perceptions of corruption'],\n",
       "      dtype='object')"
      ]
     },
     "metadata": {},
     "execution_count": 142
    }
   ],
   "source": [
    "df_happiness2018 = pd.read_csv('./data/Happiness_Dataset/2018.csv')\n",
    "df_happiness2018.head(5)\n",
    "df_happiness2018.columns"
   ]
  },
  {
   "cell_type": "code",
   "execution_count": 143,
   "metadata": {},
   "outputs": [
    {
     "output_type": "execute_result",
     "data": {
      "text/plain": [
       "Index(['Happiness_Rank', 'Country', 'Happiness_Score',\n",
       "       'Economy_GDP_per_Capita', 'Family', 'Health_Life_Expectancy', 'Freedom',\n",
       "       'Generosity', 'Trust_Government_Corruption'],\n",
       "      dtype='object')"
      ]
     },
     "metadata": {},
     "execution_count": 143
    }
   ],
   "source": [
    "df_happiness2018.rename(columns={'Overall rank': 'Happiness_Rank','Country or region':'Country',  'Score': 'Happiness_Score' , 'GDP per capita': 'Economy_GDP_per_Capita',  'Healthy life expectancy': 'Health_Life_Expectancy','Freedom to make life choices':'Freedom', 'Perceptions of corruption': 'Trust_Government_Corruption','Social support':'Family'}, inplace=True)\n",
    "df_happiness2018.columns"
   ]
  },
  {
   "cell_type": "code",
   "execution_count": 144,
   "metadata": {},
   "outputs": [
    {
     "output_type": "execute_result",
     "data": {
      "text/plain": [
       "Index(['Country', 'Region', 'Happiness Rank', 'Happiness Score',\n",
       "       'Standard Error', 'Economy (GDP per Capita)', 'Family',\n",
       "       'Health (Life Expectancy)', 'Freedom', 'Trust (Government Corruption)',\n",
       "       'Generosity', 'Dystopia Residual'],\n",
       "      dtype='object')"
      ]
     },
     "metadata": {},
     "execution_count": 144
    }
   ],
   "source": [
    "df_happiness2019 = pd.read_csv('./data/Happiness_Dataset/2015.csv')\n",
    "df_happiness2019.head(5)\n",
    "df_happiness2019.columns"
   ]
  },
  {
   "cell_type": "code",
   "execution_count": 145,
   "metadata": {},
   "outputs": [
    {
     "output_type": "execute_result",
     "data": {
      "text/plain": [
       "Index(['Country', 'Region', 'Happiness_Rank', 'Happiness_Score',\n",
       "       'Standard_Error', 'Economy_GDP_per_Capita', 'Family',\n",
       "       'Health_Life_Expectancy', 'Freedom', 'Trust_Government_Corruption',\n",
       "       'Generosity', 'Dystopia_Residual'],\n",
       "      dtype='object')"
      ]
     },
     "metadata": {},
     "execution_count": 145
    }
   ],
   "source": [
    "df_happiness2019.rename(columns={'Happiness Rank': 'Happiness_Rank','Happiness Score': 'Happiness_Score' ,'Standard Error':'Standard_Error', 'Economy (GDP per Capita)': 'Economy_GDP_per_Capita',  'Health (Life Expectancy)': 'Health_Life_Expectancy', 'Trust (Government Corruption)': 'Trust_Government_Corruption','Dystopia Residual': 'Dystopia_Residual'}, inplace=True)\n",
    "df_happiness2019.columns"
   ]
  },
  {
   "cell_type": "code",
   "execution_count": 146,
   "metadata": {},
   "outputs": [],
   "source": [
    "df_happiness2015[\"Year\"]=2015\n",
    "df_happiness2016[\"Year\"]=2016\n",
    "df_happiness2017[\"Year\"]=2017\n",
    "df_happiness2018[\"Year\"]=2018\n",
    "df_happiness2019[\"Year\"]=2019"
   ]
  },
  {
   "cell_type": "code",
   "execution_count": 147,
   "metadata": {},
   "outputs": [],
   "source": [
    "df_happiness=pd.concat([df_happiness2015,df_happiness2016,df_happiness2017,df_happiness2018,df_happiness2019])"
   ]
  },
  {
   "cell_type": "code",
   "execution_count": 148,
   "metadata": {},
   "outputs": [],
   "source": [
    "df_happiness.sort_values(by=['Country'], inplace=True)"
   ]
  },
  {
   "cell_type": "code",
   "execution_count": 150,
   "metadata": {},
   "outputs": [
    {
     "output_type": "execute_result",
     "data": {
      "text/plain": [
       "         Country              Region  Happiness_Rank  Happiness_Score  \\\n",
       "152  Afghanistan       Southern Asia             153            3.575   \n",
       "152  Afghanistan       Southern Asia             153            3.575   \n",
       "153  Afghanistan       Southern Asia             154            3.360   \n",
       "140  Afghanistan                 NaN             141            3.794   \n",
       "144  Afghanistan                 NaN             145            3.632   \n",
       "..           ...                 ...             ...              ...   \n",
       "114     Zimbabwe  Sub-Saharan Africa             115            4.610   \n",
       "114     Zimbabwe  Sub-Saharan Africa             115            4.610   \n",
       "130     Zimbabwe  Sub-Saharan Africa             131            4.193   \n",
       "143     Zimbabwe                 NaN             144            3.692   \n",
       "137     Zimbabwe                 NaN             138            3.875   \n",
       "\n",
       "     Standard_Error  Economy_GDP_per_Capita    Family  Health_Life_Expectancy  \\\n",
       "152         0.03084                0.319820  0.302850                0.303350   \n",
       "152         0.03084                0.319820  0.302850                0.303350   \n",
       "153             NaN                0.382270  0.110370                0.173440   \n",
       "140             NaN                0.401477  0.581543                0.180747   \n",
       "144             NaN                0.332000  0.537000                0.255000   \n",
       "..              ...                     ...       ...                     ...   \n",
       "114         0.04290                0.271000  1.032760                0.334750   \n",
       "114         0.04290                0.271000  1.032760                0.334750   \n",
       "130             NaN                0.350410  0.714780                0.159500   \n",
       "143             NaN                0.357000  1.094000                0.248000   \n",
       "137             NaN                0.375847  1.083096                0.196764   \n",
       "\n",
       "      Freedom  Trust_Government_Corruption  Generosity  Dystopia_Residual  \\\n",
       "152  0.234140                     0.097190    0.365100           1.952100   \n",
       "152  0.234140                     0.097190    0.365100           1.952100   \n",
       "153  0.164300                     0.071120    0.312680           2.145580   \n",
       "140  0.106180                     0.061158    0.311871           2.150801   \n",
       "144  0.085000                     0.036000    0.191000                NaN   \n",
       "..        ...                          ...         ...                ...   \n",
       "114  0.258610                     0.080790    0.189870           2.441910   \n",
       "114  0.258610                     0.080790    0.189870           2.441910   \n",
       "130  0.254290                     0.085820    0.185030           2.442700   \n",
       "143  0.406000                     0.099000    0.132000                NaN   \n",
       "137  0.336384                     0.095375    0.189143           1.597970   \n",
       "\n",
       "     Year  Lower_Confidence_Interval  Upper_Confidence_Interval  \n",
       "152  2019                        NaN                        NaN  \n",
       "152  2015                        NaN                        NaN  \n",
       "153  2016                   3.288000                   3.432000  \n",
       "140  2017                   3.714338                   3.873661  \n",
       "144  2018                        NaN                        NaN  \n",
       "..    ...                        ...                        ...  \n",
       "114  2015                        NaN                        NaN  \n",
       "114  2019                        NaN                        NaN  \n",
       "130  2016                   4.101000                   4.285000  \n",
       "143  2018                        NaN                        NaN  \n",
       "137  2017                   3.771300                   3.978700  \n",
       "\n",
       "[784 rows x 15 columns]"
      ],
      "text/html": "<div>\n<style scoped>\n    .dataframe tbody tr th:only-of-type {\n        vertical-align: middle;\n    }\n\n    .dataframe tbody tr th {\n        vertical-align: top;\n    }\n\n    .dataframe thead th {\n        text-align: right;\n    }\n</style>\n<table border=\"1\" class=\"dataframe\">\n  <thead>\n    <tr style=\"text-align: right;\">\n      <th></th>\n      <th>Country</th>\n      <th>Region</th>\n      <th>Happiness_Rank</th>\n      <th>Happiness_Score</th>\n      <th>Standard_Error</th>\n      <th>Economy_GDP_per_Capita</th>\n      <th>Family</th>\n      <th>Health_Life_Expectancy</th>\n      <th>Freedom</th>\n      <th>Trust_Government_Corruption</th>\n      <th>Generosity</th>\n      <th>Dystopia_Residual</th>\n      <th>Year</th>\n      <th>Lower_Confidence_Interval</th>\n      <th>Upper_Confidence_Interval</th>\n    </tr>\n  </thead>\n  <tbody>\n    <tr>\n      <th>152</th>\n      <td>Afghanistan</td>\n      <td>Southern Asia</td>\n      <td>153</td>\n      <td>3.575</td>\n      <td>0.03084</td>\n      <td>0.319820</td>\n      <td>0.302850</td>\n      <td>0.303350</td>\n      <td>0.234140</td>\n      <td>0.097190</td>\n      <td>0.365100</td>\n      <td>1.952100</td>\n      <td>2019</td>\n      <td>NaN</td>\n      <td>NaN</td>\n    </tr>\n    <tr>\n      <th>152</th>\n      <td>Afghanistan</td>\n      <td>Southern Asia</td>\n      <td>153</td>\n      <td>3.575</td>\n      <td>0.03084</td>\n      <td>0.319820</td>\n      <td>0.302850</td>\n      <td>0.303350</td>\n      <td>0.234140</td>\n      <td>0.097190</td>\n      <td>0.365100</td>\n      <td>1.952100</td>\n      <td>2015</td>\n      <td>NaN</td>\n      <td>NaN</td>\n    </tr>\n    <tr>\n      <th>153</th>\n      <td>Afghanistan</td>\n      <td>Southern Asia</td>\n      <td>154</td>\n      <td>3.360</td>\n      <td>NaN</td>\n      <td>0.382270</td>\n      <td>0.110370</td>\n      <td>0.173440</td>\n      <td>0.164300</td>\n      <td>0.071120</td>\n      <td>0.312680</td>\n      <td>2.145580</td>\n      <td>2016</td>\n      <td>3.288000</td>\n      <td>3.432000</td>\n    </tr>\n    <tr>\n      <th>140</th>\n      <td>Afghanistan</td>\n      <td>NaN</td>\n      <td>141</td>\n      <td>3.794</td>\n      <td>NaN</td>\n      <td>0.401477</td>\n      <td>0.581543</td>\n      <td>0.180747</td>\n      <td>0.106180</td>\n      <td>0.061158</td>\n      <td>0.311871</td>\n      <td>2.150801</td>\n      <td>2017</td>\n      <td>3.714338</td>\n      <td>3.873661</td>\n    </tr>\n    <tr>\n      <th>144</th>\n      <td>Afghanistan</td>\n      <td>NaN</td>\n      <td>145</td>\n      <td>3.632</td>\n      <td>NaN</td>\n      <td>0.332000</td>\n      <td>0.537000</td>\n      <td>0.255000</td>\n      <td>0.085000</td>\n      <td>0.036000</td>\n      <td>0.191000</td>\n      <td>NaN</td>\n      <td>2018</td>\n      <td>NaN</td>\n      <td>NaN</td>\n    </tr>\n    <tr>\n      <th>...</th>\n      <td>...</td>\n      <td>...</td>\n      <td>...</td>\n      <td>...</td>\n      <td>...</td>\n      <td>...</td>\n      <td>...</td>\n      <td>...</td>\n      <td>...</td>\n      <td>...</td>\n      <td>...</td>\n      <td>...</td>\n      <td>...</td>\n      <td>...</td>\n      <td>...</td>\n    </tr>\n    <tr>\n      <th>114</th>\n      <td>Zimbabwe</td>\n      <td>Sub-Saharan Africa</td>\n      <td>115</td>\n      <td>4.610</td>\n      <td>0.04290</td>\n      <td>0.271000</td>\n      <td>1.032760</td>\n      <td>0.334750</td>\n      <td>0.258610</td>\n      <td>0.080790</td>\n      <td>0.189870</td>\n      <td>2.441910</td>\n      <td>2015</td>\n      <td>NaN</td>\n      <td>NaN</td>\n    </tr>\n    <tr>\n      <th>114</th>\n      <td>Zimbabwe</td>\n      <td>Sub-Saharan Africa</td>\n      <td>115</td>\n      <td>4.610</td>\n      <td>0.04290</td>\n      <td>0.271000</td>\n      <td>1.032760</td>\n      <td>0.334750</td>\n      <td>0.258610</td>\n      <td>0.080790</td>\n      <td>0.189870</td>\n      <td>2.441910</td>\n      <td>2019</td>\n      <td>NaN</td>\n      <td>NaN</td>\n    </tr>\n    <tr>\n      <th>130</th>\n      <td>Zimbabwe</td>\n      <td>Sub-Saharan Africa</td>\n      <td>131</td>\n      <td>4.193</td>\n      <td>NaN</td>\n      <td>0.350410</td>\n      <td>0.714780</td>\n      <td>0.159500</td>\n      <td>0.254290</td>\n      <td>0.085820</td>\n      <td>0.185030</td>\n      <td>2.442700</td>\n      <td>2016</td>\n      <td>4.101000</td>\n      <td>4.285000</td>\n    </tr>\n    <tr>\n      <th>143</th>\n      <td>Zimbabwe</td>\n      <td>NaN</td>\n      <td>144</td>\n      <td>3.692</td>\n      <td>NaN</td>\n      <td>0.357000</td>\n      <td>1.094000</td>\n      <td>0.248000</td>\n      <td>0.406000</td>\n      <td>0.099000</td>\n      <td>0.132000</td>\n      <td>NaN</td>\n      <td>2018</td>\n      <td>NaN</td>\n      <td>NaN</td>\n    </tr>\n    <tr>\n      <th>137</th>\n      <td>Zimbabwe</td>\n      <td>NaN</td>\n      <td>138</td>\n      <td>3.875</td>\n      <td>NaN</td>\n      <td>0.375847</td>\n      <td>1.083096</td>\n      <td>0.196764</td>\n      <td>0.336384</td>\n      <td>0.095375</td>\n      <td>0.189143</td>\n      <td>1.597970</td>\n      <td>2017</td>\n      <td>3.771300</td>\n      <td>3.978700</td>\n    </tr>\n  </tbody>\n</table>\n<p>784 rows × 15 columns</p>\n</div>"
     },
     "metadata": {},
     "execution_count": 150
    }
   ],
   "source": [
    "df_happiness"
   ]
  },
  {
   "cell_type": "code",
   "execution_count": 5,
   "metadata": {},
   "outputs": [
    {
     "output_type": "execute_result",
     "data": {
      "text/plain": [
       "          Country  Year      Status  Life expectancy   Adult Mortality  \\\n",
       "0     Afghanistan  2015  Developing              65.0            263.0   \n",
       "1     Afghanistan  2014  Developing              59.9            271.0   \n",
       "2     Afghanistan  2013  Developing              59.9            268.0   \n",
       "3     Afghanistan  2012  Developing              59.5            272.0   \n",
       "4     Afghanistan  2011  Developing              59.2            275.0   \n",
       "...           ...   ...         ...               ...              ...   \n",
       "2933     Zimbabwe  2004  Developing              44.3            723.0   \n",
       "2934     Zimbabwe  2003  Developing              44.5            715.0   \n",
       "2935     Zimbabwe  2002  Developing              44.8             73.0   \n",
       "2936     Zimbabwe  2001  Developing              45.3            686.0   \n",
       "2937     Zimbabwe  2000  Developing              46.0            665.0   \n",
       "\n",
       "      infant deaths  Alcohol  percentage expenditure  Hepatitis B  Measles   \\\n",
       "0                62     0.01               71.279624         65.0      1154   \n",
       "1                64     0.01               73.523582         62.0       492   \n",
       "2                66     0.01               73.219243         64.0       430   \n",
       "3                69     0.01               78.184215         67.0      2787   \n",
       "4                71     0.01                7.097109         68.0      3013   \n",
       "...             ...      ...                     ...          ...       ...   \n",
       "2933             27     4.36                0.000000         68.0        31   \n",
       "2934             26     4.06                0.000000          7.0       998   \n",
       "2935             25     4.43                0.000000         73.0       304   \n",
       "2936             25     1.72                0.000000         76.0       529   \n",
       "2937             24     1.68                0.000000         79.0      1483   \n",
       "\n",
       "      ...  Polio  Total expenditure  Diphtheria    HIV/AIDS         GDP  \\\n",
       "0     ...    6.0               8.16         65.0        0.1  584.259210   \n",
       "1     ...   58.0               8.18         62.0        0.1  612.696514   \n",
       "2     ...   62.0               8.13         64.0        0.1  631.744976   \n",
       "3     ...   67.0               8.52         67.0        0.1  669.959000   \n",
       "4     ...   68.0               7.87         68.0        0.1   63.537231   \n",
       "...   ...    ...                ...          ...        ...         ...   \n",
       "2933  ...   67.0               7.13         65.0       33.6  454.366654   \n",
       "2934  ...    7.0               6.52         68.0       36.7  453.351155   \n",
       "2935  ...   73.0               6.53         71.0       39.8   57.348340   \n",
       "2936  ...   76.0               6.16         75.0       42.1  548.587312   \n",
       "2937  ...   78.0               7.10         78.0       43.5  547.358879   \n",
       "\n",
       "      Population   thinness  1-19 years   thinness 5-9 years  \\\n",
       "0     33736494.0                   17.2                 17.3   \n",
       "1       327582.0                   17.5                 17.5   \n",
       "2     31731688.0                   17.7                 17.7   \n",
       "3      3696958.0                   17.9                 18.0   \n",
       "4      2978599.0                   18.2                 18.2   \n",
       "...          ...                    ...                  ...   \n",
       "2933  12777511.0                    9.4                  9.4   \n",
       "2934  12633897.0                    9.8                  9.9   \n",
       "2935    125525.0                    1.2                  1.3   \n",
       "2936  12366165.0                    1.6                  1.7   \n",
       "2937  12222251.0                   11.0                 11.2   \n",
       "\n",
       "      Income composition of resources  Schooling  \n",
       "0                               0.479       10.1  \n",
       "1                               0.476       10.0  \n",
       "2                               0.470        9.9  \n",
       "3                               0.463        9.8  \n",
       "4                               0.454        9.5  \n",
       "...                               ...        ...  \n",
       "2933                            0.407        9.2  \n",
       "2934                            0.418        9.5  \n",
       "2935                            0.427       10.0  \n",
       "2936                            0.427        9.8  \n",
       "2937                            0.434        9.8  \n",
       "\n",
       "[2938 rows x 22 columns]"
      ],
      "text/html": "<div>\n<style scoped>\n    .dataframe tbody tr th:only-of-type {\n        vertical-align: middle;\n    }\n\n    .dataframe tbody tr th {\n        vertical-align: top;\n    }\n\n    .dataframe thead th {\n        text-align: right;\n    }\n</style>\n<table border=\"1\" class=\"dataframe\">\n  <thead>\n    <tr style=\"text-align: right;\">\n      <th></th>\n      <th>Country</th>\n      <th>Year</th>\n      <th>Status</th>\n      <th>Life expectancy</th>\n      <th>Adult Mortality</th>\n      <th>infant deaths</th>\n      <th>Alcohol</th>\n      <th>percentage expenditure</th>\n      <th>Hepatitis B</th>\n      <th>Measles</th>\n      <th>...</th>\n      <th>Polio</th>\n      <th>Total expenditure</th>\n      <th>Diphtheria</th>\n      <th>HIV/AIDS</th>\n      <th>GDP</th>\n      <th>Population</th>\n      <th>thinness  1-19 years</th>\n      <th>thinness 5-9 years</th>\n      <th>Income composition of resources</th>\n      <th>Schooling</th>\n    </tr>\n  </thead>\n  <tbody>\n    <tr>\n      <th>0</th>\n      <td>Afghanistan</td>\n      <td>2015</td>\n      <td>Developing</td>\n      <td>65.0</td>\n      <td>263.0</td>\n      <td>62</td>\n      <td>0.01</td>\n      <td>71.279624</td>\n      <td>65.0</td>\n      <td>1154</td>\n      <td>...</td>\n      <td>6.0</td>\n      <td>8.16</td>\n      <td>65.0</td>\n      <td>0.1</td>\n      <td>584.259210</td>\n      <td>33736494.0</td>\n      <td>17.2</td>\n      <td>17.3</td>\n      <td>0.479</td>\n      <td>10.1</td>\n    </tr>\n    <tr>\n      <th>1</th>\n      <td>Afghanistan</td>\n      <td>2014</td>\n      <td>Developing</td>\n      <td>59.9</td>\n      <td>271.0</td>\n      <td>64</td>\n      <td>0.01</td>\n      <td>73.523582</td>\n      <td>62.0</td>\n      <td>492</td>\n      <td>...</td>\n      <td>58.0</td>\n      <td>8.18</td>\n      <td>62.0</td>\n      <td>0.1</td>\n      <td>612.696514</td>\n      <td>327582.0</td>\n      <td>17.5</td>\n      <td>17.5</td>\n      <td>0.476</td>\n      <td>10.0</td>\n    </tr>\n    <tr>\n      <th>2</th>\n      <td>Afghanistan</td>\n      <td>2013</td>\n      <td>Developing</td>\n      <td>59.9</td>\n      <td>268.0</td>\n      <td>66</td>\n      <td>0.01</td>\n      <td>73.219243</td>\n      <td>64.0</td>\n      <td>430</td>\n      <td>...</td>\n      <td>62.0</td>\n      <td>8.13</td>\n      <td>64.0</td>\n      <td>0.1</td>\n      <td>631.744976</td>\n      <td>31731688.0</td>\n      <td>17.7</td>\n      <td>17.7</td>\n      <td>0.470</td>\n      <td>9.9</td>\n    </tr>\n    <tr>\n      <th>3</th>\n      <td>Afghanistan</td>\n      <td>2012</td>\n      <td>Developing</td>\n      <td>59.5</td>\n      <td>272.0</td>\n      <td>69</td>\n      <td>0.01</td>\n      <td>78.184215</td>\n      <td>67.0</td>\n      <td>2787</td>\n      <td>...</td>\n      <td>67.0</td>\n      <td>8.52</td>\n      <td>67.0</td>\n      <td>0.1</td>\n      <td>669.959000</td>\n      <td>3696958.0</td>\n      <td>17.9</td>\n      <td>18.0</td>\n      <td>0.463</td>\n      <td>9.8</td>\n    </tr>\n    <tr>\n      <th>4</th>\n      <td>Afghanistan</td>\n      <td>2011</td>\n      <td>Developing</td>\n      <td>59.2</td>\n      <td>275.0</td>\n      <td>71</td>\n      <td>0.01</td>\n      <td>7.097109</td>\n      <td>68.0</td>\n      <td>3013</td>\n      <td>...</td>\n      <td>68.0</td>\n      <td>7.87</td>\n      <td>68.0</td>\n      <td>0.1</td>\n      <td>63.537231</td>\n      <td>2978599.0</td>\n      <td>18.2</td>\n      <td>18.2</td>\n      <td>0.454</td>\n      <td>9.5</td>\n    </tr>\n    <tr>\n      <th>...</th>\n      <td>...</td>\n      <td>...</td>\n      <td>...</td>\n      <td>...</td>\n      <td>...</td>\n      <td>...</td>\n      <td>...</td>\n      <td>...</td>\n      <td>...</td>\n      <td>...</td>\n      <td>...</td>\n      <td>...</td>\n      <td>...</td>\n      <td>...</td>\n      <td>...</td>\n      <td>...</td>\n      <td>...</td>\n      <td>...</td>\n      <td>...</td>\n      <td>...</td>\n      <td>...</td>\n    </tr>\n    <tr>\n      <th>2933</th>\n      <td>Zimbabwe</td>\n      <td>2004</td>\n      <td>Developing</td>\n      <td>44.3</td>\n      <td>723.0</td>\n      <td>27</td>\n      <td>4.36</td>\n      <td>0.000000</td>\n      <td>68.0</td>\n      <td>31</td>\n      <td>...</td>\n      <td>67.0</td>\n      <td>7.13</td>\n      <td>65.0</td>\n      <td>33.6</td>\n      <td>454.366654</td>\n      <td>12777511.0</td>\n      <td>9.4</td>\n      <td>9.4</td>\n      <td>0.407</td>\n      <td>9.2</td>\n    </tr>\n    <tr>\n      <th>2934</th>\n      <td>Zimbabwe</td>\n      <td>2003</td>\n      <td>Developing</td>\n      <td>44.5</td>\n      <td>715.0</td>\n      <td>26</td>\n      <td>4.06</td>\n      <td>0.000000</td>\n      <td>7.0</td>\n      <td>998</td>\n      <td>...</td>\n      <td>7.0</td>\n      <td>6.52</td>\n      <td>68.0</td>\n      <td>36.7</td>\n      <td>453.351155</td>\n      <td>12633897.0</td>\n      <td>9.8</td>\n      <td>9.9</td>\n      <td>0.418</td>\n      <td>9.5</td>\n    </tr>\n    <tr>\n      <th>2935</th>\n      <td>Zimbabwe</td>\n      <td>2002</td>\n      <td>Developing</td>\n      <td>44.8</td>\n      <td>73.0</td>\n      <td>25</td>\n      <td>4.43</td>\n      <td>0.000000</td>\n      <td>73.0</td>\n      <td>304</td>\n      <td>...</td>\n      <td>73.0</td>\n      <td>6.53</td>\n      <td>71.0</td>\n      <td>39.8</td>\n      <td>57.348340</td>\n      <td>125525.0</td>\n      <td>1.2</td>\n      <td>1.3</td>\n      <td>0.427</td>\n      <td>10.0</td>\n    </tr>\n    <tr>\n      <th>2936</th>\n      <td>Zimbabwe</td>\n      <td>2001</td>\n      <td>Developing</td>\n      <td>45.3</td>\n      <td>686.0</td>\n      <td>25</td>\n      <td>1.72</td>\n      <td>0.000000</td>\n      <td>76.0</td>\n      <td>529</td>\n      <td>...</td>\n      <td>76.0</td>\n      <td>6.16</td>\n      <td>75.0</td>\n      <td>42.1</td>\n      <td>548.587312</td>\n      <td>12366165.0</td>\n      <td>1.6</td>\n      <td>1.7</td>\n      <td>0.427</td>\n      <td>9.8</td>\n    </tr>\n    <tr>\n      <th>2937</th>\n      <td>Zimbabwe</td>\n      <td>2000</td>\n      <td>Developing</td>\n      <td>46.0</td>\n      <td>665.0</td>\n      <td>24</td>\n      <td>1.68</td>\n      <td>0.000000</td>\n      <td>79.0</td>\n      <td>1483</td>\n      <td>...</td>\n      <td>78.0</td>\n      <td>7.10</td>\n      <td>78.0</td>\n      <td>43.5</td>\n      <td>547.358879</td>\n      <td>12222251.0</td>\n      <td>11.0</td>\n      <td>11.2</td>\n      <td>0.434</td>\n      <td>9.8</td>\n    </tr>\n  </tbody>\n</table>\n<p>2938 rows × 22 columns</p>\n</div>"
     },
     "metadata": {},
     "execution_count": 5
    }
   ],
   "source": [
    "df_lifeExpectancy"
   ]
  },
  {
   "cell_type": "code",
   "execution_count": 6,
   "metadata": {},
   "outputs": [],
   "source": [
    "import numpy as np\n",
    "from sklearn.linear_model import LinearRegression"
   ]
  },
  {
   "cell_type": "code",
   "execution_count": 7,
   "metadata": {},
   "outputs": [],
   "source": [
    "model = LinearRegression()"
   ]
  },
  {
   "cell_type": "code",
   "execution_count": 38,
   "metadata": {},
   "outputs": [],
   "source": [
    "countriesAvailable=df_lifeExpectancy.groupby(['Country']).groups.keys()\n",
    "countriesList =[*countriesAvailable]"
   ]
  },
  {
   "cell_type": "code",
   "execution_count": 44,
   "metadata": {
    "tags": []
   },
   "outputs": [
    {
     "output_type": "stream",
     "name": "stdout",
     "text": [
      "        Country  Year      Status  Life expectancy   Adult Mortality  \\\n0   Afghanistan  2015  Developing              65.0            263.0   \n1   Afghanistan  2014  Developing              59.9            271.0   \n2   Afghanistan  2013  Developing              59.9            268.0   \n3   Afghanistan  2012  Developing              59.5            272.0   \n4   Afghanistan  2011  Developing              59.2            275.0   \n5   Afghanistan  2010  Developing              58.8            279.0   \n6   Afghanistan  2009  Developing              58.6            281.0   \n7   Afghanistan  2008  Developing              58.1            287.0   \n8   Afghanistan  2007  Developing              57.5            295.0   \n9   Afghanistan  2006  Developing              57.3            295.0   \n10  Afghanistan  2005  Developing              57.3            291.0   \n11  Afghanistan  2004  Developing              57.0            293.0   \n12  Afghanistan  2003  Developing              56.7            295.0   \n13  Afghanistan  2002  Developing              56.2              3.0   \n14  Afghanistan  2001  Developing              55.3            316.0   \n15  Afghanistan  2000  Developing              54.8            321.0   \n\n    infant deaths  Alcohol  percentage expenditure  Hepatitis B  Measles   \\\n0              62     0.01               71.279624         65.0      1154   \n1              64     0.01               73.523582         62.0       492   \n2              66     0.01               73.219243         64.0       430   \n3              69     0.01               78.184215         67.0      2787   \n4              71     0.01                7.097109         68.0      3013   \n5              74     0.01               79.679367         66.0      1989   \n6              77     0.01               56.762217         63.0      2861   \n7              80     0.03               25.873925         64.0      1599   \n8              82     0.02               10.910156         63.0      1141   \n9              84     0.03               17.171518         64.0      1990   \n10             85     0.02                1.388648         66.0      1296   \n11             87     0.02               15.296066         67.0       466   \n12             87     0.01               11.089053         65.0       798   \n13             88     0.01               16.887351         64.0      2486   \n14             88     0.01               10.574728         63.0      8762   \n15             88     0.01               10.424960         62.0      6532   \n\n    ...  Polio  Total expenditure  Diphtheria    HIV/AIDS         GDP  \\\n0   ...    6.0               8.16         65.0        0.1  584.259210   \n1   ...   58.0               8.18         62.0        0.1  612.696514   \n2   ...   62.0               8.13         64.0        0.1  631.744976   \n3   ...   67.0               8.52         67.0        0.1  669.959000   \n4   ...   68.0               7.87         68.0        0.1   63.537231   \n5   ...   66.0               9.20         66.0        0.1  553.328940   \n6   ...   63.0               9.42         63.0        0.1  445.893298   \n7   ...   64.0               8.33         64.0        0.1  373.361116   \n8   ...   63.0               6.73         63.0        0.1  369.835796   \n9   ...   58.0               7.43         58.0        0.1  272.563770   \n10  ...   58.0               8.70         58.0        0.1   25.294130   \n11  ...    5.0               8.79          5.0        0.1  219.141353   \n12  ...   41.0               8.82         41.0        0.1  198.728544   \n13  ...   36.0               7.76         36.0        0.1  187.845950   \n14  ...   35.0               7.80         33.0        0.1  117.496980   \n15  ...   24.0               8.20         24.0        0.1  114.560000   \n\n    Population   thinness  1-19 years   thinness 5-9 years  \\\n0   33736494.0                   17.2                 17.3   \n1     327582.0                   17.5                 17.5   \n2   31731688.0                   17.7                 17.7   \n3    3696958.0                   17.9                 18.0   \n4    2978599.0                   18.2                 18.2   \n5    2883167.0                   18.4                 18.4   \n6     284331.0                   18.6                 18.7   \n7    2729431.0                   18.8                 18.9   \n8   26616792.0                   19.0                 19.1   \n9    2589345.0                   19.2                 19.3   \n10    257798.0                   19.3                 19.5   \n11  24118979.0                   19.5                 19.7   \n12   2364851.0                   19.7                 19.9   \n13  21979923.0                   19.9                  2.2   \n14   2966463.0                    2.1                  2.4   \n15    293756.0                    2.3                  2.5   \n\n    Income composition of resources  Schooling  \n0                             0.479       10.1  \n1                             0.476       10.0  \n2                             0.470        9.9  \n3                             0.463        9.8  \n4                             0.454        9.5  \n5                             0.448        9.2  \n6                             0.434        8.9  \n7                             0.433        8.7  \n8                             0.415        8.4  \n9                             0.405        8.1  \n10                            0.396        7.9  \n11                            0.381        6.8  \n12                            0.373        6.5  \n13                            0.341        6.2  \n14                            0.340        5.9  \n15                            0.338        5.5  \n\n[16 rows x 22 columns]\n"
     ]
    }
   ],
   "source": [
    "for country in countriesList:\n",
    "    countriesLifeExpectancy=df_lifeExpectancy[df_lifeExpectancy['Country']==country]\n",
    "    print(countriesLifeExpectancy)\n",
    "    break"
   ]
  },
  {
   "cell_type": "code",
   "execution_count": null,
   "metadata": {},
   "outputs": [],
   "source": []
  }
 ]
}